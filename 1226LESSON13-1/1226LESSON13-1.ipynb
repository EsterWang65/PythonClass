{
 "cells": [
  {
   "cell_type": "code",
   "execution_count": 1,
   "metadata": {},
   "outputs": [],
   "source": [
    "from openpyxl import Workbook\n",
    "\n",
    "wb = Workbook()\n",
    "ws = wb.active\n",
    "ws.title = \"三年6班\"  #建立一新workbook時，系統預設會至少有一sheet，名為sheet，若想改名則可用.title = \"...\"\n",
    "ws['A1'] = \"姓名\"  #給A1格一個值\n",
    "ws['B1'] = \"國文\"\n",
    "ws['C1'] = \"英文\"\n",
    "ws['D1'] = \"數學\"\n",
    "ws['E1'] = \"地理\"\n",
    "ws['F1'] = \"歷史\"\n",
    "ws.append([\"陳樂紫\",83,79,99,53,83])\n",
    "ws.append([\"郭舜昇\",55,65,61,85,69])\n",
    "ws.append([\"羅佩樺\",60,55,79,80,75])\n",
    "wb.save(\"三年6班.xlsx\")"
   ]
  }
 ],
 "metadata": {
  "kernelspec": {
   "display_name": "Python 3",
   "language": "python",
   "name": "python3"
  },
  "language_info": {
   "codemirror_mode": {
    "name": "ipython",
    "version": 3
   },
   "file_extension": ".py",
   "mimetype": "text/x-python",
   "name": "python",
   "nbconvert_exporter": "python",
   "pygments_lexer": "ipython3",
   "version": "3.10.13"
  }
 },
 "nbformat": 4,
 "nbformat_minor": 2
}
