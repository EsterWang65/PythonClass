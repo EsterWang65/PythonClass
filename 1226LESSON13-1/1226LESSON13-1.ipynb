{
 "cells": [
  {
   "cell_type": "code",
   "execution_count": 6,
   "metadata": {},
   "outputs": [
    {
     "name": "stdout",
     "output_type": "stream",
     "text": [
      "請輸入學生的人數(1~50)："
     ]
    },
    {
     "name": "stdout",
     "output_type": "stream",
     "text": [
      "5\n",
      "請輸入檔案名稱(不用輸入副檔名稱)：class1\n",
      "請問要輸出哪一個格式\n",
      "按1.excel\n",
      "按2.csv\n",
      "請選擇：1\n",
      "檔案名是class1.xlsx\n",
      "[{'姓名': '魏秋萍', '國文': 58, '英文': 93, '數學': 77, '地理': 55, '歷史': 64}, {'姓名': '簡美君', '國文': 96, '英文': 78, '數學': 70, '地理': 51, '歷史': 99}, {'姓名': '陳怡伶', '國文': 68, '英文': 94, '數學': 59, '地理': 89, '歷史': 91}, {'姓名': '楊易政', '國文': 58, '英文': 78, '數學': 60, '地理': 48, '歷史': 81}, {'姓名': '高智超', '國文': 51, '英文': 54, '數學': 97, '地理': 65, '歷史': 85}]\n",
      "['魏秋萍', 58, 93, 77, 55, 64]\n",
      "['簡美君', 96, 78, 70, 51, 99]\n",
      "['陳怡伶', 68, 94, 59, 89, 91]\n",
      "['楊易政', 58, 78, 60, 48, 81]\n",
      "['高智超', 51, 54, 97, 65, 85]\n"
     ]
    }
   ],
   "source": [
    "#優化：可將資料存為csv及xlsx檔\n",
    "from random import randint,choices\n",
    "import pyinputplus as pyip\n",
    "import csv\n",
    "from openpyxl import Workbook\n",
    "\n",
    "def getStudents(nameNum:int) -> list[dict]:\n",
    "    students:list[dict] = []\n",
    "    with open(\"names.txt\",\"r\",encoding = \"utf-8\") as f:\n",
    "        name:str = f.read()\n",
    "    nameList:list[str] = name.split('\\n')\n",
    "    names:list[str] = choices(nameList, k = nameNum)\n",
    "    for i in range(len(names)):\n",
    "        stu = {\n",
    "        \"姓名\":names[i],\n",
    "        \"國文\":randint(45,100),\n",
    "        \"英文\":randint(45,100),\n",
    "        \"數學\":randint(45,100),\n",
    "        \"地理\":randint(45,100),\n",
    "        \"歷史\":randint(45,100)\n",
    "        }\n",
    "        students.append(stu)\n",
    "\n",
    "    return students\n",
    "\n",
    "def save_to_csv(students:list[dict],fileName:str) -> None:\n",
    "    fileNameWithExtension:str = fileName + \".csv\"\n",
    "    with open(fileNameWithExtension,mode = 'w',encoding = \"utf-8\",newline = '') as f:\n",
    "        fieldnames = [\"姓名\",\"國文\",\"英文\",\"數學\",\"地理\",\"歷史\"]\n",
    "        writer = csv.DictWriter(f,fieldnames = fieldnames)\n",
    "        writer.writeheader()\n",
    "        writer.writerows(students)\n",
    "    print(\"寫入成功\")\n",
    "\n",
    "def save_to_excel(students:list[dict],fileName:str) -> None:\n",
    "    fileNameWithExtension:str = fileName + \".xlsx\"\n",
    "    print(f\"檔案名是{fileNameWithExtension}\")\n",
    "    print(students)\n",
    "    wb = Workbook()\n",
    "    ws = wb.active\n",
    "    ws.title = fileName\n",
    "    ws['A1'] = \"姓名\"  \n",
    "    ws['B1'] = \"國文\"\n",
    "    ws['C1'] = \"英文\"\n",
    "    ws['D1'] = \"數學\"\n",
    "    ws['E1'] = \"地理\"\n",
    "    ws['F1'] = \"歷史\"\n",
    "    for student in students:\n",
    "        studentData:list = list(student.values())\n",
    "        print(studentData) \n",
    "        # print(type(studentData))\n",
    "        '''dict物件變數名稱.values()為一實體method，可顯示該dict的所有value值，\n",
    "        但其形態會是dict_values，執行結果為dict_values([...])，一般稱之為list like，但並非真正的list，\n",
    "        故用list()將其轉為list，以便後續存取資料時用。'''\n",
    "        ws.append(studentData)\n",
    "    wb.save(fileNameWithExtension)\n",
    "\n",
    "\n",
    "if __name__ == \"__main__\":\n",
    "    stuNum:int = pyip.inputInt(\"請輸入學生的人數(1~50)：\",min = 1,max = 50)\n",
    "    print(stuNum)\n",
    "    students = getStudents(stuNum)\n",
    "    fileName = pyip.inputFilename(\"請輸入檔案名稱(不用輸入副檔名稱)：\")\n",
    "    print(fileName)\n",
    "    format = pyip.inputChoice(['1','2'],\"請問要輸出哪一個格式\\n按1.excel\\n按2.csv\\n請選擇：\")\n",
    "    print(format)\n",
    "    if format == '1':\n",
    "        save_to_excel(students,fileName)\n",
    "    else:\n",
    "        save_to_csv(students,fileName)\n",
    "    \n"
   ]
  }
 ],
 "metadata": {
  "kernelspec": {
   "display_name": "Python 3",
   "language": "python",
   "name": "python3"
  },
  "language_info": {
   "codemirror_mode": {
    "name": "ipython",
    "version": 3
   },
   "file_extension": ".py",
   "mimetype": "text/x-python",
   "name": "python",
   "nbconvert_exporter": "python",
   "pygments_lexer": "ipython3",
   "version": "3.11.7"
  }
 },
 "nbformat": 4,
 "nbformat_minor": 2
}
