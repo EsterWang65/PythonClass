{
 "cells": [
  {
   "cell_type": "code",
   "execution_count": 1,
   "metadata": {},
   "outputs": [
    {
     "data": {
      "text/plain": [
       "<__main__.Person at 0x7f97a05cba90>"
      ]
     },
     "metadata": {},
     "output_type": "display_data"
    },
    {
     "data": {
      "text/plain": [
       "__main__.Person"
      ]
     },
     "metadata": {},
     "output_type": "display_data"
    }
   ],
   "source": [
    "#物件產生與類別規劃\n",
    "'''建立類別(可把類別想為一工廠) --生產init()(內建)--> 建立實體(物件)並用一變數名稱來接收。'''\n",
    "\n",
    "##建立類別\n",
    "'''建立類別基本架構：\n",
    "class 類別名稱:  程式區塊。\n",
    "注意：通常類別的命名會將第一個字母大寫。'''\n",
    "class Person:  #建立類別\n",
    "    pass\n",
    "\n",
    "p1 = Person()  #建立實體\n",
    "display(p1)\n",
    "'''執行結果為：<__main__.Person at 0x7f97a05cba90>，意思為p1為在此檔案/文件裡面的Person類別建立出來的實體，\n",
    "其中__main__意思為此檔案/文件。'''\n",
    "display(type(p1))  #type(object)此函數會告訴你此object物件為哪一個類別所建立的實體"
   ]
  },
  {
   "cell_type": "code",
   "execution_count": 2,
   "metadata": {},
   "outputs": [
    {
     "name": "stdout",
     "output_type": "stream",
     "text": [
      "小明\n",
      "18\n",
      "John\n",
      "33\n"
     ]
    },
    {
     "data": {
      "text/plain": [
       "'用dir(object)函數可查看object物件裡有哪些東西(attribute或function等)，\\n其中「__...__」前後有兩個底線的都是內建的，而前後沒有底線的(如此處的name和age)就是自訂的。'"
      ]
     },
     "execution_count": 2,
     "metadata": {},
     "output_type": "execute_result"
    }
   ],
   "source": [
    "##建立屬性(attribute)\n",
    "'''一個實體(物件)可儲存多個資料，稱為attribute屬性。\n",
    "attribute分為兩種：\n",
    "實體屬性：在主程式中建立物件後自行給定的attribute，\n",
    "建立屬性基本架構：物件名稱.屬性名稱 = 屬性值；\n",
    "類別屬性：在自訂建立類別時，先設定好每個物件都要有的共同屬性，\n",
    "然後於主程式建立物件時再給定這些共同屬性一個專屬此物件的值(屬性值)\n",
    "建立類別屬性基本架構：class 類別名稱:  def __init__(self,各種參數):  程式區塊。\n",
    "__init__()此method可接收多個參數，然後傳遞給self的成員，使其成為該物件的資料。\n",
    "注意：()內第一個參數必須為self，代表指向物件本身。\n",
    "另外，除了attribute還有另一種稱為property的屬性。'''\n",
    "##建立實體屬性\n",
    "class Person:\n",
    "    pass\n",
    "\n",
    "p1 = p2 = Person()\n",
    "p1.name = \"小明\"  #建立實體屬性\n",
    "p1.age = 18  #建立實體屬性\n",
    "print(p1.name)  #取出實體屬性\n",
    "print(p1.age)  #取出實體屬性\n",
    "p2.name = \"John\"  #建立實體屬性\n",
    "p2.age = 33  #建立實體屬性\n",
    "print(p2.name)  #取出實體屬性\n",
    "print(p2.age)  #取出實體屬性\n",
    "\n",
    "'''用dir(object)函數可查看object物件裡有哪些東西(attribute或function等)，\n",
    "其中「__...__」前後有兩個底線的都是內建的，而前後沒有底線的(如此處的name和age)就是自訂的。'''\n",
    " display(dir(p1))\n",
    " display(dir(p2))"
   ]
  },
  {
   "cell_type": "code",
   "execution_count": 14,
   "metadata": {},
   "outputs": [
    {
     "name": "stdout",
     "output_type": "stream",
     "text": [
      "執行初始化\n",
      "xxx\n",
      "0\n",
      "執行初始化\n",
      "xxx\n",
      "0\n"
     ]
    }
   ],
   "source": [
    "##建立類別屬性\n",
    "class Person:\n",
    "    def __init__(self):\n",
    "        self.name = \"xxx\"\n",
    "        self.age = 0\n",
    "        print(\"執行初始化\")\n",
    "\n",
    "p1 = Person()  #建立實體1(物件1)\n",
    "print(p1.name)\n",
    "print(p1.age)\n",
    "p2 = Person()  #建立實體2(物件2)\n",
    "print(p2.name)\n",
    "print(p2.age)\n",
    "'''用p1說明：p1 = Person()時系統會先執行Person()，系統會建立一Person的實體，\n",
    "並將此實體傳遞給self(由self操控此實體)，同時建立name跟age並執行輸出(print)，\n",
    "接著Person()執行結束後再將此實體指定給p1，此時就不是由self參數在管理此實體了。'''"
   ]
  },
  {
   "cell_type": "code",
   "execution_count": 19,
   "metadata": {},
   "outputs": [
    {
     "name": "stdout",
     "output_type": "stream",
     "text": [
      "小明\n",
      "18\n",
      "John\n",
      "33\n"
     ]
    }
   ],
   "source": [
    "##建立類別屬性\n",
    "'''上一範例中attribute在建立類別時都已經給定好初始值了，\n",
    "但每一實體(物件)的屬性值不會都一樣，故可在自訂類別時設定參數，並將這些參數指定給attribute，\n",
    "如此在主程式建立物件(呼叫)時便可自行給定參數值(引數值)，而這些值會再指定給attribute。\n",
    "注意：若自訂類別有參數，在主程式呼建立物件時記得要給引數值，self除外，系統在執行該自訂類別時，會自動傳到self參數。'''\n",
    "class Person:\n",
    "    def __init__(self,n,a):\n",
    "        self.name = n\n",
    "        self.age = a\n",
    "\n",
    "p1 = Person(\"小明\",18)  #引數值的呼叫\n",
    "print(p1.name)\n",
    "print(p1.age)\n",
    "p2 = Person(n = \"John\",a = 33)  #引數名稱的呼叫\n",
    "print(p2.name)\n",
    "print(p2.age)\n",
    "'''用p1說明：p1 = Person()時系統會先執行Person()，系統會建立一Person的實體，\n",
    "並將此實體傳遞給self，同時將引數值(\"小明\",18)傳給參數(n,a)再指定給attribute(name,age)，\n",
    "然而此時的實體使用範圍僅有在宣告區塊內(def...)，\n",
    "故執行Person()結束後需將此實體指定給p1來存取(p1.name,p1.age)，此時就不是由self參數在管理此實體了。'''"
   ]
  },
  {
   "cell_type": "code",
   "execution_count": 8,
   "metadata": {},
   "outputs": [
    {
     "name": "stdout",
     "output_type": "stream",
     "text": [
      "Mary\n",
      "77\n",
      "85\n",
      "90\n",
      "Mandy\n",
      "100\n"
     ]
    }
   ],
   "source": [
    "class Student:\n",
    "    def __init__(self,name,chinese,english,math):\n",
    "        self.name = name\n",
    "        self.ch = chinese\n",
    "        self.en = english\n",
    "        self.math = math\n",
    "\n",
    "stu1 = Student(\"Mary\", 77, 85, 90)\n",
    "print(stu1.name)\n",
    "print(stu1.ch)\n",
    "print(stu1.en)\n",
    "print(stu1.math)\n",
    "stu1.name = \"Mandy\"  #屬性值可修改\n",
    "print(stu1.name)\n",
    "stu1.ch = 100  #屬性值可修改\n",
    "print(stu1.ch) "
   ]
  },
  {
   "cell_type": "code",
   "execution_count": 12,
   "metadata": {},
   "outputs": [
    {
     "name": "stdout",
     "output_type": "stream",
     "text": [
      "77\n",
      "85\n",
      "90\n",
      "<__main__.Student object at 0x7027a3fb20b0>\n"
     ]
    }
   ],
   "source": [
    "'''在自訂類別中建立類別屬性時，若在屬性名稱前加上雙底線(__)，則代表此attribute在主程式中不能取出也不能修改值。'''\n",
    "class Student:\n",
    "    def __init__(self,name,chinese,english,math):\n",
    "        self.__name = name  #不能取出及修改(不可變動attribute)\n",
    "        self.ch = chinese  #可變動attribute\n",
    "        self.en = english  #可變動attribute\n",
    "        self.math = math  #可變動attribute\n",
    "\n",
    "stu1 = Student(\"Mary\", 77, 85, 90)\n",
    "#print(stu1.name)  #若執行會顯示錯誤AttributeError: 'Student' object has no attribute 'name'\n",
    "#print(stu1.__name)  #一樣，若執行會顯示錯誤AttributeError: 'Student' object has no attribute '__name'\n",
    "print(stu1.ch)\n",
    "print(stu1.en)\n",
    "print(stu1.math)\n",
    "stu1.name = \"Mandy\"  #手動建立屬性值(實體屬性)\n",
    "print(stu1.name)\n",
    "\n"
   ]
  },
  {
   "cell_type": "code",
   "execution_count": 21,
   "metadata": {},
   "outputs": [
    {
     "name": "stdout",
     "output_type": "stream",
     "text": [
      "78\n",
      "85\n",
      "90\n",
      "Mary\n",
      "學生總分：253\n",
      "學生平均：84.33\n",
      "我是Student的實體\n",
      "name是Mary\n",
      "Chinese是78\n",
      "English是85\n",
      "Math是90\n"
     ]
    },
    {
     "data": {
      "text/plain": [
       "'實體內容：\\nattribute,\\nproperty,\\nmethod,\\n依要求建立的功能(如__init__(self),__repr__(self)等)'"
      ]
     },
     "execution_count": 21,
     "metadata": {},
     "output_type": "execute_result"
    }
   ],
   "source": [
    "#property和method\n",
    "'''上個範例中name這個attribute不能在主程式中被讀取，但若想在主程式中使用，\n",
    "此時可用property(屬性)來自訂function以此建立相關指令程式，但注意：只能讀取不能修改。\n",
    "基本架構：@property  def 函數名稱(self):  程式區塊。\n",
    "注意：@property後面不用接冒號(:)直接換行縮排即可。\n",
    "若想指定某實體(物件)的內容，可以用__repr__(object)此method來修改實體(物件)的內容。'''\n",
    "class Student:\n",
    "    def __init__(self,name,chinese,english,math):\n",
    "        self.__name = name  #不能取出\n",
    "        self.ch = chinese\n",
    "        self.en = english\n",
    "        self.math = math\n",
    "    @property\n",
    "    def name(self):  #該自訂函數還在自訂類別(工廠)中，故可用self(工廠內的機器)來寫程式\n",
    "        return self.__name  #該自訂函數還在自訂類別(工廠)中，故可用self.__name(工廠內的機器)來寫程式\n",
    "    def sum(self):  #實體方法(method)，注意：不能如一般普通函數一樣直接使用，而是要透過實體(物件)來呼叫\n",
    "        return self.ch + self.en + self.math\n",
    "    def mean(self):  #實體方法(method)\n",
    "        print(f\"學生平均：{self.sum() / 3.0:.2f}\")\n",
    "    def __repr__(self):  #自訂實體(物件)內容\n",
    "        description =\"\"\n",
    "        description += f\"我是Student的實體\\nname是{self.name}\\nChinese是{self.ch}\\nEnglish是{self.en}\\nMath是{self.math}\"\n",
    "        return description\n",
    "\n",
    "stu1 = Student(\"Mary\", 78, 85, 90)\n",
    "print(stu1.ch)  #attribute\n",
    "print(stu1.en)  #attribute\n",
    "print(stu1.math)  #attribute\n",
    "print(stu1.name)  #呼叫property，只能讀取不能修改\n",
    "print(f\"學生總分：{stu1.sum()}\")  #呼叫實體方法\n",
    "stu1.mean()\n",
    "print(stu1)  #原stu1此實體內容為：<__main__.Student object at 0x7fa8e1501780>\n",
    "#stu1.name = 'a'  #修改property的值會顯示錯誤AttributeError: can't set attribute 'name'\n",
    "\n",
    "\n",
    "\n",
    "'''實體內容：\n",
    "attribute,\n",
    "property,\n",
    "method,\n",
    "依要求建立的功能(如__init__(self),__repr__(self)等)'''\n"
   ]
  },
  {
   "cell_type": "code",
   "execution_count": 22,
   "metadata": {},
   "outputs": [
    {
     "name": "stdout",
     "output_type": "stream",
     "text": [
      "['a', ['b']]\n",
      "['c', 'b']\n"
     ]
    }
   ],
   "source": [
    "#list物件的method\n",
    "'''「list.method()」此種語法為建立在class list中的method，可供主程式中的list物件使用。'''\n",
    "l1 = ['a']  #透過list符號[]建立list\n",
    "l2 = ['b']\n",
    "l3 = ['c']\n",
    "l1.append(l2)  #串列名稱.append(object: str)：Append object to the end of the list. 將項目object加到該list尾端 \n",
    "print(l1)\n",
    "l3.extend(l2)  #串列名稱.extend(iterable)：Extend list by appending elements from the iterable. 將iterable(可疊代物件)新增至該串列的尾端\n",
    "print(l3)"
   ]
  },
  {
   "cell_type": "code",
   "execution_count": 23,
   "metadata": {},
   "outputs": [
    {
     "name": "stdout",
     "output_type": "stream",
     "text": [
      "[]\n",
      "['H', 'e', 'l', 'l', 'o', '!']\n",
      "[1, 2, 3, 4, 5, 6, 7, 8, 9]\n",
      "l3長度：9，l3最大值：9，l3最小值：1\n",
      "['H', 'e', 'l', 'l', 'o', '!', 'World!']\n",
      "[1, 2, 'a', 3, 4, 5, 6, 7, 8, 9]\n",
      "[1, 2, 'a', 3, 4, 5, 6, 7, 8]\n",
      "[2, 'a', 3, 4, 5, 6, 7, 8]\n",
      "[]\n"
     ]
    }
   ],
   "source": [
    "#list物件的method\n",
    "'''透過init()建立list的方法為：list([iterable])，其中[]的意思為可有可無，即空串列list()。\n",
    "注意：()內的物內容必須為可疊代的，若是純數值此種不可疊代的內容則會顯示錯誤TypeError: 'int' object is not iterable'''\n",
    "l1 = list()  #透過list的init()建立物件實體\n",
    "print(l1)\n",
    "l2 = list(\"Hello!\")  #透過list的init()建立物件實體\n",
    "print(l2)\n",
    "l3 = list(range(1,10))  #透過list的init()建立物件實體\n",
    "print(l3)\n",
    "print(f\"l3長度：{len(l3)}，l3最大值：{max(l3)}，l3最小值：{min(l3)}\")  #此行的len(),min()和max()不是method，而是內建函數\n",
    "l2.append(\"World!\")  #串列名稱.append(x)：將x新增到該串列的尾端\n",
    "print(l2)\n",
    "l3.insert(2,\"a\")  #串列名稱.insert(i,x)：將x新增至該串列索引值為i的位置，注意：索引值從0開始，故索引值2即該list中的第三個位置\n",
    "print(l3)\n",
    "l3.pop()  #串列名稱.pop([i])：移除該串列索引值為i的資料，其中[i]可忽略，系統預設為移除該串列最後面的一筆資料\n",
    "print(l3)\n",
    "l3.pop(0)\n",
    "print(l3)\n",
    "l3.clear()  #串列名稱.clear()：清除該串列中的所有資料，故回傳為空串列[]\n",
    "print(l3)"
   ]
  },
  {
   "cell_type": "code",
   "execution_count": 4,
   "metadata": {},
   "outputs": [],
   "source": [
    "#file實體\n",
    "'''open(file, mode='r', buffering=-1, encoding=None, errors=None, newline=None, closefd=True, opener=None)為一function，\n",
    "可用來打開文件，並傳回對應的文件實體。其中參數file為文件路徑；參數mode為指定開啟檔案的模式，預設為'r'讀取，\n",
    "其他有'w'寫入（會捨去已經存在的檔案）、'a'寫入(若文件存在則在末尾追加寫入內容)、'x'唯一性建立，如果文件已存在則會失敗等；\n",
    "參數encoding代表編碼格式，建議使用\"utf-8\"。'''\n",
    "with open(\"content.txt\",\"w+\",encoding = \"utf-8\") as f:\n",
    "    f.writelines()\n",
    "    f.write(\"Hello!\")  #文件變數.write(s: str)為一method\n",
    "    f.write(\"World!\\n\")\n",
    "    f.write(\"Morning!\\n\")\n",
    "    f.writelines([\"HI!\\n\",\"OK!\",\"GO!\"])  #文件變數.writelines(lines: Iterable[str])為一method，資料內容可放可疊代的字串(iterable[str])\n",
    "\n",
    "\n"
   ]
  }
 ],
 "metadata": {
  "kernelspec": {
   "display_name": "Python 3",
   "language": "python",
   "name": "python3"
  },
  "language_info": {
   "codemirror_mode": {
    "name": "ipython",
    "version": 3
   },
   "file_extension": ".py",
   "mimetype": "text/x-python",
   "name": "python",
   "nbconvert_exporter": "python",
   "pygments_lexer": "ipython3",
   "version": "3.10.14"
  }
 },
 "nbformat": 4,
 "nbformat_minor": 2
}
