{
 "cells": [
  {
   "cell_type": "code",
   "execution_count": 2,
   "metadata": {},
   "outputs": [
    {
     "name": "stdout",
     "output_type": "stream",
     "text": [
      "7.0\n",
      "7.0\n",
      "[0,5,9,14]的平均值：7\n",
      "[0,5,9,14]的標準差：5.94418483337567\n",
      "[5,6,8,9]的平均值：7\n",
      "[5,6,8,9]的標準差：1.8257418583505538\n"
     ]
    }
   ],
   "source": [
    "#數學函數\n",
    "##應用:統計，計算平均值及標準差\n",
    "import statistics\n",
    "value1 = [0,5,9,14]\n",
    "total1 = total2 = 0\n",
    "for i in range(len(value1)):\n",
    "    total1 += value1[i]\n",
    "print(total1/len(value1))  #計算平均數\n",
    "value2 = [5,6,8,9]\n",
    "for i in range(len(value2)):\n",
    "    total2 += value2[i]\n",
    "print(total2/len(value2))  #計算平均數\n",
    "\n",
    "'''以上僅做到算出平均值，但要用一般二元運算子做標準差會很複雜，故可套用統計函數來運算。注意：要記得先匯入模塊。\n",
    "平均值函數基本架構: statistics.mean(data)，參數data可為一個sequence(串列)或者iterable(如list)，\n",
    "標準差函數基本架構: statistics.stdev(data, xbar=None)，參數data可為為兩個值以上的實數iterable。'''\n",
    "mean1 = statistics.mean(value1)  \n",
    "std1 = statistics.stdev(value1)  #\n",
    "print(f\"[0,5,9,14]的平均值：{mean1}\")\n",
    "print(f\"[0,5,9,14]的標準差：{std1}\")\n",
    "mean2 = statistics.mean(value2)\n",
    "std2 = statistics.stdev(value2)\n",
    "print(f\"[5,6,8,9]的平均值：{mean2}\")\n",
    "print(f\"[5,6,8,9]的標準差：{std2}\")\n"
   ]
  },
  {
   "cell_type": "code",
   "execution_count": 3,
   "metadata": {},
   "outputs": [
    {
     "name": "stdout",
     "output_type": "stream",
     "text": [
      "這是True的程式區塊\n",
      "大於18\n",
      "程式結束\n",
      "\n",
      "程式結束\n"
     ]
    }
   ],
   "source": [
    "#條件判斷\n",
    "'''以上的程式執行順序都是由上而下，若想控制執行順序，即流程控制，可用條件判斷來做。\n",
    "關係運算子，又稱比較運算子(為二元運算子): >、<、==、>=、<=、!=。使用比較運算子會傳回布林值(True/False)。\n",
    "條件判斷基本架構:\n",
    "1.單向選擇: if Bool:  True的程式區塊。此語法可能有不執行程式區塊的情況(條件不符合)；\n",
    "2.雙向選擇: if Bool:  True的程式區塊  else: False的程式區塊，兩個程式區塊一定執行其中一個，不可能都執行或都不執行。\n",
    "注意:程式區塊要記得縮排。'''\n",
    "\n",
    "##單向選擇\n",
    "a = 21\n",
    "if a > 18:\n",
    "    print(\"這是True的程式區塊\")\n",
    "    print(\"大於18\")\n",
    "print(\"程式結束\")\n",
    "print()\n",
    "\n",
    "b = 17\n",
    "if b > 18:\n",
    "    print(\"這是True的程式區塊\")\n",
    "    print(\"大於18\")\n",
    "print(\"程式結束\")\n",
    "\n"
   ]
  },
  {
   "cell_type": "code",
   "execution_count": 2,
   "metadata": {
    "metadata": {}
   },
   "outputs": [
    {
     "name": "stdout",
     "output_type": "stream",
     "text": [
      "您尚未成年\n",
      "您的年齡是:13\n"
     ]
    }
   ],
   "source": [
    "##雙向選擇\n",
    "age = int(input(\"請輸入年齡\"))\n",
    "if age > 18:\n",
    "    print(\"您已經成年\")\n",
    "else:\n",
    "    print(\"您尚未成年\")\n",
    "print(f\"您的年齡是：{age}\")\n",
    "\n"
   ]
  },
  {
   "cell_type": "code",
   "execution_count": 7,
   "metadata": {},
   "outputs": [
    {
     "name": "stdout",
     "output_type": "stream",
     "text": [
      "學生分數是200\n",
      "學生分數是200\n",
      "學生分數是200\n"
     ]
    }
   ],
   "source": [
    "##條件判斷--巢狀迴圈:條件裡面可以有其他條件式\n",
    "###應用:總分為300；檢查學生輸入的分數是否<=300；有些學生可加分5%；若超過300分，就以300分為準\n",
    "score = int(input(\"請輸入學生分數(最高300分\"))\n",
    "if score <= 300:  #也可以用小括號()，功能相同，if和()間可空格可不空格 --> if(score <= 300):\n",
    "    add = input(\"學生是否符合加分條件?(y,n)\")\n",
    "    if add == \"y\":  #字串也可以做比較，看內容是否相等\n",
    "        score *= 1.05\n",
    "        if score > 300:\n",
    "            score = 300\n",
    "    print(f\"學生分數是{score:.0f}\") #會四捨五入\n",
    "    print(f\"學生分數是{int(score)}\") #無條件捨去\n",
    "    print(f\"學生分數是{round(score)}\") #round()為四捨五入函數\n",
    "else:\n",
    "    print(\"學生分數不可以大於300\")\n",
    "\n",
    "\n"
   ]
  }
 ],
 "metadata": {
  "kernelspec": {
   "display_name": "Python 3",
   "language": "python",
   "name": "python3"
  },
  "language_info": {
   "codemirror_mode": {
    "name": "ipython",
    "version": 3
   },
   "file_extension": ".py",
   "mimetype": "text/x-python",
   "name": "python",
   "nbconvert_exporter": "python",
   "pygments_lexer": "ipython3",
   "version": "3.10.14"
  }
 },
 "nbformat": 4,
 "nbformat_minor": 2
}
