{
 "cells": [
  {
   "cell_type": "code",
   "execution_count": 1,
   "metadata": {},
   "outputs": [
    {
     "name": "stdout",
     "output_type": "stream",
     "text": [
      "28\n",
      "28\n",
      "[0,5,9,14]的平均值：7\n",
      "[0,5,9,14]的標準差：5.94418483337567\n",
      "[5,6,8,9]的平均值：7\n",
      "[5,6,8,9]的標準差：1.8257418583505538\n"
     ]
    }
   ],
   "source": [
    "#數學函數\n",
    "##應用:統計，計算平均值及標準差\n",
    "import statistics\n",
    "value1 = [0,5,9,14]\n",
    "total1 = total2 = 0\n",
    "for i in range(len(value1)):\n",
    "    total1 += value1[i]\n",
    "print(total1)\n",
    "value2 = [5,6,8,9]\n",
    "total2 = 0\n",
    "for i in range(len(value2)):\n",
    "    total2 += value2[i]\n",
    "print(total2)\n",
    "\n",
    "mean1 = statistics.mean(value1)\n",
    "std1 = statistics.stdev(value1)\n",
    "print(f\"[0,5,9,14]的平均值：{mean1}\")\n",
    "print(f\"[0,5,9,14]的標準差：{std1}\")\n",
    "mean2 = statistics.mean(value2)\n",
    "std2 = statistics.stdev(value2)\n",
    "print(f\"[5,6,8,9]的平均值：{mean2}\")\n",
    "print(f\"[5,6,8,9]的標準差：{std2}\")\n"
   ]
  },
  {
   "cell_type": "code",
   "execution_count": null,
   "metadata": {},
   "outputs": [],
   "source": [
    "#條件判斷\n",
    "##關係運算子=比較運算子(二元運算子): >、<、==、>=、<=、!=。使用比較運算子會傳回布林值(True/False)"
   ]
  }
 ],
 "metadata": {
  "kernelspec": {
   "display_name": "Python 3",
   "language": "python",
   "name": "python3"
  },
  "language_info": {
   "codemirror_mode": {
    "name": "ipython",
    "version": 3
   },
   "file_extension": ".py",
   "mimetype": "text/x-python",
   "name": "python",
   "nbconvert_exporter": "python",
   "pygments_lexer": "ipython3",
   "version": "3.10.13"
  }
 },
 "nbformat": 4,
 "nbformat_minor": 2
}
