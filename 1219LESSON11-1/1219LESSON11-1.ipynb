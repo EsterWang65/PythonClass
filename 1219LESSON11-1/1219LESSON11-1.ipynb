{
 "cells": [
  {
   "cell_type": "code",
   "execution_count": null,
   "metadata": {},
   "outputs": [],
   "source": [
    "#專案\n",
    "'''一個專案就是一個資料夾(如1219LESSON11-1)，裡面可放多個檔案，\n",
    "像主程式檔(main.py或index.py)、所需的文字檔(如names.txt)、專放自訂函數的檔案、\n",
    "專放自訂模組的檔案(如tools.py)及另一個資料夾(package，如outter)等。\n",
    "注意：在專案中要執行python時(如main.py)，必須將游標移到專案名稱並點右鍵選擇「在整合式終端機中開啟」方可執行程式。\n",
    "注意：一般若有自訂其他資料夾(package)在專案中，習慣會在此資料夾中放一名為「__init__.py」的檔案(可為空檔)來告知此資料夾為一package。'''\n",
    "\n",
    "#自訂module\n",
    "'''模組module分三種：內建module(如math,csv,random等)；外部module(透過套件管理程式pip下載方能使用)；自訂module。\n",
    "一般在專案中會開新檔案來放自訂module，檔案名稱即module名稱(tools)，自訂module裡可放function,class和變數。\n",
    "注意：在設計自訂module時，如需使用到其他內建或外部module，依然要記得匯入module。\n",
    "注意：在主程式檔案中如需用到自訂module，也要記得匯入該module。\n",
    "匯入module的方法有兩種：\n",
    "1. 將整個module匯入(如import math)，程式中要使用到該模組中的function/method時要透過該模組來引用，\n",
    "要寫「module名稱.function名稱/module名稱.method名稱()」(如math.pi)；\n",
    "2. 直接匯入欲使用到的function/method(如from math import pi)，程式中要使用時直接使用即可(如pi)，\n",
    "注意：此方法在匯入function時不用加()，直接打function名稱即可(如from tools import saveToCSV)。\n",
    "注意：在匯入自訂module時，若該module在專案中的其他資料夾(package，如outter)中，\n",
    "記得要標示(如import outter.tools)，以告訴系統要到outter此資料夾中找tools來用。'''"
   ]
  },
  {
   "cell_type": "code",
   "execution_count": 1,
   "metadata": {},
   "outputs": [
    {
     "name": "stdout",
     "output_type": "stream",
     "text": [
      "['科目1', '科目2', '科目3', '科目4', '科目5']\n",
      "['姓名', '科目1', '科目2', '科目3', '科目4', '科目5']\n"
     ]
    }
   ],
   "source": [
    "#利用list.append()\n",
    "subject = []  #建立空list\n",
    "for i in range(5):\n",
    "    subject.append(f\"科目{i+1}\")\n",
    "names = [\"姓名\"]\n",
    "names.extend(subject)\n",
    "print(subject)\n",
    "print(names)\n"
   ]
  },
  {
   "cell_type": "code",
   "execution_count": 2,
   "metadata": {},
   "outputs": [
    {
     "name": "stdout",
     "output_type": "stream",
     "text": [
      "['科目1', '科目2', '科目3', '科目4', '科目5']\n",
      "['姓名', '科目1', '科目2', '科目3', '科目4', '科目5']\n"
     ]
    }
   ],
   "source": [
    "#list comprehension串列綜合運算\n",
    "subject = [f\"科目{i+1}\" for i in range(5)]  #list comprehension\n",
    "names = [\"姓名\"]\n",
    "names.extend(subject)\n",
    "print(subject)\n",
    "print(names)"
   ]
  },
  {
   "cell_type": "code",
   "execution_count": 4,
   "metadata": {},
   "outputs": [
    {
     "name": "stdout",
     "output_type": "stream",
     "text": [
      "請輸入學生人數(1~50)：4\n",
      "請輸入科目數(1~7)：5\n",
      "[['林昱芳', 44, 42, 58, 41, 50], ['黃靜怡', 41, 71, 63, 90, 100], ['林益妏', 53, 41, 69, 62, 65], ['戚亨', 51, 93, 80, 58, 66]]\n",
      "請輸入檔案名稱(不用輸入副檔名稱)：class1\n",
      "存檔成功\n"
     ]
    }
   ],
   "source": [
    "#csv模組--將python二維資料(list[list])存為csv檔\n",
    "'''內建csv模組專門在做檔案讀取及寫入，裡面有兩個物件實體reader及writer可讀取及寫入序列。\n",
    "也可透過DictReader及DictWriter class使用dict讀取及寫入資料。\n",
    "而以下為在該模組中定義的function：\n",
    "csv.reader(csvfile)：讀取用，透過此function可得到一reader的實體；\n",
    "csv.writer(csvfile)：寫入用，透過此function可得到一writer的實體。\n",
    "注意：在用這些function前記得先匯入模組。'''\n",
    "\n",
    "\n",
    "import random\n",
    "import pyinputplus as pyip\n",
    "import csv\n",
    "\n",
    "def getStudents(stuNum:int,scoreNum:int) -> list[list]:  #此自訂函數為建立學生成績資料\n",
    "    '''\n",
    "    參數：stuNum代表學生人數；\\n\n",
    "    參數：scoreNum代表科目數。\n",
    "    '''\n",
    "\n",
    "    with open(\"names.txt\",\"r\",encoding = \"utf-8\") as f:\n",
    "        name:str = f.read()\n",
    "    nameList:list[str] = name.split('\\n')\n",
    "\n",
    "    students:list[list] = []\n",
    "    names:list[str] = random.choices(nameList,k = stuNum)\n",
    "    for name in names:\n",
    "        stu:list[int|str] = []\n",
    "        stu.append(name)\n",
    "        for score in range(scoreNum):\n",
    "            stu.append(random.randint(40,100))\n",
    "        students.append(stu)\n",
    "\n",
    "    return(students)\n",
    "\n",
    "def saveToCSV(fileName:str,data:list[list],subjectNum:int) -> bool:  #此自訂函數為儲存檔案\n",
    "    fileName += \".csv\"\n",
    "    subject = [f\"科目{i+1}\" for i in range(subjectNum)]\n",
    "    fields = [\"姓名\"]\n",
    "    fields.extend(subject)  #注意：直接寫fields = [\"姓名\"].extend(subjects)會顯示錯誤\n",
    "    with open(fileName,mode = 'w',encoding = 'utf-8',newline='') as file:  #將資料寫進新建的csv檔中  \n",
    "        #newline參數用來解析文件中的換行符，可以為None,'','\\n','\\r'和'\\r\\n'，預設為None\n",
    "        try:\n",
    "            writer = csv.writer(file)  #透過csv.writer(csvfile)的function產出一writer的實體，再用變數writer來控制(可做attribute, property和method等)\n",
    "            # fields = None\n",
    "            writer.writerow(fields)  #變數名稱.writerow()為writer物件的method，()內參數為iterable[Any]\n",
    "            writer.writerows(data)  #變數名稱.writerows()為writer物件的method，()內參數為iterable[iterable]\n",
    "        except:\n",
    "            return False\n",
    "        else:\n",
    "            return True\n",
    "\n",
    "\n",
    "if __name__ == \"__main__\":\n",
    "    stuNum:int = pyip.inputInt(\"請輸入學生人數(1~50)：\",min = 1,max = 50)\n",
    "    print(stuNum)\n",
    "    scoreNum:int = pyip.inputInt(\"請輸入科目數(1~7)：\",min = 1,max = 7)\n",
    "    print(scoreNum)\n",
    "    students:list[list] = getStudents(stuNum,scoreNum)\n",
    "    print(students) \n",
    "    fileName = pyip.inputFilename(\"請輸入檔案名稱(不用輸入副檔名稱)：\")  #\n",
    "    print(fileName)\n",
    "    if saveToCSV(fileName=fileName,data=students,subjectNum=scoreNum):\n",
    "        print(\"存檔成功\")\n",
    "    else:\n",
    "        print(\"存檔失敗\")\n",
    "\n",
    "'''pyip.inputFilename(): Filenames can't contain \\ / : * ? \" < > | or end with a space.\n",
    "Note that this validates filenames, not filepaths. The / and \\ characters are invalid for filenames.\n",
    "Returns the filename as a string.'''"
   ]
  },
  {
   "cell_type": "code",
   "execution_count": 1,
   "metadata": {},
   "outputs": [
    {
     "data": {
      "text/plain": [
       "'taiwan'"
      ]
     },
     "execution_count": 1,
     "metadata": {},
     "output_type": "execute_result"
    }
   ],
   "source": [
    "#字典物件Dictionary\n",
    "'''字典物件在python中(小名)稱為map，而list為iterable及sequence。\n",
    "字典可儲存多筆資料，和list不同的是字典沒有索引值，而是透過key來取value值。\n",
    "建立字典的方法有兩種：\n",
    "1. 用符號建立：{key1:value1, key2:value2...}；\n",
    "2. 用dict()建立：dict([(key1,value1),(key2,value2)...])。'''\n",
    "\n",
    "##用符號建立字典\n",
    "codes:dict[str,str] = {\"jp\":\"japan\",\"tw\":\"taiwan\"}\n",
    "codes['tw']  #透過key值來取value值\n",
    "\n",
    "# '''在用符號建立字典時，可將每筆資料空行寫入來增加可讀性。'''\n",
    "# codes:dict[str,str] = {\"jp\":\"japan\",\n",
    "#                        \"tw\":\"taiwan\"}"
   ]
  },
  {
   "cell_type": "code",
   "execution_count": 5,
   "metadata": {},
   "outputs": [
    {
     "name": "stdout",
     "output_type": "stream",
     "text": [
      "{'jp': 'japan', 'tw': 'taiwan'}\n"
     ]
    },
    {
     "data": {
      "text/plain": [
       "dict_items([('jp', 'japan'), ('tw', 'taiwan')])"
      ]
     },
     "execution_count": 5,
     "metadata": {},
     "output_type": "execute_result"
    }
   ],
   "source": [
    "##用dict()建立字典\n",
    "codes1:dict[str,str] = dict([(\"jp\",\"japan\"),(\"tw\",\"taiwan\")])\n",
    "print(codes1)\n",
    "codes1.items()  #字典物件的method，可顯示該字典所有的key及value"
   ]
  }
 ],
 "metadata": {
  "kernelspec": {
   "display_name": "Python 3",
   "language": "python",
   "name": "python3"
  },
  "language_info": {
   "codemirror_mode": {
    "name": "ipython",
    "version": 3
   },
   "file_extension": ".py",
   "mimetype": "text/x-python",
   "name": "python",
   "nbconvert_exporter": "python",
   "pygments_lexer": "ipython3",
   "version": "3.10.14"
  }
 },
 "nbformat": 4,
 "nbformat_minor": 2
}
