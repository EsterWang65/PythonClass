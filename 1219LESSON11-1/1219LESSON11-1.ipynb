{
 "cells": [
  {
   "cell_type": "code",
   "execution_count": 17,
   "metadata": {},
   "outputs": [
    {
     "name": "stdout",
     "output_type": "stream",
     "text": [
      "請輸入學生人數(1~50)：3\n",
      "請輸入科目數(1~7)：3\n",
      "[['黃政甫', 45, 90, 99], ['吳俐芷', 74, 81, 69], ['張韋成', 78, 92, 66]]\n",
      "請輸入檔案名稱(不用輸入副檔名稱)：class1\n",
      "存檔成功\n"
     ]
    }
   ],
   "source": [
    "#csv模組\n",
    "'''csv模組裡面有兩個function：\n",
    "csv.reader()\n",
    "csv.writer()'''\n",
    "\n",
    "import random\n",
    "import pyinputplus as pyip\n",
    "import csv\n",
    "\n",
    "def getStudents(stuNum:int,scoreNum:int) -> list[list]:\n",
    "    '''\n",
    "    參數：stuNum代表學生人數；\\n\n",
    "    參數：scoreNum代表科目數。\n",
    "    '''\n",
    "\n",
    "    with open(\"names.txt\",\"r\",encoding = \"utf-8\") as f:\n",
    "        name:str = f.read()\n",
    "    nameList:list[str] = name.split('\\n')\n",
    "\n",
    "    students:list[list] = []\n",
    "    names:list[str] = random.choices(nameList,k = stuNum)\n",
    "    for name in names:\n",
    "        stu:list[int|str] = []\n",
    "        stu.append(name)\n",
    "        for score in range(scoreNum):\n",
    "            stu.append(random.randint(40,100))\n",
    "        students.append(stu)\n",
    "\n",
    "    return(students)\n",
    "def saveToCSV(fileName:str,data:list[list],subjectNum:int) -> bool:\n",
    "    fileName += \".csv\"\n",
    "    subject = [f\"科目{i+1}\" for i in range(subjectNum)]\n",
    "    fields = [\"姓名\"]\n",
    "    fields.extend(subject)\n",
    "    with open(fileName,mode = 'w',encoding = 'utf-8',newline='') as file:\n",
    "        try:\n",
    "            writer = csv.writer(file)\n",
    "            # fields = None\n",
    "            writer.writerow(fields)\n",
    "            writer.writerows(data)\n",
    "        except:\n",
    "            return False\n",
    "        else:\n",
    "            return True\n",
    "\n",
    "if __name__ == \"__main__\":\n",
    "    stuNum:int = pyip.inputInt(\"請輸入學生人數(1~50)：\",min = 1,max = 50)\n",
    "    print(stuNum)\n",
    "    scoreNum:int = pyip.inputInt(\"請輸入科目數(1~7)：\",min = 1,max = 7)\n",
    "    print(scoreNum)\n",
    "    students:list[list] = getStudents(stuNum,scoreNum)\n",
    "    print(students) \n",
    "    fileName = pyip.inputFilename(\"請輸入檔案名稱(不用輸入副檔名稱)：\")\n",
    "    print(fileName)\n",
    "    if saveToCSV(fileName=fileName,data=students,subjectNum=scoreNum):\n",
    "        print(\"存檔成功\")\n",
    "    else:\n",
    "        print(\"存檔失敗\")"
   ]
  },
  {
   "cell_type": "code",
   "execution_count": 8,
   "metadata": {},
   "outputs": [
    {
     "data": {
      "text/plain": [
       "['姓名', '科目1', '科目2', '科目3', '科目4', '科目5']"
      ]
     },
     "execution_count": 8,
     "metadata": {},
     "output_type": "execute_result"
    }
   ],
   "source": [
    "#利用list.append()\n",
    "subject = []\n",
    "for i in range(5):\n",
    "    subject.append(f\"科目{i+1}\")\n",
    "names = [\"姓名\"]\n",
    "names.extend(subject)\n",
    "names\n"
   ]
  },
  {
   "cell_type": "code",
   "execution_count": 11,
   "metadata": {},
   "outputs": [
    {
     "data": {
      "text/plain": [
       "['姓名', '科目1', '科目2', '科目3', '科目4', '科目5']"
      ]
     },
     "execution_count": 11,
     "metadata": {},
     "output_type": "execute_result"
    }
   ],
   "source": [
    "#list comprehension\n",
    "subject = [f\"科目{i+1}\" for i in range(5)]\n",
    "names = [\"姓名\"]\n",
    "names.extend(subject)\n",
    "names"
   ]
  },
  {
   "cell_type": "code",
   "execution_count": null,
   "metadata": {},
   "outputs": [],
   "source": [
    "#自訂module\n"
   ]
  }
 ],
 "metadata": {
  "kernelspec": {
   "display_name": "Python 3",
   "language": "python",
   "name": "python3"
  },
  "language_info": {
   "codemirror_mode": {
    "name": "ipython",
    "version": 3
   },
   "file_extension": ".py",
   "mimetype": "text/x-python",
   "name": "python",
   "nbconvert_exporter": "python",
   "pygments_lexer": "ipython3",
   "version": "3.10.13"
  }
 },
 "nbformat": 4,
 "nbformat_minor": 2
}
