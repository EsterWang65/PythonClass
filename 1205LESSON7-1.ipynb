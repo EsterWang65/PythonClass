{
 "cells": [
  {
   "cell_type": "code",
   "execution_count": 4,
   "metadata": {},
   "outputs": [
    {
     "name": "stdout",
     "output_type": "stream",
     "text": [
      "請輸入第1個月份存款：3444\n",
      "請輸入第2個月份存款：543\n",
      "請輸入第3個月份存款：224455\n",
      "恭喜！已經存夠了，共存了3個月，總存款為：228442\n"
     ]
    }
   ],
   "source": [
    "#while迴圈\n",
    "##不知道明確執行次數\n",
    "'''應用：每月存錢，當存到30000援救顯示提示訊息告知'''\n",
    "import pyinputplus as pyip\n",
    "month = 0\n",
    "deposit = 0\n",
    "while deposit < 30000:\n",
    "    month += 1\n",
    "    month_money = pyip.inputInt(f\"請輸入第{month}個月份存款：\")\n",
    "    print(month_money)\n",
    "    deposit += month_money\n",
    "print(f\"恭喜！已經存夠了，共存了{month}個月，總存款為：{deposit}\")"
   ]
  },
  {
   "cell_type": "code",
   "execution_count": 11,
   "metadata": {},
   "outputs": [
    {
     "name": "stdout",
     "output_type": "stream",
     "text": [
      "請輸入小寫英文字(按q就離開)：結束程式\n"
     ]
    }
   ],
   "source": [
    "##break\n",
    "'''應用：請輸入小寫英文字母，列印出第一個字大寫的英文字；如果輸入q就離開'''\n",
    "import pyinputplus as pyip\n",
    "while True:\n",
    "    str1 = pyip.inputStr(\"請輸入小寫英文字(按q就離開)：\")\n",
    "    if str1 == 'q':\n",
    "        break\n",
    "    print(str1.capitalize())\n",
    "print(\"結束程式\")\n"
   ]
  },
  {
   "cell_type": "code",
   "execution_count": 17,
   "metadata": {},
   "outputs": [
    {
     "name": "stdout",
     "output_type": "stream",
     "text": [
      "請輸入第1位學生成績：50\n",
      "請輸入第2位學生成績：100\n",
      "請輸入第3位學生成績：-4\n",
      "全班總成績：150\n",
      "全班平均成績：75.00\n"
     ]
    }
   ],
   "source": [
    "'''應用：輸入成績，若輸入負數則結束；輸入結束後顯示班上總成績及平均成績'''\n",
    "import pyinputplus as pyip\n",
    "total = num = 0\n",
    "while True:\n",
    "    score = pyip.inputInt(f\"請輸入第{num + 1}位學生成績：\")\n",
    "    print(score)\n",
    "    if score < 0:\n",
    "        break\n",
    "    total += score\n",
    "    num += 1\n",
    "print(f\"全班總成績：{total}\\n全班平均成績：{total / num:.2f}\")\n"
   ]
  },
  {
   "cell_type": "code",
   "execution_count": 19,
   "metadata": {},
   "outputs": [
    {
     "name": "stdout",
     "output_type": "stream",
     "text": [
      "3的平方是9\n",
      "5的平方是25\n",
      "不做事\n",
      "a格式錯誤\n",
      "格式錯誤\n",
      "程式結束\n"
     ]
    }
   ],
   "source": [
    "##continue\n",
    "'''應用：輸入一數值，奇數輸出平方；偶數不做動作；q離開'''\n",
    "while True:\n",
    "    value = input(\"請輸入整數，輸入q離開：\")\n",
    "    if value == 'q':\n",
    "        break\n",
    "    try:\n",
    "        valueInt = int(value)\n",
    "    except:\n",
    "        print(f\"{value}格式錯誤\")\n",
    "        continue\n",
    "\n",
    "    if valueInt % 2 == 1:\n",
    "        print(f\"{valueInt}的平方是{valueInt ** 2}\")\n",
    "    else:\n",
    "        print(\"不做事\")\n",
    "        \n",
    "print(\"程式結束\")"
   ]
  }
 ],
 "metadata": {
  "kernelspec": {
   "display_name": "Python 3",
   "language": "python",
   "name": "python3"
  },
  "language_info": {
   "codemirror_mode": {
    "name": "ipython",
    "version": 3
   },
   "file_extension": ".py",
   "mimetype": "text/x-python",
   "name": "python",
   "nbconvert_exporter": "python",
   "pygments_lexer": "ipython3",
   "version": "3.10.13"
  }
 },
 "nbformat": 4,
 "nbformat_minor": 2
}
