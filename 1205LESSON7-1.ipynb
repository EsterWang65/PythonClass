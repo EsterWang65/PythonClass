{
 "cells": [
  {
   "cell_type": "code",
   "execution_count": 4,
   "metadata": {},
   "outputs": [
    {
     "name": "stdout",
     "output_type": "stream",
     "text": [
      "請輸入第1個月份存款：3444\n",
      "請輸入第2個月份存款：543\n",
      "請輸入第3個月份存款：224455\n",
      "恭喜！已經存夠了，共存了3個月，總存款為：228442\n"
     ]
    }
   ],
   "source": [
    "#while迴圈\n",
    "##不知道明確執行次數\n",
    "'''應用：每月存錢，當存到30000援救顯示提示訊息告知'''\n",
    "import pyinputplus as pyip\n",
    "month = 0\n",
    "deposit = 0\n",
    "while deposit < 30000:\n",
    "    month += 1\n",
    "    month_money = pyip.inputInt(f\"請輸入第{month}個月份存款：\")\n",
    "    print(month_money)\n",
    "    deposit += month_money\n",
    "print(f\"恭喜！已經存夠了，共存了{month}個月，總存款為：{deposit}\")"
   ]
  },
  {
   "cell_type": "code",
   "execution_count": 11,
   "metadata": {},
   "outputs": [
    {
     "name": "stdout",
     "output_type": "stream",
     "text": [
      "請輸入小寫英文字(按q就離開)：結束程式\n"
     ]
    }
   ],
   "source": [
    "##break\n",
    "'''應用：請輸入小寫英文字母，列印出第一個字大寫的英文字；如果輸入q就離開'''\n",
    "import pyinputplus as pyip\n",
    "while True:\n",
    "    str1 = pyip.inputStr(\"請輸入小寫英文字(按q就離開)：\")\n",
    "    if str1 == 'q':\n",
    "        break\n",
    "    print(str1.capitalize())\n",
    "print(\"結束程式\")\n"
   ]
  },
  {
   "cell_type": "code",
   "execution_count": 17,
   "metadata": {},
   "outputs": [
    {
     "name": "stdout",
     "output_type": "stream",
     "text": [
      "請輸入第1位學生成績：50\n",
      "請輸入第2位學生成績：100\n",
      "請輸入第3位學生成績：-4\n",
      "全班總成績：150\n",
      "全班平均成績：75.00\n"
     ]
    }
   ],
   "source": [
    "'''應用：輸入成績，若輸入負數則結束；輸入結束後顯示班上總成績及平均成績'''\n",
    "import pyinputplus as pyip\n",
    "total = num = 0\n",
    "while True:\n",
    "    score = pyip.inputInt(f\"請輸入第{num + 1}位學生成績：\")\n",
    "    print(score)\n",
    "    if score < 0:\n",
    "        break\n",
    "    total += score\n",
    "    num += 1\n",
    "print(f\"全班總成績：{total}\\n全班平均成績：{total / num:.2f}\")\n"
   ]
  },
  {
   "cell_type": "code",
   "execution_count": 19,
   "metadata": {},
   "outputs": [
    {
     "name": "stdout",
     "output_type": "stream",
     "text": [
      "3的平方是9\n",
      "5的平方是25\n",
      "不做事\n",
      "a格式錯誤\n",
      "格式錯誤\n",
      "程式結束\n"
     ]
    }
   ],
   "source": [
    "##continue\n",
    "'''應用：輸入一數值，奇數輸出平方；偶數不做動作；q離開'''\n",
    "while True:\n",
    "    value = input(\"請輸入整數，輸入q離開：\")\n",
    "    if value == 'q':\n",
    "        break\n",
    "    try:\n",
    "        valueInt = int(value)\n",
    "    except:\n",
    "        print(f\"{value}格式錯誤\")\n",
    "        continue\n",
    "\n",
    "    if valueInt % 2 == 1:\n",
    "        print(f\"{valueInt}的平方是{valueInt ** 2}\")\n",
    "    else:\n",
    "        print(\"不做事\")\n",
    "        \n",
    "print(\"程式結束\")"
   ]
  },
  {
   "cell_type": "code",
   "execution_count": 25,
   "metadata": {},
   "outputs": [
    {
     "name": "stdout",
     "output_type": "stream",
     "text": [
      "應用程式結束\n"
     ]
    }
   ],
   "source": [
    "'''作業：'''\n",
    "end = [\"q\",\"Q\",\"quit\",\"Quit\",\"QUIT\"]\n",
    "while True:\n",
    "    value = input(\"請輸入整數，輸入q, Q, quit, Quit, QUIT離開：\")\n",
    "    if value in end:\n",
    "        break\n",
    "    try:\n",
    "        valueInt = int(value)\n",
    "    except:\n",
    "        print(f\"{value}格式錯誤\")\n",
    "        continue\n",
    "\n",
    "    if valueInt % 2 == 1:\n",
    "        print(f\"{valueInt}的平方是{valueInt ** 2}\")\n",
    "    else:\n",
    "        print(\"不做事\")\n",
    "        \n",
    "print(\"應用程式結束\")"
   ]
  },
  {
   "cell_type": "code",
   "execution_count": 26,
   "metadata": {},
   "outputs": [
    {
     "name": "stdout",
     "output_type": "stream",
     "text": [
      "1\n",
      "72\n"
     ]
    }
   ],
   "source": [
    "#亂數\n",
    "import random\n",
    "\n",
    "num1 = random.randint(1,5)  #建立1~5的隨機亂數\n",
    "print(num1)\n",
    "min = 1\n",
    "max = 100\n",
    "num2 = random.randint(min,max)\n",
    "print(num2)"
   ]
  },
  {
   "cell_type": "code",
   "execution_count": 7,
   "metadata": {},
   "outputs": [
    {
     "name": "stdout",
     "output_type": "stream",
     "text": [
      "95\n",
      "=====猜數字遊戲=====\n",
      "猜數字範圍1~100：95\n",
      "BINGO!!!答案是：95\n",
      "您共猜了1次\n",
      "請問是否繼續下一輪遊戲(y/n)?Blank values are not allowed.\n",
      "請問是否繼續下一輪遊戲(y/n)?遊戲結束\n"
     ]
    }
   ],
   "source": [
    "'''應用：猜數字小遊戲'''\n",
    "import pyinputplus as pyip\n",
    "import random as rand\n",
    "while True:\n",
    "    count = 0\n",
    "    min = 1\n",
    "    max = 100\n",
    "    ans = rand.randint(min,max)\n",
    "    print(ans)\n",
    "    print(\"=====猜數字遊戲=====\")\n",
    "    while True:\n",
    "        guess = pyip.inputInt(f\"猜數字範圍{min}~{max}：\")\n",
    "        print(guess)\n",
    "        count += 1\n",
    "        if guess == ans:\n",
    "            print(f\"BINGO!!!答案是：{ans}\\n您共猜了{count}次\")\n",
    "            break\n",
    "        elif guess > ans:\n",
    "            print(\"再小一點\")\n",
    "            max = guess\n",
    "        elif guess < ans:\n",
    "            print(\"再大一點\")\n",
    "            min = guess\n",
    "        print(f\"您已經猜了{count}次\\n====================\")\n",
    "    check = pyip.inputYesNo(\"請問是否繼續下一輪遊戲(y/n)?\")\n",
    "    if check == 'no':\n",
    "        break\n",
    "\n",
    "print(\"遊戲結束\")\n",
    "    "
   ]
  },
  {
   "cell_type": "code",
   "execution_count": 10,
   "metadata": {},
   "outputs": [
    {
     "name": "stdout",
     "output_type": "stream",
     "text": [
      "Hello!\n",
      "Hello!\n",
      "Hello!\n"
     ]
    }
   ],
   "source": [
    "#自訂函數\n",
    "##沒有接收值也沒有傳回值\n",
    "def sayHello():\n",
    "    print(\"Hello!\")\n",
    "\n",
    "sayHello()\n",
    "sayHello()\n",
    "sayHello()"
   ]
  },
  {
   "cell_type": "code",
   "execution_count": null,
   "metadata": {},
   "outputs": [],
   "source": []
  }
 ],
 "metadata": {
  "kernelspec": {
   "display_name": "Python 3",
   "language": "python",
   "name": "python3"
  },
  "language_info": {
   "codemirror_mode": {
    "name": "ipython",
    "version": 3
   },
   "file_extension": ".py",
   "mimetype": "text/x-python",
   "name": "python",
   "nbconvert_exporter": "python",
   "pygments_lexer": "ipython3",
   "version": "3.10.13"
  }
 },
 "nbformat": 4,
 "nbformat_minor": 2
}
