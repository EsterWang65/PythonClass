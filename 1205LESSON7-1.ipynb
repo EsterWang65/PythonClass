{
 "cells": [
  {
   "cell_type": "code",
   "execution_count": 1,
   "metadata": {},
   "outputs": [
    {
     "name": "stdout",
     "output_type": "stream",
     "text": [
      "請輸入本月份存款：5000\n",
      "請輸入本月份存款：7000\n",
      "請輸入本月份存款：36554\n",
      "恭喜！已經存夠了，總存款為：48554\n"
     ]
    }
   ],
   "source": [
    "#while迴圈\n",
    "##不知道明確執行次數\n",
    "'''應用：每月存錢，當存到30000援救顯示提示訊息告知'''\n",
    "import pyinputplus as pyip\n",
    "deposit = 0\n",
    "while deposit < 30000:\n",
    "    month = pyip.inputInt(\"請輸入本月份存款：\")\n",
    "    print(month)\n",
    "    deposit += month\n",
    "print(f\"恭喜！已經存夠了，總存款為：{deposit}\")"
   ]
  }
 ],
 "metadata": {
  "kernelspec": {
   "display_name": "Python 3",
   "language": "python",
   "name": "python3"
  },
  "language_info": {
   "codemirror_mode": {
    "name": "ipython",
    "version": 3
   },
   "file_extension": ".py",
   "mimetype": "text/x-python",
   "name": "python",
   "nbconvert_exporter": "python",
   "pygments_lexer": "ipython3",
   "version": "3.10.13"
  }
 },
 "nbformat": 4,
 "nbformat_minor": 2
}
