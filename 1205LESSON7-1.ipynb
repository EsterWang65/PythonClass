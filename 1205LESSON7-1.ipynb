{
 "cells": [
  {
   "cell_type": "code",
   "execution_count": 4,
   "metadata": {},
   "outputs": [
    {
     "name": "stdout",
     "output_type": "stream",
     "text": [
      "請輸入第1個月份存款：3444\n",
      "請輸入第2個月份存款：543\n",
      "請輸入第3個月份存款：224455\n",
      "恭喜！已經存夠了，共存了3個月，總存款為：228442\n"
     ]
    }
   ],
   "source": [
    "#while迴圈\n",
    "##不知道明確執行次數\n",
    "'''應用：每月存錢，當存到30000援救顯示提示訊息告知'''\n",
    "import pyinputplus as pyip\n",
    "month = 0\n",
    "deposit = 0\n",
    "while deposit < 30000:\n",
    "    month += 1\n",
    "    month_money = pyip.inputInt(f\"請輸入第{month}個月份存款：\")\n",
    "    print(month_money)\n",
    "    deposit += month_money\n",
    "print(f\"恭喜！已經存夠了，共存了{month}個月，總存款為：{deposit}\")"
   ]
  },
  {
   "cell_type": "code",
   "execution_count": 11,
   "metadata": {},
   "outputs": [
    {
     "name": "stdout",
     "output_type": "stream",
     "text": [
      "請輸入小寫英文字(按q就離開)：結束程式\n"
     ]
    }
   ],
   "source": [
    "#迴圈中斷\n",
    "'''若想跳出某一迴圈，有兩種方法，第一為等條件判斷為否時跳出(如while True迴圈、for迴圈執行次數結束等)，\n",
    "第二為用迴圈中斷語法。但若迴圈的程式區塊有非常多行，用第一種方法就要等程式區塊整個執行完回到迴圈開頭(while或for處)才能決定跳不跳出；\n",
    "而用第二種方法即可在程式區塊中任一處跳出迴圈，故用迴圈中斷語法會讓程式整體較為靈活。\n",
    "迴圈中段有兩種語法：\n",
    "break：直接跳出該迴圈；\n",
    "continue：跳過此次迴圈(若該迴圈continue底下還有其他程式就不再執行)，直接繼續執行下一個迴圈。'''\n",
    "\n",
    "##break\n",
    "'''應用：請輸入小寫英文字母，列印出第一個字大寫的英文字；如果輸入q就離開'''\n",
    "import pyinputplus as pyip\n",
    "while True:\n",
    "    str1 = pyip.inputStr(\"請輸入小寫英文字(按q就離開)：\")\n",
    "    if str1 == 'q':\n",
    "        break\n",
    "    print(str1.capitalize())  #字串變數名稱.capitalize()為一(字串的)實體方法，會將本字串的首字母大寫，其餘字母小寫\n",
    "    \n",
    "print(\"結束程式\")\n"
   ]
  },
  {
   "cell_type": "code",
   "execution_count": 17,
   "metadata": {},
   "outputs": [
    {
     "name": "stdout",
     "output_type": "stream",
     "text": [
      "請輸入第1位學生成績：50\n",
      "請輸入第2位學生成績：100\n",
      "請輸入第3位學生成績：-4\n",
      "全班總成績：150\n",
      "全班平均成績：75.00\n"
     ]
    }
   ],
   "source": [
    "'''應用：輸入成績，若輸入負數則結束；輸入結束後顯示班上總成績及平均成績'''\n",
    "import pyinputplus as pyip\n",
    "total = num = 0  #注意：不能寫在迴圈哩，否則每跑一次迴圈就會歸零\n",
    "while True:\n",
    "    score = pyip.inputInt(f\"請輸入第{num + 1}位學生成績：\")\n",
    "    print(score)\n",
    "    if score < 0:\n",
    "        break\n",
    "    total += score\n",
    "    num += 1\n",
    "    \n",
    "print(f\"全班總成績：{total}\\n全班平均成績：{total / num:.2f}\")\n"
   ]
  },
  {
   "cell_type": "code",
   "execution_count": 19,
   "metadata": {},
   "outputs": [
    {
     "name": "stdout",
     "output_type": "stream",
     "text": [
      "3的平方是9\n",
      "5的平方是25\n",
      "不做事\n",
      "a格式錯誤\n",
      "格式錯誤\n",
      "程式結束\n"
     ]
    }
   ],
   "source": [
    "##continue\n",
    "'''應用：輸入一數值，輸入值為奇數就輸出平方；為偶數就不做動作；為q就離開'''\n",
    "while True:\n",
    "    value = input(\"請輸入整數，輸入q離開：\")  #value資料型態為字串\n",
    "    if value == 'q':\n",
    "        break\n",
    "    try:\n",
    "        valueInt = int(value)  #將value強迫轉型態為整數\n",
    "    except:\n",
    "        print(f\"{value}格式錯誤\")\n",
    "        continue\n",
    "\n",
    "    if valueInt % 2 == 1:\n",
    "        print(f\"{valueInt}的平方是{valueInt ** 2}\")\n",
    "    else:\n",
    "        print(\"不做事\")\n",
    "        \n",
    "print(\"程式結束\")"
   ]
  },
  {
   "cell_type": "code",
   "execution_count": 25,
   "metadata": {},
   "outputs": [
    {
     "name": "stdout",
     "output_type": "stream",
     "text": [
      "應用程式結束\n"
     ]
    }
   ],
   "source": [
    "'''作業：輸入一數值，輸入值為奇數就輸出平方；為偶數就不做動作；為q, Q, quit, Quit, QUIT就離開'''\n",
    "end = [\"q\",\"Q\",\"quit\",\"Quit\",\"QUIT\"]\n",
    "while True:\n",
    "    value = input(\"請輸入整數，輸入q, Q, quit, Quit, QUIT離開：\")\n",
    "    if value in end:\n",
    "        break\n",
    "    try:\n",
    "        valueInt = int(value)\n",
    "    except:\n",
    "        print(f\"{value}格式錯誤\")\n",
    "        continue\n",
    "\n",
    "    if valueInt % 2 == 1:\n",
    "        print(f\"{valueInt}的平方是{valueInt ** 2}\")\n",
    "    else:\n",
    "        print(\"不做事\")\n",
    "        \n",
    "print(\"應用程式結束\")"
   ]
  },
  {
   "cell_type": "code",
   "execution_count": 26,
   "metadata": {},
   "outputs": [
    {
     "name": "stdout",
     "output_type": "stream",
     "text": [
      "1\n",
      "72\n"
     ]
    }
   ],
   "source": [
    "#亂數\n",
    "'''亂數函數定義在random此內部模組(module)中，故注意：要使用之前需先匯入(import)此模組。\n",
    "random為內部模組，不需要像外部模組(如pyinputplus)一樣安裝下載，只需先匯入模組即可使用。\n",
    "回傳整數亂數的函式有三種：\n",
    "1. random.randrange(start, stop, step)：其中stop即step可寫可不寫，會回傳包括a但不包括b值之間的整數亂數；\n",
    "2. random.randint(a, b)：與random.randrange(a, b+1)相同，會回傳包括a和b的值之間的整數亂數；\n",
    "3. random.getrandbites(k)：會回傳具有k個隨機位元的非負Python整數。'''\n",
    "import random\n",
    "num1 = random.randint(1,5)  #產生1~5的隨機亂數\n",
    "print(num1)\n",
    "min = 1\n",
    "max = 100\n",
    "num2 = random.randint(min,max)  #產生min到max間的隨機亂數\n",
    "print(num2)"
   ]
  },
  {
   "cell_type": "code",
   "execution_count": 7,
   "metadata": {},
   "outputs": [
    {
     "name": "stdout",
     "output_type": "stream",
     "text": [
      "95\n",
      "=====猜數字遊戲=====\n",
      "猜數字範圍1~100：95\n",
      "BINGO!!!答案是：95\n",
      "您共猜了1次\n",
      "請問是否繼續下一輪遊戲(y/n)?Blank values are not allowed.\n",
      "請問是否繼續下一輪遊戲(y/n)?遊戲結束\n"
     ]
    }
   ],
   "source": [
    "'''應用：猜數字小遊戲'''\n",
    "import pyinputplus as pyip\n",
    "import random as rand\n",
    "while True:\n",
    "    count = 0\n",
    "    min = 1\n",
    "    max = 100\n",
    "    ans = rand.randint(min,max)\n",
    "    # print(ans)\n",
    "    print(\"=====猜數字遊戲=====\")\n",
    "    while True:\n",
    "        guess = pyip.inputInt(f\"猜數字範圍{min}~{max}：\")\n",
    "        print(guess)\n",
    "        count += 1\n",
    "        if guess == ans:\n",
    "            print(f\"BINGO!!!答案是：{ans}\\n您共猜了{count}次\")\n",
    "            break\n",
    "        elif guess > ans:\n",
    "            print(\"再小一點\")\n",
    "            max = guess - 1\n",
    "        elif guess < ans:\n",
    "            print(\"再大一點\")\n",
    "            min = guess + 1\n",
    "        print(f\"您已經猜了{count}次\\n====================\")\n",
    "    check = pyip.inputYesNo(\"請問是否繼續下一輪遊戲(y/n)?\")\n",
    "    if check == 'no':\n",
    "        break\n",
    "\n",
    "print(\"遊戲結束\")\n",
    "    "
   ]
  },
  {
   "cell_type": "code",
   "execution_count": 10,
   "metadata": {},
   "outputs": [
    {
     "name": "stdout",
     "output_type": "stream",
     "text": [
      "Hello!\n",
      "Hello!\n",
      "Hello!\n"
     ]
    }
   ],
   "source": [
    "#自訂函數\n",
    "##沒有接收值也沒有傳回值\n",
    "def sayHello():\n",
    "    print(\"Hello!\")\n",
    "\n",
    "sayHello()\n",
    "sayHello()\n",
    "sayHello()"
   ]
  },
  {
   "cell_type": "code",
   "execution_count": null,
   "metadata": {},
   "outputs": [],
   "source": []
  }
 ],
 "metadata": {
  "kernelspec": {
   "display_name": "Python 3",
   "language": "python",
   "name": "python3"
  },
  "language_info": {
   "codemirror_mode": {
    "name": "ipython",
    "version": 3
   },
   "file_extension": ".py",
   "mimetype": "text/x-python",
   "name": "python",
   "nbconvert_exporter": "python",
   "pygments_lexer": "ipython3",
   "version": "3.10.13"
  }
 },
 "nbformat": 4,
 "nbformat_minor": 2
}
