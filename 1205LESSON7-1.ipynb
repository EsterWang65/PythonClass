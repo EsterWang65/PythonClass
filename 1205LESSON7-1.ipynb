{
 "cells": [
  {
   "cell_type": "code",
   "execution_count": 4,
   "metadata": {},
   "outputs": [
    {
     "name": "stdout",
     "output_type": "stream",
     "text": [
      "請輸入第1個月份存款：3444\n",
      "請輸入第2個月份存款：543\n",
      "請輸入第3個月份存款：224455\n",
      "恭喜！已經存夠了，共存了3個月，總存款為：228442\n"
     ]
    }
   ],
   "source": [
    "#while迴圈\n",
    "##不知道明確執行次數\n",
    "'''應用：每月存錢，當存到30000援救顯示提示訊息告知'''\n",
    "import pyinputplus as pyip\n",
    "month = 0\n",
    "deposit = 0\n",
    "while deposit < 30000:\n",
    "    month += 1\n",
    "    month_money = pyip.inputInt(f\"請輸入第{month}個月份存款：\")\n",
    "    print(month_money)\n",
    "    deposit += month_money\n",
    "print(f\"恭喜！已經存夠了，共存了{month}個月，總存款為：{deposit}\")"
   ]
  },
  {
   "cell_type": "code",
   "execution_count": 11,
   "metadata": {},
   "outputs": [
    {
     "name": "stdout",
     "output_type": "stream",
     "text": [
      "請輸入小寫英文字(按q就離開)：結束程式\n"
     ]
    }
   ],
   "source": [
    "'''應用：請輸入小寫英文字母，列印出第一個字大寫的英文字；如果輸入q就離開'''\n",
    "import pyinputplus as pyip\n",
    "while True:\n",
    "    str1 = pyip.inputStr(\"請輸入小寫英文字(按q就離開)：\")\n",
    "    if str1 == 'q':\n",
    "        break\n",
    "    print(str1.capitalize())\n",
    "print(\"結束程式\")\n"
   ]
  }
 ],
 "metadata": {
  "kernelspec": {
   "display_name": "Python 3",
   "language": "python",
   "name": "python3"
  },
  "language_info": {
   "codemirror_mode": {
    "name": "ipython",
    "version": 3
   },
   "file_extension": ".py",
   "mimetype": "text/x-python",
   "name": "python",
   "nbconvert_exporter": "python",
   "pygments_lexer": "ipython3",
   "version": "3.10.13"
  }
 },
 "nbformat": 4,
 "nbformat_minor": 2
}
