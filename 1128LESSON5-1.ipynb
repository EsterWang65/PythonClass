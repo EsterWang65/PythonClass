{
 "cells": [
  {
   "cell_type": "code",
   "execution_count": 1,
   "metadata": {},
   "outputs": [
    {
     "ename": "SyntaxError",
     "evalue": "invalid decimal literal (<string>, line 1)",
     "output_type": "error",
     "traceback": [
      "Traceback \u001b[0;36m(most recent call last)\u001b[0m:\n",
      "\u001b[0m  File \u001b[1;32m~/.local/lib/python3.10/site-packages/IPython/core/interactiveshell.py:3548\u001b[0m in \u001b[1;35mrun_code\u001b[0m\n    exec(code_obj, self.user_global_ns, self.user_ns)\u001b[0m\n",
      "\u001b[0;36m  Cell \u001b[0;32mIn[1], line 1\u001b[0;36m\n\u001b[0;31m    money = eval(input(\"請輸入金額:\"))\u001b[0;36m\n",
      "\u001b[0;36m  File \u001b[0;32m<string>:1\u001b[0;36m\u001b[0m\n\u001b[0;31m    25a\u001b[0m\n\u001b[0m     ^\u001b[0m\n\u001b[0;31mSyntaxError\u001b[0m\u001b[0;31m:\u001b[0m invalid decimal literal\n"
     ]
    }
   ],
   "source": [
    "money = eval(input(\"請輸入金額:\"))\n",
    "print(money)\n",
    "'''若使用者輸入之格式錯誤(非整數或浮點數型態，例: 25a)時就會顯示錯誤SyntaxError。\n",
    "注意：輸入錯誤格式，系統會在第一行第二步(轉換型別為整數或浮點數，第一步為輸入)時就crash(SyntaxError)，因此不會繼續執行(第二行)。'''"
   ]
  },
  {
   "cell_type": "code",
   "execution_count": 2,
   "metadata": {},
   "outputs": [
    {
     "ename": "ValueError",
     "evalue": "invalid literal for int() with base 10: '2.2'",
     "output_type": "error",
     "traceback": [
      "\u001b[0;31m---------------------------------------------------------------------------\u001b[0m",
      "\u001b[0;31mValueError\u001b[0m                                Traceback (most recent call last)",
      "\u001b[1;32m/workspaces/PythonClass/1128LESSON5-1.ipynb 儲存格 2\u001b[0m line \u001b[0;36m1\n\u001b[0;32m----> <a href='vscode-notebook-cell://codespaces%2Breimagined-bassoon-4jjgjwg57q47f7wv/workspaces/PythonClass/1128LESSON5-1.ipynb#W1sdnNjb2RlLXJlbW90ZQ%3D%3D?line=0'>1</a>\u001b[0m money \u001b[39m=\u001b[39m \u001b[39mint\u001b[39;49m(\u001b[39minput\u001b[39;49m(\u001b[39m\"\u001b[39;49m\u001b[39m請輸入金額:\u001b[39;49m\u001b[39m\"\u001b[39;49m))\n\u001b[1;32m      <a href='vscode-notebook-cell://codespaces%2Breimagined-bassoon-4jjgjwg57q47f7wv/workspaces/PythonClass/1128LESSON5-1.ipynb#W1sdnNjb2RlLXJlbW90ZQ%3D%3D?line=1'>2</a>\u001b[0m \u001b[39mprint\u001b[39m(money)\n\u001b[1;32m      <a href='vscode-notebook-cell://codespaces%2Breimagined-bassoon-4jjgjwg57q47f7wv/workspaces/PythonClass/1128LESSON5-1.ipynb#W1sdnNjb2RlLXJlbW90ZQ%3D%3D?line=2'>3</a>\u001b[0m \u001b[39m##若使用者輸入之格式錯誤(非整數型態，例: 25a)時就會顯示錯誤SyntaxError\u001b[39;00m\n",
      "\u001b[0;31mValueError\u001b[0m: invalid literal for int() with base 10: '2.2'"
     ]
    }
   ],
   "source": [
    "money = int(input(\"請輸入金額:\"))\n",
    "print(money)\n",
    "'''若使用者輸入之格式錯誤(非整數型態，例: 25a或12.2)時就會顯示錯誤ValueError(語法錯誤)\n",
    "注意：輸入錯誤格式，系統會在第一行第二步(轉換型別為整數，第一步為輸入)時就crash(ValueError)，因此不會繼續執行(第二行)。'''"
   ]
  },
  {
   "cell_type": "code",
   "execution_count": 4,
   "metadata": {},
   "outputs": [
    {
     "name": "stdout",
     "output_type": "stream",
     "text": [
      "輸入金額時有問題\n",
      "應用程式結束\n"
     ]
    }
   ],
   "source": [
    "#例外處理Error Handling/Exception Handling\n",
    "'''基本架構:try: 程式碼區塊  except: 程式碼區塊  else: 程式碼區塊(else可有可無)。特定型態的例外處理下，可以有多個except。\n",
    "執行try的程式碼區塊，若是出錯(Error)則執行except的程式碼區塊(處理錯誤)，處理完再繼續往下執行程式。\n",
    "若是try的程式碼區塊出錯，且程式碼中有多個except，一定會執行其中一個。若是都沒有出錯，則執行else的程式區塊(可有可無)或繼續往下執行程式。\n",
    "注意:一種錯誤型態只能有一種例外處理方式(except ...)，包含except。\n",
    "注意：else只能有一個。'''\n",
    "#一個except\n",
    "try:\n",
    "    money = int(input(\"請輸入金額:\"))\n",
    "    print(money)\n",
    "except:  #無論甚麼類型的錯誤都處理\n",
    "    print(\"輸入格式有問題\")\n",
    "print(\"應用程式結束\")  #若try程式區塊沒有出錯，則跳過except，直接執行此行程式\n",
    "\n",
    "##多個特定型態的except\n",
    "try:\n",
    "    money = int(input(\"請輸入金額:\"))  #若在此行就偵測到錯誤，則直接跳掉except執行程式，而無法再繼續執行下行(輸入年齡)\n",
    "    age = eval(input(\"請輸入浮點數:\"))\n",
    "except SyntaxError:  #SyntaxError的例外處理\n",
    "    print(\"輸入浮點數時有問題\")\n",
    "except ValueError:  #ValueError的例外處理\n",
    "    print(\"輸入金額時有問題\")\n",
    "except:  #SyntaxError和ValueError以外的例外處理\n",
    "    print(\"不知名的錯誤\")\n",
    "else:  #try的程式碼區塊沒有出錯就執行else\n",
    "    print(money)\n",
    "    print(age)\n",
    "print(\"應用程式結束\")"
   ]
  },
  {
   "cell_type": "code",
   "execution_count": 8,
   "metadata": {},
   "outputs": [
    {
     "name": "stdout",
     "output_type": "stream",
     "text": [
      "學生分數是122\n"
     ]
    }
   ],
   "source": [
    "##應用:總分為300；檢查學生輸入的分數是否<=300；檢查輸入之格式是否正確；有些學生可加分5%；若超過300分，就以300分為準\n",
    "try:\n",
    "    score = int(input(\"請輸入學生分數(最高300分\"))  \n",
    "except ValueError:\n",
    "    print(\"格式有錯\")\n",
    "except:\n",
    "    print(\"不知名的錯誤\")\n",
    "else:\n",
    "    if score <= 300:  \n",
    "        add = input(\"學生是否符合加分條件?(y,n)\")\n",
    "        if add == \"y\":  \n",
    "            score *= 1.05\n",
    "            if score > 300:\n",
    "                score = 300\n",
    "        print(f\"學生分數是{round(score)}\") \n",
    "    else:\n",
    "        print(\"學生分數不可以大於300\")\n",
    "    "
   ]
  },
  {
   "cell_type": "code",
   "execution_count": null,
   "metadata": {},
   "outputs": [],
   "source": [
    "#外部模組(module/package)\n",
    "##可用PyPI網站找尋開源(open source)(免費)\n",
    "\n",
    "import pyinputplus as pyip\n",
    "##應用:總分為300；檢查學生輸入的分數是否<=300；檢查輸入之格式是否正確；有些學生可加分5%；若超過300分，就以300分為準\n",
    "score = pyip.inputInt(\"請輸入學生分數(最高300分):\",min = 0,max = 300) \n",
    "print(score) \n",
    "add = pyip.inputYesNo(\"學生是否符合加分條件?(y,n)\",yesVal='y',noVal='n',default='n',blank=True)\n",
    "print(add)\n",
    "if add == \"y\":  \n",
    "    score *= 1.05\n",
    "    if score > 300:\n",
    "        score = 300\n",
    "print(f\"學生分數是{round(score)}\") \n",
    "# else:                                 ##\n",
    "#     print(\"學生分數不可以大於300\")"
   ]
  },
  {
   "cell_type": "code",
   "execution_count": null,
   "metadata": {},
   "outputs": [],
   "source": [
    "##應用：請輸入學生分數0~100；0~59不及格；60~79及格；80~100優\n",
    "import pyinputplus as pyip\n",
    "score = pyip.inputInt(\"請輸入學生分數(1~100):\",max=100,min=0)\n",
    "if score < 60:\n",
    "    print(\"不及格\")\n",
    "elif score >= 60 and score <80:\n",
    "    print(\"及格\")\n",
    "else:\n",
    "    print(\"優\")"
   ]
  }
 ],
 "metadata": {
  "kernelspec": {
   "display_name": "Python 3",
   "language": "python",
   "name": "python3"
  },
  "language_info": {
   "codemirror_mode": {
    "name": "ipython",
    "version": 3
   },
   "file_extension": ".py",
   "mimetype": "text/x-python",
   "name": "python",
   "nbconvert_exporter": "python",
   "pygments_lexer": "ipython3",
   "version": "3.10.13"
  }
 },
 "nbformat": 4,
 "nbformat_minor": 2
}
