{
 "cells": [
  {
   "cell_type": "code",
   "execution_count": null,
   "metadata": {},
   "outputs": [],
   "source": [
    "money = eval(input(\"請輸入金額:\"))\n",
    "print(money)\n"
   ]
  },
  {
   "cell_type": "code",
   "execution_count": null,
   "metadata": {},
   "outputs": [],
   "source": [
    "money = int(input(\"請輸入金額:\"))\n",
    "print(money)\n"
   ]
  },
  {
   "cell_type": "code",
   "execution_count": null,
   "metadata": {},
   "outputs": [],
   "source": [
    "#例外處理Error Handling/Exception Handling\n",
    "'''基本架構:try: 程式碼區塊  except: 程式碼區塊  else: 程式碼區塊(else可有可無)。特定型態的例外處理下，可以有多個except。\n",
    "執行try的程式碼區塊，若是出錯(Error)則執行except的程式碼區塊(處理錯誤)，處理完再繼續往下執行程式。\n",
    "若是出錯，且程式碼中有多個except，一定會執行其中一個。若是都沒有出錯，則執行else的程式區塊(可有可無)。\n",
    "注意:一種型態只能有一種例外處理方式(except)，包含except。'''\n",
    "##一個except\n",
    "try:\n",
    "    money = int(input(\"請輸入金額:\"))\n",
    "    print(money)\n",
    "except:\n",
    "    print(\"輸入格式有問題\")\n",
    "print(\"應用程式結束\")\n",
    "##多個特定型態的except\n",
    "try:\n",
    "    money = int(input(\"請輸入金額:\"))\n",
    "    age = eval(input(\"請輸入浮點數:\"))\n",
    "except SyntaxError:  #SyntaxError的例外處理\n",
    "    print(\"輸入浮點數時有問題\")\n",
    "except ValueError:  #ValueError的例外處理\n",
    "    print(\"輸入金額時有問題\")\n",
    "except:  #SyntaxError和ValueError以外的例外處理\n",
    "    print(\"不知名的錯誤\")\n",
    "else:  #沒有出錯就執行else\n",
    "    print(money)\n",
    "    print(age)\n",
    "print(\"應用程式結束\")"
   ]
  },
  {
   "cell_type": "code",
   "execution_count": null,
   "metadata": {},
   "outputs": [],
   "source": [
    "##應用:總分為300；檢查學生輸入的分數是否<=300；檢查輸入之格式是否正確；有些學生可加分5%；若超過300分，就以300分為準\n",
    "try:\n",
    "    score = int(input(\"請輸入學生分數(最高300分\"))  \n",
    "except ValueError:\n",
    "    print(\"格式有錯\")\n",
    "except:\n",
    "    print(\"不知名的錯誤\")\n",
    "else:\n",
    "    if score <= 300:  \n",
    "        add = input(\"學生是否符合加分條件?(y,n)\")\n",
    "        if add == \"y\":  \n",
    "            score *= 1.05\n",
    "            if score > 300:\n",
    "                score = 300\n",
    "        print(f\"學生分數是{round(score)}\") \n",
    "    else:\n",
    "        print(\"學生分數不可以大於300\")\n",
    "    "
   ]
  }
 ],
 "metadata": {
  "language_info": {
   "name": "python"
  }
 },
 "nbformat": 4,
 "nbformat_minor": 2
}
