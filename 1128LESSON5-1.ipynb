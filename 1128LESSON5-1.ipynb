{
 "cells": [
  {
   "cell_type": "code",
   "execution_count": 1,
   "metadata": {},
   "outputs": [
    {
     "ename": "SyntaxError",
     "evalue": "invalid decimal literal (<string>, line 1)",
     "output_type": "error",
     "traceback": [
      "Traceback \u001b[0;36m(most recent call last)\u001b[0m:\n",
      "\u001b[0m  File \u001b[1;32m~/.local/lib/python3.10/site-packages/IPython/core/interactiveshell.py:3548\u001b[0m in \u001b[1;35mrun_code\u001b[0m\n    exec(code_obj, self.user_global_ns, self.user_ns)\u001b[0m\n",
      "\u001b[0;36m  Cell \u001b[0;32mIn[1], line 1\u001b[0;36m\n\u001b[0;31m    money = eval(input(\"請輸入金額:\"))\u001b[0;36m\n",
      "\u001b[0;36m  File \u001b[0;32m<string>:1\u001b[0;36m\u001b[0m\n\u001b[0;31m    25a\u001b[0m\n\u001b[0m     ^\u001b[0m\n\u001b[0;31mSyntaxError\u001b[0m\u001b[0;31m:\u001b[0m invalid decimal literal\n"
     ]
    }
   ],
   "source": [
    "money = eval(input(\"請輸入金額：\"))\n",
    "print(money)\n",
    "'''若使用者輸入之格式錯誤(非整數或浮點數型態，例： 25a)時就會顯示錯誤SyntaxError: invalid decimal literal。\n",
    "注意：輸入錯誤格式，系統會在第一行的第二步，即轉換型別為整數或浮點數(第一步為輸入)時就crash(SyntaxError)，因此不會繼續執行(第二行)。'''"
   ]
  },
  {
   "cell_type": "code",
   "execution_count": 1,
   "metadata": {
    "metadata": {}
   },
   "outputs": [
    {
     "ename": "ValueError",
     "evalue": "invalid literal for int() with base 10: '25a'",
     "output_type": "error",
     "traceback": [
      "\u001b[0;31m---------------------------------------------------------------------------\u001b[0m",
      "\u001b[0;31mValueError\u001b[0m                                Traceback (most recent call last)",
      "Cell \u001b[0;32mIn[1], line 1\u001b[0m\n\u001b[0;32m----> 1\u001b[0m money \u001b[38;5;241m=\u001b[39m \u001b[38;5;28;43mint\u001b[39;49m\u001b[43m(\u001b[49m\u001b[38;5;28;43minput\u001b[39;49m\u001b[43m(\u001b[49m\u001b[38;5;124;43m\"\u001b[39;49m\u001b[38;5;124;43m請輸入金額:\u001b[39;49m\u001b[38;5;124;43m\"\u001b[39;49m\u001b[43m)\u001b[49m\u001b[43m)\u001b[49m\n\u001b[1;32m      2\u001b[0m \u001b[38;5;28mprint\u001b[39m(money)\n\u001b[1;32m      3\u001b[0m \u001b[38;5;124;03m'''若使用者輸入之格式錯誤(非整數型態，例: 25a或2.2)時就會顯示錯誤ValueError(語法錯誤): invalid literal for int() with base 10: '2.2'\u001b[39;00m\n\u001b[1;32m      4\u001b[0m \u001b[38;5;124;03m注意：輸入錯誤格式，系統會在第一行第二步(轉換型別為整數，第一步為輸入)時就crash(ValueError)，因此不會繼續執行(第二行)。'''\u001b[39;00m\n",
      "\u001b[0;31mValueError\u001b[0m: invalid literal for int() with base 10: '25a'"
     ]
    }
   ],
   "source": [
    "money = int(input(\"請輸入金額(整數)：\"))\n",
    "print(money)\n",
    "'''若使用者輸入之格式錯誤(非整數型態，例: 25a或2.2)時就會顯示錯誤ValueError(語法錯誤): invalid literal for int() with base 10: '2.2'\n",
    "注意：輸入錯誤格式，系統會在第一行第二步(轉換型別為整數，第一步為輸入)時就crash(ValueError)，因此不會繼續執行(第二行)。'''"
   ]
  },
  {
   "cell_type": "code",
   "execution_count": 4,
   "metadata": {},
   "outputs": [
    {
     "name": "stdout",
     "output_type": "stream",
     "text": [
      "輸入金額時有問題\n",
      "應用程式結束\n"
     ]
    }
   ],
   "source": [
    "#例外處理Error Handling/Exception Handling\n",
    "'''基本架構：try:  程式碼區塊  except:  程式碼區塊  else:  程式碼區塊(else可有可無)。特定型態的例外處理下，可以有多個except。\n",
    "執行try的程式碼區塊，若是出錯(Error)則執行except的程式碼區塊(處理錯誤)，處理完再繼續往下執行程式。\n",
    "若是try的程式碼區塊出錯，且程式碼中有多個except，一定會執行其中一個。若是都沒有出錯，則執行else的程式區塊(可有可無)或繼續往下執行程式。\n",
    "注意:一種錯誤型態只能有一種例外處理方式(except ...)，包含except。\n",
    "注意：else只能有一個。'''\n",
    "\n",
    "##一個except\n",
    "try:\n",
    "    money = int(input(\"請輸入金額(整數)：\"))\n",
    "    print(money)\n",
    "except:  #無論甚麼類型的錯誤都處理\n",
    "    print(\"輸入格式有問題\")\n",
    "print(\"應用程式結束\")  #若try程式區塊沒有出錯，則跳過except，直接執行此行程式\n"
   ]
  },
  {
   "cell_type": "code",
   "execution_count": 4,
   "metadata": {
    "metadata": {}
   },
   "outputs": [
    {
     "name": "stdout",
     "output_type": "stream",
     "text": [
      "輸入金額時有問題\n",
      "應用程式結束\n"
     ]
    }
   ],
   "source": [
    "##多個特定型態的except\n",
    "try:\n",
    "    money = int(input(\"請輸入金額(整數)：\"))  #若在此行就偵測到錯誤，則直接跳掉except執行程式，而無法再繼續執行下行(輸入年齡)\n",
    "    age = eval(input(\"請輸入浮點數：\"))\n",
    "except SyntaxError:  #SyntaxError的例外處理\n",
    "    print(\"輸入浮點數時有問題\")\n",
    "except ValueError:  #ValueError的例外處理\n",
    "    print(\"輸入金額時有問題\")\n",
    "except:  #SyntaxError和ValueError以外的例外處理\n",
    "    print(\"不知名的錯誤\")\n",
    "else:  #try的程式碼區塊沒有出錯就執行else\n",
    "    print(money)\n",
    "    print(age)\n",
    "print(\"應用程式結束\")"
   ]
  },
  {
   "cell_type": "code",
   "execution_count": 10,
   "metadata": {},
   "outputs": [
    {
     "name": "stdout",
     "output_type": "stream",
     "text": [
      "學生分數是210\n"
     ]
    }
   ],
   "source": [
    "##應用:總分為300；檢查學生輸入的分數是否<=300；檢查輸入之格式是否正確；有些學生可加分5%；若超過300分，就以300分為準\n",
    "try:\n",
    "    score = int(input(\"請輸入學生分數(最高300分\"))  \n",
    "except ValueError:\n",
    "    print(\"格式有錯\")\n",
    "except:\n",
    "    print(\"不知名的錯誤\")\n",
    "else:\n",
    "    if score <= 300:  \n",
    "        add = input(\"學生是否符合加分條件?(y,n)\")\n",
    "        if add == \"y\":  \n",
    "            score *= 1.05\n",
    "            if score > 300:\n",
    "                score = 300\n",
    "        print(f\"學生分數是{round(score)}\") \n",
    "    else:\n",
    "        print(\"學生分數不可以大於300\")\n",
    "    "
   ]
  },
  {
   "cell_type": "code",
   "execution_count": 4,
   "metadata": {},
   "outputs": [
    {
     "name": "stdout",
     "output_type": "stream",
     "text": [
      "請輸入學生分數(最高300分):233\n",
      "學生是否符合加分條件?(y,n)y\n",
      "學生分數是245\n"
     ]
    }
   ],
   "source": [
    "#外部模組(模組module/package)\n",
    "'''寫程式時，除了善用Python內建的函式庫或是模組(如math, statistics等)之外，\n",
    "也可以嘗試查詢是否有外部模組可使用。可用PyPI網站找尋開源(open source)(免費)並下載來用。\n",
    "例：要使用pyinputplus(檢查輸入)此外部模組，首先可以在PyPI搜尋pyinputplus，\n",
    "然後用網站給的指令pip install PyInputPlus(pip:Python的套件管理程式)透過終端機(新增終端機)安裝(下載)此外部模組。\n",
    "接著在程式中若要使用此模組的函式，必須先在程式之前匯入該模組import pyinputplus as pyip，\n",
    "as pyip的意思為給pyinputplus另一個(簡化)名稱為pyip，下面程式使用時可不用打那麼長的名字。\n",
    "注意：一般會在專案中加入一個文字檔requirements.txt來記錄此專案的程式中用了哪些外部套件(名稱==版本)來告知其他使用者以便先行做下載安裝。\n",
    "而其他使用者要使用該專案時可先在終端機執行指令碼pip install -r requirements.txt便可一次安裝所有外部套件。'''\n",
    "\n",
    "##應用:總分為300；檢查學生輸入的分數是否<=300；檢查輸入之格式是否正確；有些學生可加分5%；若超過300分，就以300分為準\n",
    "import pyinputplus as pyip\n",
    "score = pyip.inputInt(\"請輸入學生分數(最高300分):\",min = 0,max = 300)\n",
    "'''pyip.inputInt()會將使用者輸入之值自動轉為整數型態，如此可不用再寫int()來轉換型別。\n",
    "且可指定輸入值範圍(min和max順序可對調)，因此可以少掉檢查輸入值是否超出範圍的條件判斷式。\n",
    "且若輸入錯誤(例格式錯誤或超出範圍)不會crash，而是出現錯誤提醒，並繼續讓使用者持續重新輸入。\n",
    "注意：執行結果會顯示提示字串(\"\"內的文字)。'''\n",
    "print(score) \n",
    "add = pyip.inputYesNo(\"學生是否符合加分條件?(y,n)\",yesVal='y',noVal='n',default='n',blank=True)\n",
    "'''pyip.inputYesNo()可檢查輸入之值是否為是或否。\n",
    "注意：必須指定yes/no應該輸入之值，而該函式為case-insensistive(指定y時，可輸入y或Y)。\n",
    "並可另外指定預設值及是否可以輸入空白(不輸入)，若指定為True，系統執行預設值(default)，若指定為False，則顯示錯誤提醒並讓使用者重新輸入。'''\n",
    "print(add)\n",
    "if add == \"y\":  \n",
    "    score *= 1.05\n",
    "    if score > 300:\n",
    "        score = 300\n",
    "print(f\"學生分數是{round(score)}\") \n",
    "# else:                                 ##已經會自動偵測是否超出範圍，故此條件判斷便可不用寫\n",
    "#     print(\"學生分數不可以大於300\")"
   ]
  },
  {
   "cell_type": "code",
   "execution_count": 24,
   "metadata": {},
   "outputs": [
    {
     "name": "stdout",
     "output_type": "stream",
     "text": [
      "請輸入學生分數(1~100):80\n",
      "優\n"
     ]
    }
   ],
   "source": [
    "#多項選擇(多個條件判斷)\n",
    "##應用：請輸入學生分數0~100；0~59不及格；60~69丙；70~79乙；80~89甲；90~100優\n",
    "import pyinputplus as pyip\n",
    "score = pyip.inputInt(\"請輸入學生分數(1~100):\",max=100,min=0)\n",
    "print(score)\n",
    "if score < 60:\n",
    "    print(\"不及格\")\n",
    "elif score >= 60 and score <70:\n",
    "    print(\"丙\")\n",
    "elif score >= 70 and score <80:\n",
    "    print(\"乙\")\n",
    "elif score >= 80 and score <90:\n",
    "    print(\"甲\")\n",
    "else:\n",
    "    print(\"優\")\n",
    "##注意：每個程式區塊都必須要有值，但若還沒有要寫，可以先用pass來代替，例: else:  pass。"
   ]
  }
 ],
 "metadata": {
  "kernelspec": {
   "display_name": "Python 3",
   "language": "python",
   "name": "python3"
  },
  "language_info": {
   "codemirror_mode": {
    "name": "ipython",
    "version": 3
   },
   "file_extension": ".py",
   "mimetype": "text/x-python",
   "name": "python",
   "nbconvert_exporter": "python",
   "pygments_lexer": "ipython3",
   "version": "3.10.14"
  }
 },
 "nbformat": 4,
 "nbformat_minor": 2
}
