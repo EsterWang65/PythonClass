{
 "cells": [
  {
   "cell_type": "code",
   "execution_count": 1,
   "metadata": {},
   "outputs": [
    {
     "data": {
      "text/plain": [
       "<__main__.Person at 0x7f97a05cba90>"
      ]
     },
     "metadata": {},
     "output_type": "display_data"
    },
    {
     "data": {
      "text/plain": [
       "__main__.Person"
      ]
     },
     "metadata": {},
     "output_type": "display_data"
    }
   ],
   "source": [
    "#物件產生與類別規劃\n",
    "'''通常命類別的命名會將第一個字母大寫。'''\n",
    "class Person:\n",
    "    pass\n",
    "\n",
    "p1 = Person()\n",
    "display(p1)\n",
    "display(type(p1))"
   ]
  },
  {
   "cell_type": "code",
   "execution_count": 5,
   "metadata": {},
   "outputs": [
    {
     "name": "stdout",
     "output_type": "stream",
     "text": [
      "小明\n",
      "18\n",
      "John\n",
      "33\n"
     ]
    }
   ],
   "source": [
    "##建立屬性(attribute)\n",
    "##實體屬性\n",
    "class Person:\n",
    "    pass\n",
    "\n",
    "p1 = p2 = Person()\n",
    "p1.name = \"小明\"\n",
    "p1.age = 18\n",
    "print(p1.name)\n",
    "print(p1.age)\n",
    "p2.name = \"John\"\n",
    "p2.age = 33\n",
    "print(p2.name)\n",
    "print(p2.age)"
   ]
  },
  {
   "cell_type": "code",
   "execution_count": 11,
   "metadata": {},
   "outputs": [
    {
     "name": "stdout",
     "output_type": "stream",
     "text": [
      "aaa\n"
     ]
    }
   ],
   "source": [
    "##類別屬性\n",
    "'''在自訂建立類別時，先設定好每個物件要有的共同屬性，主程式建立物件時再給定這些共同屬性一個專屬此物件的值。'''\n",
    "class Person:\n",
    "    def __init__(self,name,age):\n",
    "        self.name = name\n",
    "        self.age = 0\n",
    "\n",
    "p1 = Person(\"aaa\",18)\n",
    "print(p1.name)\n",
    "\n"
   ]
  }
 ],
 "metadata": {
  "kernelspec": {
   "display_name": "Python 3",
   "language": "python",
   "name": "python3"
  },
  "language_info": {
   "codemirror_mode": {
    "name": "ipython",
    "version": 3
   },
   "file_extension": ".py",
   "mimetype": "text/x-python",
   "name": "python",
   "nbconvert_exporter": "python",
   "pygments_lexer": "ipython3",
   "version": "3.10.13"
  }
 },
 "nbformat": 4,
 "nbformat_minor": 2
}
