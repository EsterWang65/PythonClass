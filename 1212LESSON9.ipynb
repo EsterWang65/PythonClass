{
 "cells": [
  {
   "cell_type": "code",
   "execution_count": 1,
   "metadata": {},
   "outputs": [
    {
     "data": {
      "text/plain": [
       "<__main__.Person at 0x7f97a05cba90>"
      ]
     },
     "metadata": {},
     "output_type": "display_data"
    },
    {
     "data": {
      "text/plain": [
       "__main__.Person"
      ]
     },
     "metadata": {},
     "output_type": "display_data"
    }
   ],
   "source": [
    "#物件產生與類別規劃\n",
    "'''建立類別(可把類別想為一工廠) --生產init()(內建)--> 建立實體(物件)並用一變數名稱來接收。'''\n",
    "##建立類別\n",
    "'''建立類別基本架構：\n",
    "class 類別名稱:  程式區塊。\n",
    "通常類別的命名會將第一個字母大寫。'''\n",
    "class Person:  #建立類別\n",
    "    pass\n",
    "\n",
    "p1 = Person()  #建立實體\n",
    "display(p1)\n",
    "'''執行結果為：<__main__.Person at 0x7f97a05cba90>，意思為p1為在此檔案/文件裡面的Person類別建立出來的實體，\n",
    "其中__main__意思為此檔案/文件。'''\n",
    "display(type(p1))  #type(object)此函數會告你此object物件為哪一個類別所建立的實體"
   ]
  },
  {
   "cell_type": "code",
   "execution_count": null,
   "metadata": {},
   "outputs": [],
   "source": [
    "##建立屬性(attribute)\n",
    "'''一個實體(物件)可儲存多個資料，稱為attribute屬性。\n",
    "attribute分為兩種：\n",
    "實體屬性：\n",
    "建立屬性基本架構：物件名稱.屬性名稱 = 屬性值。\n",
    "類別屬性：在自訂建立類別時，先設定好每個物件都要有的共同屬性，\n",
    "然後於主程式建立物件時再給定這些共同屬性一個專屬此物件的值(屬性值)\n",
    "建立類別屬性基本架構：class 類別名稱:  def __init__(self,各種參數):  程式區塊。\n",
    "__init__()此函數可接收多個參數，然後傳遞給self的成員，使其成為該物件的資料。\n",
    "注意：()內第一個參數必須為self，代表指向物件本身'''\n",
    "##建立實體屬性\n",
    "class Person:\n",
    "    pass\n",
    "\n",
    "p1 = p2 = Person()\n",
    "p1.name = \"小明\"  #建立實體屬性\n",
    "p1.age = 18  #建立實體屬性\n",
    "print(p1.name)  #取出實體屬性\n",
    "print(p1.age)  #取出實體屬性\n",
    "p2.name = \"John\"  #建立實體屬性\n",
    "p2.age = 33  #建立實體屬性\n",
    "print(p2.name)  #取出實體屬性\n",
    "print(p2.age)  #取出實體屬性\n",
    "\n",
    "'''用dir(object)函數可查看object物件裡有哪些東西(attribute或function等)，\n",
    "其中「__...__」前後有兩個底線的都是內建的，而前後沒有底線的(如此處的name和age)就是自訂的。'''\n",
    "display(dir(p1))\n",
    "display(dir(p2))"
   ]
  },
  {
   "cell_type": "code",
   "execution_count": 14,
   "metadata": {},
   "outputs": [
    {
     "name": "stdout",
     "output_type": "stream",
     "text": [
      "執行初始化\n",
      "xxx\n",
      "0\n",
      "執行初始化\n",
      "xxx\n",
      "0\n"
     ]
    }
   ],
   "source": [
    "##建立類別屬性\n",
    "class Person:\n",
    "    def __init__(self):\n",
    "        self.name = \"xxx\"\n",
    "        self.age = 0\n",
    "        print(\"執行初始化\")\n",
    "\n",
    "p1 = Person()  #建立實體1(物件1)\n",
    "print(p1.name)\n",
    "print(p1.age)\n",
    "p2 = Person()  #建立實體2(物件2)\n",
    "print(p2.name)\n",
    "print(p2.age)\n",
    "'''用p1說明：p1 = Person()時系統會先執行Person()，系統會建立一Person的實體，\n",
    "並將此實體傳遞給self，同時建立name跟age並執行輸出(print)，\n",
    "執行Person()結束後再將此實體指定給p1，此時就不是由self參數在管理此實體了。'''"
   ]
  },
  {
   "cell_type": "code",
   "execution_count": 19,
   "metadata": {},
   "outputs": [
    {
     "name": "stdout",
     "output_type": "stream",
     "text": [
      "小明\n",
      "18\n",
      "John\n",
      "33\n"
     ]
    }
   ],
   "source": [
    "##建立類別屬性\n",
    "'''上一範例中attribute在建立類別時都已經給定好初始值了，\n",
    "但每一實體(物件)的屬性值不會都一樣，故可在自訂類別時設定參數，並將這些參數指定給attribute，\n",
    "如此在主程式建立物件(呼叫))時便可自行給定參數值(引數值)，而這些值會再指定給attribute。'''\n",
    "class Person:\n",
    "    def __init__(self,name,age):\n",
    "        self.name = name\n",
    "        self.age = age\n",
    "\n",
    "p1 = Person(\"小明\",18)  #引數值的呼叫\n",
    "print(p1.name)\n",
    "print(p1.age)\n",
    "p2 = Person(name = \"John\",age = 33)  #引數名稱的呼叫\n",
    "print(p2.name)\n",
    "print(p2.age)\n"
   ]
  },
  {
   "cell_type": "code",
   "execution_count": 25,
   "metadata": {},
   "outputs": [
    {
     "name": "stdout",
     "output_type": "stream",
     "text": [
      "Mary\n",
      "77\n",
      "85\n",
      "90\n",
      "Mandy\n"
     ]
    }
   ],
   "source": [
    "class Student:\n",
    "    def __init__(self,name,chinese,english,math):\n",
    "        self.name = name\n",
    "        self.ch = chinese\n",
    "        self.en = english\n",
    "        self.math = math\n",
    "\n",
    "stu1 = Student(\"Mary\", 77, 85, 90)\n",
    "print(stu1.name)\n",
    "print(stu1.ch)\n",
    "print(stu1.en)\n",
    "print(stu1.math)\n",
    "stu1.name = \"Mandy\"  #修改屬性值\n",
    "print(stu1.name)"
   ]
  },
  {
   "cell_type": "code",
   "execution_count": 31,
   "metadata": {},
   "outputs": [
    {
     "name": "stdout",
     "output_type": "stream",
     "text": [
      "77\n",
      "85\n",
      "90\n",
      "Mandy\n"
     ]
    }
   ],
   "source": [
    "class Student:\n",
    "    def __init__(self,name,chinese,english,math):\n",
    "        self.__name = name  #不能讀取及修改\n",
    "        self.ch = chinese\n",
    "        self.en = english\n",
    "        self.math = math\n",
    "\n",
    "stu1 = Student(\"Mary\", 77, 85, 90)\n",
    "# print(stu1.name)\n",
    "print(stu1.ch)\n",
    "print(stu1.en)\n",
    "print(stu1.math)\n",
    "stu1.__name = \"Mandy\"  #修改屬性值\n",
    "print(stu1.__name)"
   ]
  },
  {
   "cell_type": "code",
   "execution_count": 48,
   "metadata": {},
   "outputs": [
    {
     "name": "stdout",
     "output_type": "stream",
     "text": [
      "78\n",
      "85\n",
      "90\n",
      "Mary\n",
      "學生總分：253\n",
      "學生平均：84.33\n",
      "我是Student的實體\n",
      "name是Mary\n",
      "Chinese是78\n",
      "English是85\n",
      "Math是90\n"
     ]
    }
   ],
   "source": [
    "class Student:\n",
    "    def __init__(self,name,chinese,english,math):\n",
    "        self.__name = name  #不能讀取及修改\n",
    "        self.ch = chinese\n",
    "        self.en = english\n",
    "        self.math = math\n",
    "    @property\n",
    "    def name(self):\n",
    "        return self.__name\n",
    "    def total(self):  #實體方法\n",
    "        return self.ch + self.en + self.math\n",
    "    def mean(self):\n",
    "        print(f\"學生平均：{self.total() / 3.0:.2f}\")\n",
    "    def __repr__(self):\n",
    "        description =\"\"\n",
    "        description += f\"我是Student的實體\\nname是{self.name}\\nChinese是{self.ch}\\nEnglish是{self.en}\\nMath是{self.math}\"\n",
    "        return description\n",
    "\n",
    "stu1 = Student(\"Mary\", 78, 85, 90)\n",
    "# print(stu1.name)\n",
    "print(stu1.ch)\n",
    "print(stu1.en)\n",
    "print(stu1.math)\n",
    "print(stu1.name)  #呼叫property，只能讀取不能修改\n",
    "print(f\"學生總分：{stu1.total()}\")  #呼叫方法\n",
    "stu1.mean()\n",
    "print(stu1)"
   ]
  },
  {
   "cell_type": "code",
   "execution_count": 52,
   "metadata": {},
   "outputs": [
    {
     "name": "stdout",
     "output_type": "stream",
     "text": [
      "['a', ['b']]\n",
      "['c', 'b']\n"
     ]
    }
   ],
   "source": [
    "#list\n",
    "l1 = ['a']\n",
    "l2 = ['b']\n",
    "l3 = ['c']\n",
    "l1.append(l2)\n",
    "print(l1)\n",
    "l3.extend(l2)\n",
    "print(l3)"
   ]
  },
  {
   "cell_type": "code",
   "execution_count": 66,
   "metadata": {},
   "outputs": [
    {
     "name": "stdout",
     "output_type": "stream",
     "text": [
      "[]\n",
      "['H', 'e', 'l', 'l', 'o', '!']\n",
      "[1, 2, 3, 4, 5, 6, 7, 8, 9]\n",
      "l3長度：9，l3最大值：9，l3最小值：1\n",
      "['H', 'e', 'l', 'l', 'o', '!', 'World!']\n",
      "[1, 2, 'a', 3, 4, 5, 6, 7, 8, 9]\n",
      "[1, 2, 'a', 3, 4, 5, 6, 7, 8]\n",
      "[2, 'a', 3, 4, 5, 6, 7, 8]\n",
      "[]\n"
     ]
    }
   ],
   "source": [
    "##透過list建立物件實體\n",
    "l1 = list()\n",
    "print(l1)\n",
    "l2 = list(\"Hello!\")\n",
    "print(l2)\n",
    "l3 = list(range(1,10))\n",
    "print(l3)\n",
    "print(f\"l3長度：{len(l3)}，l3最大值：{max(l3)}，l3最小值：{min(l3)}\")\n",
    "l2.append(\"World!\")\n",
    "print(l2)\n",
    "l3.insert(2,\"a\")\n",
    "print(l3)\n",
    "l3.pop()\n",
    "print(l3)\n",
    "l3.pop(0)\n",
    "print(l3)\n",
    "l3.clear()\n",
    "print(l3)"
   ]
  },
  {
   "cell_type": "code",
   "execution_count": 4,
   "metadata": {},
   "outputs": [],
   "source": [
    "#file\n",
    "with open(\"content.txt\",\"w+\",encoding = \"utf-8\") as f:\n",
    "    f.write(\"Hello!\")\n",
    "    f.write(\"World!\\n\")\n",
    "    f.write(\"Morning!\\n\")\n",
    "    f.writelines([\"HI!\\n\",\"OK!\",\"GO!\"])\n",
    "\n",
    "\n"
   ]
  }
 ],
 "metadata": {
  "kernelspec": {
   "display_name": "Python 3",
   "language": "python",
   "name": "python3"
  },
  "language_info": {
   "codemirror_mode": {
    "name": "ipython",
    "version": 3
   },
   "file_extension": ".py",
   "mimetype": "text/x-python",
   "name": "python",
   "nbconvert_exporter": "python",
   "pygments_lexer": "ipython3",
   "version": "3.10.13"
  }
 },
 "nbformat": 4,
 "nbformat_minor": 2
}
