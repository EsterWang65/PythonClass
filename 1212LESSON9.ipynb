{
 "cells": [
  {
   "cell_type": "code",
   "execution_count": 1,
   "metadata": {},
   "outputs": [
    {
     "data": {
      "text/plain": [
       "<__main__.Person at 0x7f97a05cba90>"
      ]
     },
     "metadata": {},
     "output_type": "display_data"
    },
    {
     "data": {
      "text/plain": [
       "__main__.Person"
      ]
     },
     "metadata": {},
     "output_type": "display_data"
    }
   ],
   "source": [
    "#物件產生與類別規劃\n",
    "'''通常命類別的命名會將第一個字母大寫。'''\n",
    "class Person:\n",
    "    pass\n",
    "\n",
    "p1 = Person()\n",
    "display(p1)\n",
    "display(type(p1))"
   ]
  },
  {
   "cell_type": "code",
   "execution_count": 5,
   "metadata": {},
   "outputs": [
    {
     "name": "stdout",
     "output_type": "stream",
     "text": [
      "小明\n",
      "18\n",
      "John\n",
      "33\n"
     ]
    }
   ],
   "source": [
    "##建立屬性(attribute)\n",
    "##實體屬性\n",
    "class Person:\n",
    "    pass\n",
    "\n",
    "p1 = p2 = Person()\n",
    "p1.name = \"小明\"\n",
    "p1.age = 18\n",
    "print(p1.name)\n",
    "print(p1.age)\n",
    "p2.name = \"John\"\n",
    "p2.age = 33\n",
    "print(p2.name)\n",
    "print(p2.age)"
   ]
  },
  {
   "cell_type": "code",
   "execution_count": 14,
   "metadata": {},
   "outputs": [
    {
     "name": "stdout",
     "output_type": "stream",
     "text": [
      "執行初始化\n",
      "xxx\n",
      "0\n",
      "執行初始化\n",
      "xxx\n",
      "0\n"
     ]
    }
   ],
   "source": [
    "##類別屬性\n",
    "'''在自訂建立類別時，先設定好每個物件要有的共同屬性，主程式建立物件時再給定這些共同屬性一個專屬此物件的值。'''\n",
    "class Person:\n",
    "    def __init__(self):\n",
    "        self.name = \"xxx\"\n",
    "        self.age = 0\n",
    "        print(\"執行初始化\")\n",
    "\n",
    "p1 = Person()  #建立實體1(物件1)\n",
    "print(p1.name)\n",
    "print(p1.age)\n",
    "p2 = Person()  #建立實體2(物件2)\n",
    "print(p2.name)\n",
    "print(p2.age)"
   ]
  },
  {
   "cell_type": "code",
   "execution_count": 19,
   "metadata": {},
   "outputs": [
    {
     "name": "stdout",
     "output_type": "stream",
     "text": [
      "小明\n",
      "18\n",
      "John\n",
      "33\n"
     ]
    }
   ],
   "source": [
    "class Person:\n",
    "    def __init__(self,name,age):\n",
    "        self.name = name\n",
    "        self.age = age\n",
    "\n",
    "p1 = Person(\"小明\",18)  #引數值的呼叫\n",
    "print(p1.name)\n",
    "print(p1.age)\n",
    "p2 = Person(name = \"John\",age = 33)  #引數名稱的呼叫\n",
    "print(p2.name)\n",
    "print(p2.age)\n"
   ]
  },
  {
   "cell_type": "code",
   "execution_count": 25,
   "metadata": {},
   "outputs": [
    {
     "name": "stdout",
     "output_type": "stream",
     "text": [
      "Mary\n",
      "77\n",
      "85\n",
      "90\n",
      "Mandy\n"
     ]
    }
   ],
   "source": [
    "class Student:\n",
    "    def __init__(self,name,chinese,english,math):\n",
    "        self.name = name\n",
    "        self.ch = chinese\n",
    "        self.en = english\n",
    "        self.math = math\n",
    "\n",
    "stu1 = Student(\"Mary\", 77, 85, 90)\n",
    "print(stu1.name)\n",
    "print(stu1.ch)\n",
    "print(stu1.en)\n",
    "print(stu1.math)\n",
    "stu1.name = \"Mandy\"  #修改屬性值\n",
    "print(stu1.name)"
   ]
  },
  {
   "cell_type": "code",
   "execution_count": 31,
   "metadata": {},
   "outputs": [
    {
     "name": "stdout",
     "output_type": "stream",
     "text": [
      "77\n",
      "85\n",
      "90\n",
      "Mandy\n"
     ]
    }
   ],
   "source": [
    "class Student:\n",
    "    def __init__(self,name,chinese,english,math):\n",
    "        self.__name = name  #不能讀取及修改\n",
    "        self.ch = chinese\n",
    "        self.en = english\n",
    "        self.math = math\n",
    "\n",
    "stu1 = Student(\"Mary\", 77, 85, 90)\n",
    "# print(stu1.name)\n",
    "print(stu1.ch)\n",
    "print(stu1.en)\n",
    "print(stu1.math)\n",
    "stu1.__name = \"Mandy\"  #修改屬性值\n",
    "print(stu1.__name)"
   ]
  },
  {
   "cell_type": "code",
   "execution_count": 48,
   "metadata": {},
   "outputs": [
    {
     "name": "stdout",
     "output_type": "stream",
     "text": [
      "78\n",
      "85\n",
      "90\n",
      "Mary\n",
      "學生總分：253\n",
      "學生平均：84.33\n",
      "我是Student的實體\n",
      "name是Mary\n",
      "Chinese是78\n",
      "English是85\n",
      "Math是90\n"
     ]
    }
   ],
   "source": [
    "class Student:\n",
    "    def __init__(self,name,chinese,english,math):\n",
    "        self.__name = name  #不能讀取及修改\n",
    "        self.ch = chinese\n",
    "        self.en = english\n",
    "        self.math = math\n",
    "    @property\n",
    "    def name(self):\n",
    "        return self.__name\n",
    "    def total(self):  #實體方法\n",
    "        return self.ch + self.en + self.math\n",
    "    def mean(self):\n",
    "        print(f\"學生平均：{self.total() / 3.0:.2f}\")\n",
    "    def __repr__(self):\n",
    "        description =\"\"\n",
    "        description += f\"我是Student的實體\\nname是{self.name}\\nChinese是{self.ch}\\nEnglish是{self.en}\\nMath是{self.math}\"\n",
    "        return description\n",
    "\n",
    "stu1 = Student(\"Mary\", 78, 85, 90)\n",
    "# print(stu1.name)\n",
    "print(stu1.ch)\n",
    "print(stu1.en)\n",
    "print(stu1.math)\n",
    "print(stu1.name)  #呼叫property，只能讀取不能修改\n",
    "print(f\"學生總分：{stu1.total()}\")  #呼叫方法\n",
    "stu1.mean()\n",
    "print(stu1)"
   ]
  }
 ],
 "metadata": {
  "kernelspec": {
   "display_name": "Python 3",
   "language": "python",
   "name": "python3"
  },
  "language_info": {
   "codemirror_mode": {
    "name": "ipython",
    "version": 3
   },
   "file_extension": ".py",
   "mimetype": "text/x-python",
   "name": "python",
   "nbconvert_exporter": "python",
   "pygments_lexer": "ipython3",
   "version": "3.10.13"
  }
 },
 "nbformat": 4,
 "nbformat_minor": 2
}
