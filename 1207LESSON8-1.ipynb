{
 "cells": [
  {
   "cell_type": "code",
   "execution_count": 5,
   "metadata": {},
   "outputs": [
    {
     "name": "stdout",
     "output_type": "stream",
     "text": [
      "請輸入半徑：10.0\n",
      "半徑10.0，圓面積為314.1592653589793\n"
     ]
    }
   ],
   "source": [
    "#自訂函數\n",
    "##有接收值也有傳回值-一個接收值(參數)\n",
    "'''有傳回值時要記得再呼叫食用變數來接收傳回值。'''\n",
    "'''應用：計算園面積'''\n",
    "import math\n",
    "import pyinputplus as pyip\n",
    "def circle_area(r):  #此處的r為參數\n",
    "    area = r ** 2 * math.pi\n",
    "    return(area)  #寫return area也可以\n",
    "\n",
    "r = pyip.inputFloat(\"請輸入半徑：\")\n",
    "print(r)\n",
    "area = circle_area(r)  #此處的3為引數值\n",
    "print(f\"半徑{r}，圓面積為{area}\")"
   ]
  },
  {
   "cell_type": "code",
   "execution_count": 6,
   "metadata": {},
   "outputs": [
    {
     "name": "stdout",
     "output_type": "stream",
     "text": [
      "33.0\n"
     ]
    }
   ],
   "source": [
    "##有接收值也有傳回值-多個接收值(參數)\n",
    "'''應用：計算梯形面積'''\n",
    "def area(top,bottom,height):\n",
    "    return((top + bottom) * height/ 2)\n",
    "\n",
    "area = area(3.3, 8.7, 5.5)\n",
    "print(area)"
   ]
  }
 ],
 "metadata": {
  "kernelspec": {
   "display_name": "Python 3",
   "language": "python",
   "name": "python3"
  },
  "language_info": {
   "codemirror_mode": {
    "name": "ipython",
    "version": 3
   },
   "file_extension": ".py",
   "mimetype": "text/x-python",
   "name": "python",
   "nbconvert_exporter": "python",
   "pygments_lexer": "ipython3",
   "version": "3.10.13"
  }
 },
 "nbformat": 4,
 "nbformat_minor": 2
}
