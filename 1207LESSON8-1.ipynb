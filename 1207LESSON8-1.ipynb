{
 "cells": [
  {
   "cell_type": "code",
   "execution_count": 5,
   "metadata": {},
   "outputs": [
    {
     "name": "stdout",
     "output_type": "stream",
     "text": [
      "請輸入半徑：10.0\n",
      "半徑10.0，圓面積為314.1592653589793\n"
     ]
    }
   ],
   "source": [
    "#自訂函數\n",
    "##有接收值也有傳回值-一個接收值(參數)\n",
    "'''有傳回值時要記得在呼叫時用變數來接收傳回值。在主程式呼叫具有參數(接收值)的函數的方法有兩種：\n",
    "1. 引數值的呼叫：直接給定值，系統會「依序」指定給函數中的參數，注意：順序不能對調；\n",
    "2. 引數名稱的呼叫：呼叫時自己手動將引數值透過與參數名稱相同之引數名稱指定給特定參數，如此順序便可以對調，\n",
    "注意：引數名稱一定要和參數名稱相同否則會顯示錯誤。'''\n",
    "\n",
    "'''應用：計算園面積'''\n",
    "import math\n",
    "import pyinputplus as pyip\n",
    "def circle_area(r):  #此處的r為參數\n",
    "    area = r ** 2 * math.pi\n",
    "    return(area)  #寫return area也可以\n",
    "\n",
    "r = pyip.inputFloat(\"請輸入半徑：\")\n",
    "print(r)\n",
    "area = circle_area(r)  #此處的3為引數值\n",
    "print(f\"半徑{r}，圓面積為{area}\")"
   ]
  },
  {
   "cell_type": "code",
   "execution_count": 16,
   "metadata": {},
   "outputs": [
    {
     "name": "stdout",
     "output_type": "stream",
     "text": [
      "33.0\n",
      "33.0\n",
      "33.0\n"
     ]
    }
   ],
   "source": [
    "##有接收值也有傳回值-多個接收值(參數)\n",
    "'''應用：計算梯形面積'''\n",
    "def area(top,bottom,height):\n",
    "    return((top + bottom) * height / 2)\n",
    "\n",
    "area1 = area(3.3, 8.7, 5.5)  #引數值的呼叫\n",
    "print(area1)\n",
    "area2 = area(top = 3.3,bottom =  8.7,height = 5.5)  #引數名稱的呼叫\n",
    "print(area2)\n",
    "area3 = area(height = 5.5,top = 3.3,bottom =  8.7)  #引數名稱的呼叫，順序可對調\n",
    "print(area3)"
   ]
  },
  {
   "cell_type": "code",
   "execution_count": 10,
   "metadata": {},
   "outputs": [
    {
     "name": "stdout",
     "output_type": "stream",
     "text": [
      "38.28\n"
     ]
    }
   ],
   "source": [
    "##混和呼叫\n",
    "'''注意：使用混和呼叫時，引數值的呼叫一定要在引數名稱的呼叫前面，否則會顯示錯誤。'''\n",
    "def area(top,bottom,height):\n",
    "    return((top + bottom) * height / 2)\n",
    "\n",
    "area4 = area(5.5,bottom = 3.3,height =  8.7)  #引數名稱的呼叫\n",
    "print(area4)\n"
   ]
  },
  {
   "cell_type": "code",
   "execution_count": 14,
   "metadata": {},
   "outputs": [
    {
     "name": "stdout",
     "output_type": "stream",
     "text": [
      "75.0\n",
      "65.0\n",
      "130.0\n",
      "130.0\n",
      "150.0\n"
     ]
    }
   ],
   "source": [
    "##具值型接收值(有初始值的參數)\n",
    "'''若自訂函數在宣告時參數已經有給值(初始值)，則呼叫時則可以不給引數值，系統會自動帶入預設值(初始值)。\n",
    "注意：若自訂函數中的參數中有給定初始值的也有沒給定初始值的，在呼叫時有幾個參數沒有初始值就要記得給定相同數量的引數值。'''\n",
    "def area(top,bottom = 10,height = 10):\n",
    "    return((top + bottom) * height / 2)\n",
    "\n",
    "area1 = area(5)\n",
    "print(area1)\n",
    "area2 = area(5,bottom = 8)\n",
    "print(area2)\n",
    "area3 = area(5,bottom = 8,height = 20)\n",
    "print(area3)\n",
    "area4 = area(5,height = 20,bottom = 8)\n",
    "print(area4)\n",
    "area5 = area(5,height = 20)\n",
    "print(area5)\n"
   ]
  },
  {
   "cell_type": "code",
   "execution_count": 21,
   "metadata": {},
   "outputs": [
    {
     "data": {
      "text/plain": [
       "394.485"
      ]
     },
     "execution_count": 21,
     "metadata": {},
     "output_type": "execute_result"
    }
   ],
   "source": [
    "def area(top:int | float,bottom:int | float,height:int | float = 10):\n",
    "    return((top + bottom) * height / 2)\n",
    "\n",
    "area(3.57,bottom = 34,height = 21.0)"
   ]
  },
  {
   "cell_type": "code",
   "execution_count": 22,
   "metadata": {},
   "outputs": [
    {
     "data": {
      "text/plain": [
       "(1, 3.0, 'abc')"
      ]
     },
     "execution_count": 22,
     "metadata": {},
     "output_type": "execute_result"
    }
   ],
   "source": [
    "#元組tuple\n",
    "'''可將多個值暫時綁再一起'''\n",
    "(1,3.0,\"abc\")\n"
   ]
  },
  {
   "cell_type": "code",
   "execution_count": 24,
   "metadata": {},
   "outputs": [
    {
     "name": "stdout",
     "output_type": "stream",
     "text": [
      "小明\n",
      "98\n"
     ]
    }
   ],
   "source": [
    "##tuple的拆解法\n",
    "(score, name) = (98, \"小明\")\n",
    "print(name)\n",
    "print(score)"
   ]
  },
  {
   "cell_type": "code",
   "execution_count": 27,
   "metadata": {},
   "outputs": [
    {
     "name": "stdout",
     "output_type": "stream",
     "text": [
      "請輸入身高，單位為公分:170.0\n",
      "請輸入體重，單位為公斤:67.0\n",
      "您的BMI是23.18，「您的體重正常」\n"
     ]
    }
   ],
   "source": [
    "'''應用：計算BMI值'''\n",
    "import pyinputplus as pyip\n",
    "def getBMI(height:float, weight:float) -> tuple[float,str]:\n",
    "    BMI = weight / (height*0.01)**2\n",
    "    msg = \"\"\n",
    "    if BMI < 18.5:\n",
    "        msg = \"「您的體重過輕」\"\n",
    "    elif BMI < 24:\n",
    "        msg = \"「您的體重正常」\"\n",
    "    elif BMI < 27:\n",
    "        msg = \"「您的體重過重」\"\n",
    "    elif BMI < 30:\n",
    "        msg = \"「您的體重輕度肥胖」\"\n",
    "    elif BMI < 35:\n",
    "        mag = \"「您的體重中度肥胖」\"\n",
    "    else:\n",
    "        msg = \"「您的體重重度肥胖」\"\n",
    "    return(BMI,msg)\n",
    "\n",
    "h = pyip.inputFloat(\"請輸入身高，單位為公分:\",min = 0)\n",
    "print(h)\n",
    "w = pyip.inputFloat(\"請輸入體重，單位為公斤:\",min = 0)\n",
    "print(w)\n",
    "BMI, message = getBMI(height = h,weight = w)\n",
    "print(f\"您的BMI是{BMI:.2f}，{message}\")"
   ]
  },
  {
   "cell_type": "code",
   "execution_count": 29,
   "metadata": {},
   "outputs": [
    {
     "name": "stdout",
     "output_type": "stream",
     "text": [
      "請輸入身高，單位為公分:170.0\n",
      "請輸入體重，單位為公斤:65.0\n",
      "您的BMI是22.49，「您的體重正常」\n",
      "請問是否繼續計算(y/n)?yes\n",
      "請輸入身高，單位為公分:160.0\n",
      "請輸入體重，單位為公斤:77.0\n",
      "您的BMI是30.08，\n",
      "請問是否繼續計算(y/n)?no\n",
      "結束計算\n"
     ]
    }
   ],
   "source": [
    "'''作業：請將以下程式改為：還要繼續嗎?(y,n)；按y繼續計算,按n結束計算'''\n",
    "import pyinputplus as pyip\n",
    "def getBMI(height:float, weight:float) -> tuple[float,str]:\n",
    "    BMI = weight / (height*0.01)**2\n",
    "    msg = \"\"\n",
    "    if BMI < 18.5:\n",
    "        msg = \"「您的體重過輕」\"\n",
    "    elif BMI < 24:\n",
    "        msg = \"「您的體重正常」\"\n",
    "    elif BMI < 27:\n",
    "        msg = \"「您的體重過重」\"\n",
    "    elif BMI < 30:\n",
    "        msg = \"「您的體重輕度肥胖」\"\n",
    "    elif BMI < 35:\n",
    "        mag = \"「您的體重中度肥胖」\"\n",
    "    else:\n",
    "        msg = \"「您的體重重度肥胖」\"\n",
    "    return(BMI,msg)\n",
    "\n",
    "while True:\n",
    "    h = pyip.inputFloat(\"請輸入身高，單位為公分:\",min = 0)\n",
    "    print(h)\n",
    "    w = pyip.inputFloat(\"請輸入體重，單位為公斤:\",min = 0)\n",
    "    print(w)\n",
    "    BMI, message = getBMI(height = h,weight = w)\n",
    "    print(f\"您的BMI是{BMI:.2f}，{message}\")\n",
    "    check = pyip.inputYesNo(\"請問是否繼續計算(y/n)?\")\n",
    "    print(check)\n",
    "    if check == 'no':\n",
    "        break\n",
    "print(\"結束計算\")"
   ]
  },
  {
   "cell_type": "code",
   "execution_count": 32,
   "metadata": {},
   "outputs": [
    {
     "data": {
      "text/plain": [
       "[87, 90, 76, 77, 60]"
      ]
     },
     "metadata": {},
     "output_type": "display_data"
    },
    {
     "data": {
      "text/plain": [
       "90"
      ]
     },
     "metadata": {},
     "output_type": "display_data"
    }
   ],
   "source": [
    "#list串列\n",
    "student = [87,90,76,77,60]\n",
    "display(student)\n",
    "display(student[1])"
   ]
  },
  {
   "cell_type": "code",
   "execution_count": 34,
   "metadata": {},
   "outputs": [
    {
     "data": {
      "text/plain": [
       "{'國文': 97, '數學': 67, '英文': 87}"
      ]
     },
     "metadata": {},
     "output_type": "display_data"
    },
    {
     "data": {
      "text/plain": [
       "{'國文': 90, '數學': 86, '英文': 77}"
      ]
     },
     "metadata": {},
     "output_type": "display_data"
    }
   ],
   "source": [
    "#字典dictionary\n",
    "'''兩種寫法：'''\n",
    "stu1 = dict(國文 = 97,數學 = 67,英文 = 87)\n",
    "display(stu1)\n",
    "stu2 = {\"國文\":90,\"數學\":86,\"英文\":77}\n",
    "display(stu2)"
   ]
  },
  {
   "cell_type": "code",
   "execution_count": 39,
   "metadata": {},
   "outputs": [
    {
     "data": {
      "text/plain": [
       "[[78, 92, 95, 76, 92], [90, 92, 75, 76, 61]]"
      ]
     },
     "metadata": {},
     "output_type": "display_data"
    },
    {
     "name": "stdout",
     "output_type": "stream",
     "text": [
      "[78, 92, 95, 76, 92]\n",
      "78\n"
     ]
    }
   ],
   "source": [
    "#二維list\n",
    "stu1 = [78, 92, 95, 76, 92]\n",
    "stu2 = [90, 92, 75, 76, 61]\n",
    "students = [stu1,stu2]\n",
    "display(students)\n",
    "print(students[0])\n",
    "print(students[0][0])"
   ]
  }
 ],
 "metadata": {
  "kernelspec": {
   "display_name": "Python 3",
   "language": "python",
   "name": "python3"
  },
  "language_info": {
   "codemirror_mode": {
    "name": "ipython",
    "version": 3
   },
   "file_extension": ".py",
   "mimetype": "text/x-python",
   "name": "python",
   "nbconvert_exporter": "python",
   "pygments_lexer": "ipython3",
   "version": "3.10.13"
  }
 },
 "nbformat": 4,
 "nbformat_minor": 2
}
