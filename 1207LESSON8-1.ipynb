{
 "cells": [
  {
   "cell_type": "code",
   "execution_count": 5,
   "metadata": {},
   "outputs": [
    {
     "name": "stdout",
     "output_type": "stream",
     "text": [
      "請輸入半徑：10.0\n",
      "半徑10.0，圓面積為314.1592653589793\n"
     ]
    }
   ],
   "source": [
    "#自訂函數\n",
    "##有接收值也有傳回值-一個接收值(參數)\n",
    "'''有傳回值時要記得在呼叫時用變數來接收傳回值，否則設定傳回值就沒有意義了。\n",
    "在主程式呼叫具有參數(接收值)的函數的方法有兩種：\n",
    "1. 引數值的呼叫：直接給定值，系統會「依序」指定給函數中的參數，注意：順序不能對調；\n",
    "2. 引數名稱的呼叫：呼叫時自己手動將引數值透過與參數名稱相同之引數名稱指定給特定參數，如此順序便可以對調，\n",
    "注意：引數名稱一定要和參數名稱相同否則會顯示錯誤。'''\n",
    "\n",
    "'''應用：計算圓面積'''\n",
    "import math\n",
    "import pyinputplus as pyip\n",
    "def circle_area(r):  #此處的r為參數\n",
    "    area = r ** 2 * math.pi\n",
    "    return(area)  #寫return area也可以\n",
    "\n",
    "r = pyip.inputFloat(\"請輸入半徑：\")\n",
    "print(r)\n",
    "area = circle_area(r)  #呼叫函數，此處的3為引數值；並用變數area來接收傳回值\n",
    "print(f\"半徑{r}，圓面積為{area}\")\n",
    "\n",
    "'''以上面計算圓面積的應用為例說明，程式是由上而下執行的，在跑到自訂函數區塊結束(第14行)之後，\n",
    "系統不會執行(需在主程式呼叫才執行)，而是系統已被告知有此函數的存在可供後面主程式使用。\n",
    "在開始執行主程式時，系統自動建立一文件變數來存放，在此文件變數中首先建立了一名為r的變數，\n",
    "接著繼續執行程式(指定值給r變數並輸出)直到建立一變數area來呼叫函數，\n",
    "此時系統會在記憶體中產生一獨立的函數的程式區塊來執行該函數\n",
    "(將主程式給的引數值複製給該函數的參數變數r做接收，然後將計算結果指定給該函數的area變數並傳回)，\n",
    "等到該函數執行結束之後系統就會釋放掉該次函數的記憶統空間，\n",
    "接著主程式在收到傳回值後將其指定給主程式中的area變數，然後輸出內容，最後結束主程式。\n",
    "由此可知自訂函數和主程式中的變數是各自獨立的，故就算名稱相同，也不會互相影響。'''"
   ]
  },
  {
   "cell_type": "code",
   "execution_count": 16,
   "metadata": {},
   "outputs": [
    {
     "name": "stdout",
     "output_type": "stream",
     "text": [
      "33.0\n",
      "33.0\n",
      "33.0\n"
     ]
    }
   ],
   "source": [
    "##有接收值也有傳回值-多個接收值(參數)\n",
    "'''應用：計算梯形面積'''\n",
    "def area(top,bottom,height):\n",
    "    return((top + bottom) * height / 2)\n",
    "\n",
    "area1 = area(3.3, 8.7, 5.5)  #引數值的呼叫\n",
    "print(area1)\n",
    "area2 = area(top = 3.3,bottom =  8.7,height = 5.5)  #引數名稱的呼叫\n",
    "print(area2)\n",
    "area3 = area(height = 5.5,top = 3.3,bottom =  8.7)  #引數名稱的呼叫，順序可對調\n",
    "print(area3)"
   ]
  },
  {
   "cell_type": "code",
   "execution_count": 2,
   "metadata": {},
   "outputs": [
    {
     "name": "stdout",
     "output_type": "stream",
     "text": [
      "33.0\n",
      "33.0\n"
     ]
    }
   ],
   "source": [
    "##混合呼叫\n",
    "'''使用混合呼叫時，前面用引數值的呼叫，後面用引數名稱的呼叫(順序可對調)，\n",
    "'注意：引數名稱的呼叫後面不能有引數值的呼叫，否則會顯示錯誤。'''\n",
    "def area(top,bottom,height):\n",
    "    return((top + bottom) * height / 2)\n",
    "\n",
    "area4 = area(3.3,bottom = 8.7,height =  5.5)  #混合呼叫\n",
    "print(area4)\n",
    "area5 = area(3.3,height =  5.5,bottom = 8.7)  #混合呼叫，引數名稱的呼叫順序可對調\n",
    "print(area5)\n"
   ]
  },
  {
   "cell_type": "code",
   "execution_count": 14,
   "metadata": {},
   "outputs": [
    {
     "name": "stdout",
     "output_type": "stream",
     "text": [
      "75.0\n",
      "65.0\n",
      "130.0\n",
      "130.0\n",
      "150.0\n"
     ]
    }
   ],
   "source": [
    "##具值型接收值(有初始值的參數)\n",
    "'''若自訂函數在宣告時參數已經有給值(初始值/default value)，則呼叫時則可以不給引數值，系統會自動帶入預設值(初始值)。\n",
    "注意：若自訂函數中的參數中有給定初始值的也有沒給定初始值的，在呼叫時有幾個參數沒有初始值就要記得給定至少該數量的引數值，\n",
    "但注意引數值也絕對不能給定超過參數數量的量。\n",
    "注意：若自訂函數中的參數中有給定初始值的也有沒給定初始值的，有初始值的參數一定要寫在沒有初始值的參數後面。\n",
    "一般在呼叫函數時若參數沒有初始值會用引數值的呼叫，若參數以有初始值但想要改掉則會用引數名稱的呼叫。'''\n",
    "def area(top,bottom = 10,height = 10):\n",
    "    return((top + bottom) * height / 2)\n",
    "\n",
    "area1 = area(5)\n",
    "print(area1)\n",
    "area2 = area(5,bottom = 8)\n",
    "print(area2)\n",
    "area3 = area(5,bottom = 8,height = 20)\n",
    "print(area3)\n",
    "area4 = area(5,height = 20,bottom = 8)\n",
    "print(area4)\n",
    "area5 = area(5,height = 20)\n",
    "print(area5)\n"
   ]
  },
  {
   "cell_type": "code",
   "execution_count": 8,
   "metadata": {},
   "outputs": [
    {
     "data": {
      "text/plain": [
       "394.485"
      ]
     },
     "execution_count": 8,
     "metadata": {},
     "output_type": "execute_result"
    }
   ],
   "source": [
    "##自訂函數參數型態(格式)設定\n",
    "'''在有參數(接收值)的函數中，若參數沒有指定型態，則預設為any，\n",
    "且系統不會偵測引數值的型態是否為該函數所需，而是只會偵測數量是否符合，\n",
    "因此可能造成函數執行結果不如預期。為避免此情況，可以在自訂函數時額外提示參數型態，\n",
    "語法為在參數名稱後加上冒號及指定的格式(:...)，若允許多種格式可用「或」的語法(|)做區隔。\n",
    "接著可在函數的()後加上「-> 型態」來提示傳回值的型態。'''\n",
    "def area(top:int | float,bottom:int | float = 10,height:int | float = 10) -> float:\n",
    "    return((top + bottom) * height / 2.0)\n",
    "\n",
    "area(3.57,bottom = 34,height = 21.0)"
   ]
  },
  {
   "cell_type": "code",
   "execution_count": 22,
   "metadata": {},
   "outputs": [
    {
     "data": {
      "text/plain": [
       "(1, 3.0, 'abc')"
      ]
     },
     "execution_count": 22,
     "metadata": {},
     "output_type": "execute_result"
    }
   ],
   "source": [
    "#元組tuple\n",
    "'''為一資料類型，可將多個值暫時綁在一起。'''\n",
    "(1,3.0,\"abc\")  \n"
   ]
  },
  {
   "cell_type": "code",
   "execution_count": 9,
   "metadata": {},
   "outputs": [
    {
     "data": {
      "text/plain": [
       "(1, 3.0, 'abc')"
      ]
     },
     "execution_count": 9,
     "metadata": {},
     "output_type": "execute_result"
    }
   ],
   "source": [
    "1,3.0,\"abc\"  #()可省略"
   ]
  },
  {
   "cell_type": "code",
   "execution_count": 24,
   "metadata": {},
   "outputs": [
    {
     "name": "stdout",
     "output_type": "stream",
     "text": [
      "小明\n",
      "98\n"
     ]
    }
   ],
   "source": [
    "##tuple的拆解法\n",
    "'''可用變數將值個別指定給不同變數，如此便可用變數來使用tuple裡的值。'''\n",
    "(score, name) = (98, \"小明\")\n",
    "print(name)\n",
    "print(score)"
   ]
  },
  {
   "cell_type": "code",
   "execution_count": 1,
   "metadata": {},
   "outputs": [
    {
     "name": "stdout",
     "output_type": "stream",
     "text": [
      "請輸入身高，單位為公分:"
     ]
    },
    {
     "name": "stdout",
     "output_type": "stream",
     "text": [
      "177.0\n",
      "請輸入體重，單位為公斤:66.0\n",
      "您的BMI是21.07，「您的體重正常」\n"
     ]
    }
   ],
   "source": [
    "'''應用：計算BMI值\n",
    "函數相當於一個功能，故此處是將計算BMI的計算方法設成一自訂函數，如此一來該函數就成為一計算BMI的功能。'''\n",
    "import pyinputplus as pyip\n",
    "def getBMI(height:float, weight:float) -> tuple[float,str]:\n",
    "    BMI = weight / (height*0.01)**2\n",
    "    msg = \"\"  #空字串\n",
    "    if BMI < 18.5:\n",
    "        msg = \"「您的體重過輕」\"\n",
    "    elif BMI < 24:\n",
    "        msg = \"「您的體重正常」\"\n",
    "    elif BMI < 27:\n",
    "        msg = \"「您的體重過重」\"\n",
    "    elif BMI < 30:\n",
    "        msg = \"「您的體重輕度肥胖」\"\n",
    "    elif BMI < 35:\n",
    "        mag = \"「您的體重中度肥胖」\"\n",
    "    else:\n",
    "        msg = \"「您的體重重度肥胖」\"\n",
    "    return(BMI,msg)\n",
    "\n",
    "h = pyip.inputFloat(\"請輸入身高，單位為公分:\",min = 0)\n",
    "print(h)\n",
    "w = pyip.inputFloat(\"請輸入體重，單位為公斤:\",min = 0)\n",
    "print(w)\n",
    "BMI, message = getBMI(height = h,weight = w)\n",
    "print(f\"您的BMI是{BMI:.2f}，{message}\")"
   ]
  },
  {
   "cell_type": "code",
   "execution_count": 29,
   "metadata": {},
   "outputs": [
    {
     "name": "stdout",
     "output_type": "stream",
     "text": [
      "請輸入身高，單位為公分:170.0\n",
      "請輸入體重，單位為公斤:65.0\n",
      "您的BMI是22.49，「您的體重正常」\n",
      "請問是否繼續計算(y/n)?yes\n",
      "請輸入身高，單位為公分:160.0\n",
      "請輸入體重，單位為公斤:77.0\n",
      "您的BMI是30.08，\n",
      "請問是否繼續計算(y/n)?no\n",
      "結束計算\n"
     ]
    }
   ],
   "source": [
    "'''作業：請將以下程式改為：還要繼續嗎?(y,n)；按y繼續計算,按n結束計算'''\n",
    "import pyinputplus as pyip\n",
    "def getBMI(height:float, weight:float) -> tuple[float,str]:\n",
    "    BMI = weight / (height*0.01)**2\n",
    "    msg = \"\"\n",
    "    if BMI < 18.5:\n",
    "        msg = \"「您的體重過輕」\"\n",
    "    elif BMI < 24:\n",
    "        msg = \"「您的體重正常」\"\n",
    "    elif BMI < 27:\n",
    "        msg = \"「您的體重過重」\"\n",
    "    elif BMI < 30:\n",
    "        msg = \"「您的體重輕度肥胖」\"\n",
    "    elif BMI < 35:\n",
    "        mag = \"「您的體重中度肥胖」\"\n",
    "    else:\n",
    "        msg = \"「您的體重重度肥胖」\"\n",
    "    return(BMI,msg)\n",
    "\n",
    "while True:\n",
    "    h = pyip.inputFloat(\"請輸入身高，單位為公分:\",min = 0)\n",
    "    print(h)\n",
    "    w = pyip.inputFloat(\"請輸入體重，單位為公斤:\",min = 0)\n",
    "    print(w)\n",
    "    BMI, message = getBMI(height = h,weight = w)\n",
    "    print(f\"您的BMI是{BMI:.2f}，{message}\")\n",
    "    check = pyip.inputYesNo(\"請問是否繼續計算(y/n)?\")\n",
    "    print(check)\n",
    "    if check == 'no':\n",
    "        break\n",
    "print(\"結束計算\")"
   ]
  },
  {
   "cell_type": "code",
   "execution_count": 12,
   "metadata": {},
   "outputs": [
    {
     "data": {
      "text/plain": [
       "[87, 90, 76, 77, 60]"
      ]
     },
     "metadata": {},
     "output_type": "display_data"
    },
    {
     "name": "stdout",
     "output_type": "stream",
     "text": [
      "[87, 90, 76, 77, 60]\n"
     ]
    },
    {
     "data": {
      "text/plain": [
       "90"
      ]
     },
     "metadata": {},
     "output_type": "display_data"
    },
    {
     "data": {
      "text/plain": [
       "list"
      ]
     },
     "execution_count": 12,
     "metadata": {},
     "output_type": "execute_result"
    }
   ],
   "source": [
    "#list串列\n",
    "'''為一資料結構，可將多個值永久儲存在一起。若有多個值得情況下，可用list將這些值指定給一個變數，\n",
    "如此便可以不用宣告那麼多的變數了。建立空list的寫法有兩種：1. 變數名稱 = []；2. 變數名稱 = list()。\n",
    "若是要取list中的某個值，可用索引值來取值。注意：索引值從0開始依序到該list總長度-1。\n",
    "注意：使用索引值取值時要注意索引值不得超過該list總長度-1，否則會顯示錯誤IndexError: list index out of range。'''\n",
    "student = [87,90,76,77,60]\n",
    "display(student)\n",
    "display(student[1])  #透過索引值取值\n",
    "type(student)"
   ]
  },
  {
   "cell_type": "code",
   "execution_count": 15,
   "metadata": {},
   "outputs": [
    {
     "data": {
      "text/plain": [
       "'5'"
      ]
     },
     "metadata": {},
     "output_type": "display_data"
    },
    {
     "data": {
      "text/plain": [
       "'3'"
      ]
     },
     "metadata": {},
     "output_type": "display_data"
    },
    {
     "name": "stdout",
     "output_type": "stream",
     "text": [
      "5\n",
      "3\n"
     ]
    }
   ],
   "source": [
    "'''print()和display()的區別為是否顯示格式，print()不顯示，display()則會顯示。'''\n",
    "display(\"5\")\n",
    "display('3')\n",
    "print(\"5\")\n",
    "print('3')"
   ]
  },
  {
   "cell_type": "code",
   "execution_count": 2,
   "metadata": {},
   "outputs": [
    {
     "data": {
      "text/plain": [
       "{'國文': 97, '數學': 67, '英文': 87}"
      ]
     },
     "metadata": {},
     "output_type": "display_data"
    },
    {
     "data": {
      "text/plain": [
       "{'國文': 90, '數學': 86, '英文': 77}"
      ]
     },
     "metadata": {},
     "output_type": "display_data"
    },
    {
     "data": {
      "text/plain": [
       "97"
      ]
     },
     "metadata": {},
     "output_type": "display_data"
    },
    {
     "data": {
      "text/plain": [
       "90"
      ]
     },
     "metadata": {},
     "output_type": "display_data"
    }
   ],
   "source": [
    "#字典dictionary\n",
    "'''建立空字典有兩種寫法：1. 變數名稱 = {}；2. 變數名稱 = dict()。\n",
    "若用第1種方法，並且要給key值和value值，語法為在{}內寫 \"key值\":value值；\n",
    "若用第2種方法，並且要給key值和value值，語法為在()內寫 key值 = value值。\n",
    "取value值時，可使用key值來操作。'''\n",
    "stu1 = dict(國文 = 97,數學 = 67,英文 = 87)\n",
    "display(stu1)\n",
    "stu2 = {\"國文\":90,\"數學\":86,\"英文\":77}\n",
    "display(stu2)\n",
    "display(stu1[\"國文\"])  #透過key值取值(value值)\n",
    "display(stu2[\"國文\"])  #透過key值取值(value值)"
   ]
  },
  {
   "cell_type": "code",
   "execution_count": 39,
   "metadata": {},
   "outputs": [
    {
     "data": {
      "text/plain": [
       "[[78, 92, 95, 76, 92], [90, 92, 75, 76, 61]]"
      ]
     },
     "metadata": {},
     "output_type": "display_data"
    },
    {
     "name": "stdout",
     "output_type": "stream",
     "text": [
      "[78, 92, 95, 76, 92]\n",
      "78\n"
     ]
    }
   ],
   "source": [
    "#二維list(list裡面有list)\n",
    "stu1 = [78, 92, 95, 76, 92]\n",
    "stu2 = [90, 92, 75, 76, 61]\n",
    "students = [stu1,stu2]  #二維list\n",
    "display(students)\n",
    "print(students[0])\n",
    "print(students[0][0])"
   ]
  }
 ],
 "metadata": {
  "kernelspec": {
   "display_name": "Python 3",
   "language": "python",
   "name": "python3"
  },
  "language_info": {
   "codemirror_mode": {
    "name": "ipython",
    "version": 3
   },
   "file_extension": ".py",
   "mimetype": "text/x-python",
   "name": "python",
   "nbconvert_exporter": "python",
   "pygments_lexer": "ipython3",
   "version": "3.10.14"
  }
 },
 "nbformat": 4,
 "nbformat_minor": 2
}
