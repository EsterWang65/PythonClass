{
 "cells": [
  {
   "cell_type": "code",
   "execution_count": 4,
   "metadata": {},
   "outputs": [
    {
     "name": "stdout",
     "output_type": "stream",
     "text": [
      "請輸入學生人數(1~50)：3\n",
      "請輸入科目數(1~7)：3\n",
      "[['張凱妮', 79, 73, 43], ['林思賢', 50, 76, 49], ['李進慧', 50, 67, 79]]\n",
      "請輸入檔案名稱(不用輸入副檔名稱)："
     ]
    },
    {
     "ename": "AttributeError",
     "evalue": "'_csv.writer' object has no attribute 'writerrows'",
     "output_type": "error",
     "traceback": [
      "\u001b[0;31m---------------------------------------------------------------------------\u001b[0m",
      "\u001b[0;31mAttributeError\u001b[0m                            Traceback (most recent call last)",
      "Cell \u001b[0;32mIn[4], line 44\u001b[0m\n\u001b[1;32m     42\u001b[0m \u001b[38;5;28mprint\u001b[39m(students) \n\u001b[1;32m     43\u001b[0m fileName \u001b[38;5;241m=\u001b[39m pyip\u001b[38;5;241m.\u001b[39minputFilename(\u001b[38;5;124m\"\u001b[39m\u001b[38;5;124m請輸入檔案名稱(不用輸入副檔名稱)：\u001b[39m\u001b[38;5;124m\"\u001b[39m)\n\u001b[0;32m---> 44\u001b[0m \u001b[43msaveToCSV\u001b[49m\u001b[43m(\u001b[49m\u001b[43mfileName\u001b[49m\u001b[38;5;241;43m=\u001b[39;49m\u001b[43mfileName\u001b[49m\u001b[43m,\u001b[49m\u001b[43mdata\u001b[49m\u001b[38;5;241;43m=\u001b[39;49m\u001b[43mstudents\u001b[49m\u001b[43m)\u001b[49m\n",
      "Cell \u001b[0;32mIn[4], line 34\u001b[0m, in \u001b[0;36msaveToCSV\u001b[0;34m(fileName, data)\u001b[0m\n\u001b[1;32m     32\u001b[0m \u001b[38;5;28;01mwith\u001b[39;00m \u001b[38;5;28mopen\u001b[39m(fileName,mode \u001b[38;5;241m=\u001b[39m \u001b[38;5;124m'\u001b[39m\u001b[38;5;124mw\u001b[39m\u001b[38;5;124m'\u001b[39m,encoding \u001b[38;5;241m=\u001b[39m \u001b[38;5;124m'\u001b[39m\u001b[38;5;124mutf-8\u001b[39m\u001b[38;5;124m'\u001b[39m,newline\u001b[38;5;241m=\u001b[39m\u001b[38;5;124m'\u001b[39m\u001b[38;5;124m'\u001b[39m) \u001b[38;5;28;01mas\u001b[39;00m file:\n\u001b[1;32m     33\u001b[0m     writer \u001b[38;5;241m=\u001b[39m csv\u001b[38;5;241m.\u001b[39mwriter(file)\n\u001b[0;32m---> 34\u001b[0m     \u001b[43mwriter\u001b[49m\u001b[38;5;241;43m.\u001b[39;49m\u001b[43mwriterrows\u001b[49m(data)\n",
      "\u001b[0;31mAttributeError\u001b[0m: '_csv.writer' object has no attribute 'writerrows'"
     ]
    }
   ],
   "source": [
    "#csv模組\n",
    "'''csv模組裡面有兩個function：\n",
    "csv.reader()\n",
    "csv.writer()'''\n",
    "\n",
    "import random\n",
    "import pyinputplus as pyip\n",
    "import csv\n",
    "\n",
    "def getStudents(stuNum:int,scoreNum:int) -> list[list]:\n",
    "    '''\n",
    "    參數：stuNum代表學生人數；\\n\n",
    "    參數：scoreNum代表科目數。\n",
    "    '''\n",
    "\n",
    "    with open(\"names.txt\",\"r\",encoding = \"utf-8\") as f:\n",
    "        name:str = f.read()\n",
    "    nameList:list[str] = name.split('\\n')\n",
    "\n",
    "    students:list[list] = []\n",
    "    names:list[str] = random.choices(nameList,k = stuNum)\n",
    "    for name in names:\n",
    "        stu:list[int|str] = []\n",
    "        stu.append(name)\n",
    "        for score in range(scoreNum):\n",
    "            stu.append(random.randint(40,100))\n",
    "        students.append(stu)\n",
    "\n",
    "    return(students)\n",
    "def saveToCSV(fileName:str,data:list[list]) -> None:\n",
    "    fileName += \".csv\"\n",
    "    with open(fileName,mode = 'w',encoding = 'utf-8',newline='') as file:\n",
    "        writer = csv.writer(file)\n",
    "        writer.writerow()\n",
    "        writer.writerows(data)\n",
    "\n",
    "if __name__ == \"__main__\":\n",
    "    stuNum:int = pyip.inputInt(\"請輸入學生人數(1~50)：\",min = 1,max = 50)\n",
    "    print(stuNum)\n",
    "    scoreNum:int = pyip.inputInt(\"請輸入科目數(1~7)：\",min = 1,max = 7)\n",
    "    print(scoreNum)\n",
    "    students:list[list] = getStudents(stuNum,scoreNum)\n",
    "    print(students) \n",
    "    fileName = pyip.inputFilename(\"請輸入檔案名稱(不用輸入副檔名稱)：\")\n",
    "    saveToCSV(fileName=fileName,data=students)"
   ]
  }
 ],
 "metadata": {
  "kernelspec": {
   "display_name": "Python 3",
   "language": "python",
   "name": "python3"
  },
  "language_info": {
   "codemirror_mode": {
    "name": "ipython",
    "version": 3
   },
   "file_extension": ".py",
   "mimetype": "text/x-python",
   "name": "python",
   "nbconvert_exporter": "python",
   "pygments_lexer": "ipython3",
   "version": "3.10.13"
  }
 },
 "nbformat": 4,
 "nbformat_minor": 2
}
