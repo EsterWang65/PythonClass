{
 "cells": [
  {
   "cell_type": "code",
   "execution_count": null,
   "metadata": {},
   "outputs": [],
   "source": [
    "#requests module\n",
    "import requests\n",
    "\n",
    "url:str = \"https://www.moeaea.gov.tw/ECW/populace/opendata/wHandOpenData_File.ashx?set_id=248\"\n",
    "response:requests.Response = requests.get(url)  #function in requests module to get a webpage\n",
    "if response.status_code == 200:\n",
    "    print(\"下載成功\")\n",
    "    data = response.text\n",
    "    print(data)\n",
    "elif response.status_code >= 400:\n",
    "    print(\"下載失敗\") \n",
    "elif response.status_code > 200:\n",
    "    print(\"下載有問題\")\n",
    "\n"
   ]
  },
  {
   "cell_type": "code",
   "execution_count": 10,
   "metadata": {},
   "outputs": [],
   "source": [
    "import csv\n",
    "\n",
    "with open(\"再生能源發電量.csv\", 'w',encoding = \"utf-8\") as f:\n",
    "    f.write(data)\n"
   ]
  }
 ],
 "metadata": {
  "kernelspec": {
   "display_name": "Python 3",
   "language": "python",
   "name": "python3"
  },
  "language_info": {
   "codemirror_mode": {
    "name": "ipython",
    "version": 3
   },
   "file_extension": ".py",
   "mimetype": "text/x-python",
   "name": "python",
   "nbconvert_exporter": "python",
   "pygments_lexer": "ipython3",
   "version": "3.10.13"
  }
 },
 "nbformat": 4,
 "nbformat_minor": 2
}
