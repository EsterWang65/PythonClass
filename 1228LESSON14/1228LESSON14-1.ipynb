{
 "cells": [
  {
   "cell_type": "code",
   "execution_count": null,
   "metadata": {},
   "outputs": [],
   "source": [
    "#requests module\n",
    "##下載文字檔\n",
    "import requests\n",
    "\n",
    "url:str = \"https://www.moeaea.gov.tw/ECW/populace/opendata/wHandOpenData_File.ashx?set_id=248\"\n",
    "response:requests.Response = requests.get(url)  #function in requests module to get a webpage\n",
    "if response.status_code == 200:\n",
    "    print(\"下載成功\")\n",
    "    data = response.text\n",
    "    print(data)\n",
    "elif response.status_code >= 400:\n",
    "    print(\"下載失敗\") \n",
    "elif response.status_code > 200:\n",
    "    print(\"下載有問題\")\n",
    "\n"
   ]
  },
  {
   "cell_type": "code",
   "execution_count": 23,
   "metadata": {},
   "outputs": [],
   "source": [
    "import csv\n",
    "\n",
    "with open(\"再生能源發電量.csv\", 'w',encoding = \"utf-8\") as f:\n",
    "    f.write(data)\n"
   ]
  },
  {
   "cell_type": "code",
   "execution_count": 25,
   "metadata": {},
   "outputs": [
    {
     "name": "stdout",
     "output_type": "stream",
     "text": [
      "{'日期(年)': '2022', '單位': '千度', '再生能源發電量合計': '23844899', '慣常水力': '5836503', '地熱': '25008', '太陽光電': '10676988', '風力_小計': '3543061', '風力_陸域': '2082798', '風力_離岸': '1460263', '生質能_小計': '158212', '生質能_固態': '118278', '生質能_氣態': '39933', '廢棄物': '3605128'}\n"
     ]
    }
   ],
   "source": [
    "#讀取csv檔，成為python的二維資料\n",
    "import csv\n",
    "\n",
    "with open(\"再生能源發電量.csv\", 'r',encoding = \"utf-8\",newline = '') as f:\n",
    "    dict_reader = csv.DictReader(f)\n",
    "    csv_data = list(dict_reader)\n",
    "    # dict_reader = csv.DictReader(f,fieldnames = [\"日期(年)\",\"單位\",\"再生能源發電量合計\",\"慣常水力\",\"地熱\",\"太陽光電\",\n",
    "    # \"風力_小計\",\"風力_陸域\",\"風力_離岸\",\"生質能_小計\",\"生質能_固態\",\"生質能_氣態\",\"廢棄物\"])\n",
    "\n",
    "for item in csv_data:\n",
    "    if item[\"日期(年)\"] == '2022':\n",
    "        print(item)"
   ]
  },
  {
   "cell_type": "code",
   "execution_count": null,
   "metadata": {},
   "outputs": [],
   "source": [
    "import pandas as pd\n",
    "\n",
    "dataFrame = pd.DataFrame(csv_data)\n",
    "dataFrame"
   ]
  },
  {
   "cell_type": "code",
   "execution_count": null,
   "metadata": {},
   "outputs": [],
   "source": [
    "import pandas as pd\n",
    "\n",
    "dataFrame = pd.DataFrame(csv_data,columns = [\"日期(年)\",\"單位\",\"再生能源發電量合計\"])\n",
    "dataFrame"
   ]
  },
  {
   "cell_type": "code",
   "execution_count": null,
   "metadata": {},
   "outputs": [],
   "source": [
    "##下載文字檔\n",
    "import requests\n",
    "\n",
    "url:str = \"\thttps://data.moenv.gov.tw/api/v2/stat_p_90?api_key=e8dd42e6-9b8b-43f8-991e-b3dee723a52d&limit=1000&sort=ImportDate desc&format=CSV\"\n",
    "response:requests.Response = requests.get(url)  #function in requests module to get a webpage\n",
    "if response.status_code == 200:\n",
    "    print(\"下載成功\")\n",
    "    data = response.text\n",
    "    print(data)\n",
    "elif response.status_code >= 400:\n",
    "    print(\"下載失敗\") \n",
    "elif response.status_code > 200:\n",
    "    print(\"下載有問題\")"
   ]
  }
 ],
 "metadata": {
  "kernelspec": {
   "display_name": "Python 3",
   "language": "python",
   "name": "python3"
  },
  "language_info": {
   "codemirror_mode": {
    "name": "ipython",
    "version": 3
   },
   "file_extension": ".py",
   "mimetype": "text/x-python",
   "name": "python",
   "nbconvert_exporter": "python",
   "pygments_lexer": "ipython3",
   "version": "3.10.13"
  }
 },
 "nbformat": 4,
 "nbformat_minor": 2
}
