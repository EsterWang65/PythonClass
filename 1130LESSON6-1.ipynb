{
 "cells": [
  {
   "cell_type": "code",
   "execution_count": 8,
   "metadata": {},
   "outputs": [
    {
     "name": "stdout",
     "output_type": "stream",
     "text": [
      "請輸入學生分數(1~100):85\n",
      "甲\n"
     ]
    }
   ],
   "source": [
    "#多項選擇(多個條件判斷)\n",
    "'''注意：多項選擇條件判斷，會由上而下執行其中一個區塊，當確定執行某一條件判斷式的程式區塊後就會跳出去，不再繼續往下執行其他條件式區塊。\n",
    "故第一個條件判斷建議要最嚴格。'''\n",
    "##應用：請輸入學生分數0~100；0~59丁；60~69丙；70~79乙；80~89甲；90~100優\n",
    "import pyinputplus as pyip\n",
    "score = pyip.inputInt(\"請輸入學生分數(1~100):\",max=100,min=0)\n",
    "print(score)\n",
    "if score >= 90 and score <= 100:\n",
    "    print(\"優\")\n",
    "elif score >= 80 and score < 90:\n",
    "    print(\"甲\")\n",
    "elif score >= 70 and score < 80:\n",
    "    print(\"乙\")\n",
    "elif score >= 60 and score < 70:\n",
    "    print(\"丙\")\n",
    "else:\n",
    "    print(\"丁\")"
   ]
  },
  {
   "cell_type": "code",
   "execution_count": 15,
   "metadata": {},
   "outputs": [
    {
     "name": "stdout",
     "output_type": "stream",
     "text": [
      "請輸入購買金額:10000\n",
      "實付金額是: 9500.0 元\n"
     ]
    }
   ],
   "source": [
    "'''作業：\n",
    "輸入顧客購買金額，若金額在\n",
    "100000元打8折.\n",
    "50000打85折.\n",
    "30000打9折.\n",
    "10000打95折.\n",
    "輸出的結果\n",
    "請輸入購買金額:130000\n",
    "實付金額是: 104000.0 元'''\n",
    "import pyinputplus as pyip\n",
    "total = pyip.inputInt(\"請輸入購買金額:\",min=0)\n",
    "print(total)\n",
    "if total >= 100000:\n",
    "    print(\"實付金額是:\",total*0.8,\"元\")\n",
    "elif total >= 50000:\n",
    "    print(\"實付金額是:\",total*0.85,\"元\")\n",
    "elif total >= 30000:\n",
    "    print(\"實付金額是:\",total*0.9,\"元\")\n",
    "elif total >= 10000:\n",
    "    print(\"實付金額是:\",total*0.95,\"元\")\n",
    "else:\n",
    "    print(\"實付金額是:\",total,\"元\")\n"
   ]
  },
  {
   "cell_type": "code",
   "execution_count": null,
   "metadata": {},
   "outputs": [],
   "source": []
  }
 ],
 "metadata": {
  "kernelspec": {
   "display_name": "Python 3",
   "language": "python",
   "name": "python3"
  },
  "language_info": {
   "codemirror_mode": {
    "name": "ipython",
    "version": 3
   },
   "file_extension": ".py",
   "mimetype": "text/x-python",
   "name": "python",
   "nbconvert_exporter": "python",
   "pygments_lexer": "ipython3",
   "version": "3.10.13"
  }
 },
 "nbformat": 4,
 "nbformat_minor": 2
}
