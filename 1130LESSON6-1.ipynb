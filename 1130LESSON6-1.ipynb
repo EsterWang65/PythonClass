{
 "cells": [
  {
   "cell_type": "code",
   "execution_count": 8,
   "metadata": {},
   "outputs": [
    {
     "name": "stdout",
     "output_type": "stream",
     "text": [
      "請輸入學生分數(1~100):85\n",
      "甲\n"
     ]
    }
   ],
   "source": [
    "#多項選擇(多個條件判斷)\n",
    "'''注意：多項選擇條件判斷，會由上而下執行其中一個區塊，當確定執行某一條件判斷式的程式區塊後就會跳出去，不再繼續往下執行其他條件式區塊。\n",
    "故第一個條件判斷建議要最嚴格。'''\n",
    "##應用：請輸入學生分數0~100；0~59丁；60~69丙；70~79乙；80~89甲；90~100優\n",
    "import pyinputplus as pyip\n",
    "score = pyip.inputInt(\"請輸入學生分數(1~100):\",max=100,min=0)\n",
    "print(score)\n",
    "if score >= 90 and score <= 100:\n",
    "    print(\"優\")\n",
    "elif score >= 80 and score < 90:\n",
    "    print(\"甲\")\n",
    "elif score >= 70 and score < 80:\n",
    "    print(\"乙\")\n",
    "elif score >= 60 and score < 70:\n",
    "    print(\"丙\")\n",
    "else:\n",
    "    print(\"丁\")"
   ]
  },
  {
   "cell_type": "code",
   "execution_count": 4,
   "metadata": {},
   "outputs": [
    {
     "name": "stdout",
     "output_type": "stream",
     "text": [
      "請輸入購買金額:20000\n",
      "實付金額是: 19000.0 元\n"
     ]
    }
   ],
   "source": [
    "'''作業：\n",
    "輸入顧客購買金額，若金額在\n",
    "100000元打8折.\n",
    "50000打85折.\n",
    "30000打9折.\n",
    "10000打95折.\n",
    "輸出的結果\n",
    "請輸入購買金額:130000\n",
    "實付金額是: 104000.0 元'''\n",
    "import pyinputplus as pyip\n",
    "total = pyip.inputInt(\"請輸入購買金額:\",min=0)\n",
    "print(total)\n",
    "if total >= 100000:\n",
    "    print(\"實付金額是:\",total*0.8,\"元\")\n",
    "elif total >= 50000:\n",
    "    print(\"實付金額是:\",total*0.85,\"元\")\n",
    "elif total >= 30000:\n",
    "    print(\"實付金額是:\",total*0.9,\"元\")\n",
    "elif total >= 10000:\n",
    "    print(\"實付金額是:\",total*0.95,\"元\")\n",
    "else:\n",
    "    print(\"實付金額是:\",total,\"元\")\n"
   ]
  },
  {
   "cell_type": "code",
   "execution_count": 3,
   "metadata": {},
   "outputs": [
    {
     "name": "stdout",
     "output_type": "stream",
     "text": [
      "請輸入國文分數:33\n",
      "請輸入數學分數:44\n"
     ]
    }
   ],
   "source": [
    "#邏輯運算子\n",
    "##應用：國文跟數學都100獎金1000；國文數學其一100獎金500；國文數學都沒100獎金0\n",
    "import pyinputplus as pyip\n",
    "chinese = pyip.inputInt(\"請輸入國文分數:\",min = 0,max = 100)\n",
    "print(chinese)\n",
    "math = pyip.inputInt(\"請輸入數學分數:\",min = 0,max = 100)\n",
    "print(math)\n",
    "if chinese == 100 and math == 100:\n",
    "    print(\"獎金1000\")\n",
    "elif chinese == 100 or math == 100:\n",
    "    print(\"獎金500\")\n",
    "else:\n",
    "    print(\"獎金0\")"
   ]
  },
  {
   "cell_type": "code",
   "execution_count": 15,
   "metadata": {},
   "outputs": [
    {
     "name": "stdout",
     "output_type": "stream",
     "text": [
      "請輸入身高，單位為公分:155.5\n",
      "請輸入體重，單位為公斤:67.222\n",
      "\n",
      "您的BMI是27.80037\n",
      "「您的體重輕度肥胖」\n"
     ]
    }
   ],
   "source": [
    "'''作業：\n",
    "BMI值 = 體重(公斤) / 身高(公尺)的平方\n",
    "BMI < 18.5 -- 過輕\n",
    "BMI 18.5~24 -- 正常\n",
    "BMI 24~27 -- 過重\n",
    "BMI 27~30 -- 輕度肥胖\n",
    "BMI 30~35 -- 中度肥胖\n",
    "BMI >= 35 -- 重度肥胖'''\n",
    "import pyinputplus as pyip\n",
    "height = pyip.inputFloat(\"請輸入身高，單位為公分:\",min = 0)\n",
    "print(height)\n",
    "weight = pyip.inputFloat(\"請輸入體重，單位為公斤:\",min = 0)\n",
    "print(weight)\n",
    "BMI = weight / (height*0.01)**2\n",
    "if BMI < 18.5:\n",
    "    print(f\"\\n您的BMI是{BMI:.5f}\\n「您的體重過輕」\")\n",
    "elif BMI < 24:\n",
    "    print(f\"\\n您的BMI是{BMI:.5f}\\n「您的體重正常」\")\n",
    "elif BMI < 27:\n",
    "    print(f\"\\n您的BMI是{BMI:.5f}\\n「您的體重過重」\")\n",
    "elif BMI < 30:\n",
    "    print(f\"\\n您的BMI是{BMI:.5f}\\n「您的體重輕度肥胖」\")\n",
    "elif BMI < 35:\n",
    "    print(f\"\\n您的BMI是{BMI:.5f}\\n「您的體重中度肥胖」\")\n",
    "else:\n",
    "    print(f\"\\n您的BMI是{BMI:.5f}\\n「您的體重重度肥胖」\")\n"
   ]
  },
  {
   "cell_type": "code",
   "execution_count": 16,
   "metadata": {},
   "outputs": [
    {
     "name": "stdout",
     "output_type": "stream",
     "text": [
      "請輸入起始值:3\n",
      "請輸入結束值:4\n",
      "從3到4的加總是7\n"
     ]
    }
   ],
   "source": [
    "##應用：1~10加總\n",
    "start = pyip.inputInt(\"請輸入起始值:\")\n",
    "print(start)\n",
    "end = pyip.inputInt(\"請輸入結束值:\")\n",
    "print(end)\n",
    "total = 0\n",
    "for i in range(start,end + 1):\n",
    "    total += i\n",
    "print(f\"從{start}到{end}的加總是{total}\")"
   ]
  }
 ],
 "metadata": {
  "kernelspec": {
   "display_name": "Python 3",
   "language": "python",
   "name": "python3"
  },
  "language_info": {
   "codemirror_mode": {
    "name": "ipython",
    "version": 3
   },
   "file_extension": ".py",
   "mimetype": "text/x-python",
   "name": "python",
   "nbconvert_exporter": "python",
   "pygments_lexer": "ipython3",
   "version": "3.10.13"
  }
 },
 "nbformat": 4,
 "nbformat_minor": 2
}
