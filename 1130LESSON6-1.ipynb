{
 "cells": [
  {
   "cell_type": "code",
   "execution_count": 8,
   "metadata": {},
   "outputs": [
    {
     "name": "stdout",
     "output_type": "stream",
     "text": [
      "請輸入學生分數(1~100):85\n",
      "甲\n"
     ]
    }
   ],
   "source": [
    "#多項選擇(多個條件判斷)\n",
    "'''注意：多項選擇條件判斷，會由上而下執行其中一個區塊，當確定執行某一條件判斷式的程式區塊後就會跳出去，不再繼續往下執行其他條件式區塊。\n",
    "故第一個條件判斷建議要最嚴格。'''\n",
    "##應用：請輸入學生分數0~100；0~59丁；60~69丙；70~79乙；80~89甲；90~100優\n",
    "import pyinputplus as pyip\n",
    "score = pyip.inputInt(\"請輸入學生分數(1~100):\",max=100,min=0)\n",
    "print(score)\n",
    "if score >= 90 and score <= 100:\n",
    "    print(\"優\")\n",
    "elif score >= 80 and score < 90:\n",
    "    print(\"甲\")\n",
    "elif score >= 70 and score < 80:\n",
    "    print(\"乙\")\n",
    "elif score >= 60 and score < 70:\n",
    "    print(\"丙\")\n",
    "else:\n",
    "    print(\"丁\")"
   ]
  },
  {
   "cell_type": "code",
   "execution_count": 4,
   "metadata": {},
   "outputs": [
    {
     "name": "stdout",
     "output_type": "stream",
     "text": [
      "請輸入購買金額:20000\n",
      "實付金額是: 19000.0 元\n"
     ]
    }
   ],
   "source": [
    "'''作業：\n",
    "輸入顧客購買金額，若金額在\n",
    "100000元打8折.\n",
    "50000打85折.\n",
    "30000打9折.\n",
    "10000打95折.\n",
    "輸出的結果\n",
    "請輸入購買金額:130000\n",
    "實付金額是: 104000.0 元'''\n",
    "import pyinputplus as pyip\n",
    "total = pyip.inputInt(\"請輸入購買金額:\",min=0)\n",
    "print(total)\n",
    "if total >= 100000:\n",
    "    print(\"實付金額是:\",total*0.8,\"元\")\n",
    "elif total >= 50000:\n",
    "    print(\"實付金額是:\",total*0.85,\"元\")\n",
    "elif total >= 30000:\n",
    "    print(\"實付金額是:\",total*0.9,\"元\")\n",
    "elif total >= 10000:\n",
    "    print(\"實付金額是:\",total*0.95,\"元\")\n",
    "else:\n",
    "    print(\"實付金額是:\",total,\"元\")\n"
   ]
  },
  {
   "cell_type": "code",
   "execution_count": 3,
   "metadata": {},
   "outputs": [
    {
     "name": "stdout",
     "output_type": "stream",
     "text": [
      "請輸入國文分數:33\n",
      "請輸入數學分數:44\n"
     ]
    }
   ],
   "source": [
    "#邏輯運算子\n",
    "##應用：國文跟數學都100獎金1000；國文數學其一100獎金500；國文數學都沒100獎金0\n",
    "import pyinputplus as pyip\n",
    "chinese = pyip.inputInt(\"請輸入國文分數:\",min = 0,max = 100)\n",
    "print(chinese)\n",
    "math = pyip.inputInt(\"請輸入數學分數:\",min = 0,max = 100)\n",
    "print(math)\n",
    "if chinese == 100 and math == 100:\n",
    "    print(\"獎金1000\")\n",
    "elif chinese == 100 or math == 100:\n",
    "    print(\"獎金500\")\n",
    "else:\n",
    "    print(\"獎金0\")"
   ]
  },
  {
   "cell_type": "code",
   "execution_count": 15,
   "metadata": {},
   "outputs": [
    {
     "name": "stdout",
     "output_type": "stream",
     "text": [
      "請輸入身高，單位為公分:155.5\n",
      "請輸入體重，單位為公斤:67.222\n",
      "\n",
      "您的BMI是27.80037\n",
      "「您的體重輕度肥胖」\n"
     ]
    }
   ],
   "source": [
    "'''作業：\n",
    "BMI值 = 體重(公斤) / 身高(公尺)的平方\n",
    "BMI < 18.5 -- 過輕\n",
    "BMI 18.5~24 -- 正常\n",
    "BMI 24~27 -- 過重\n",
    "BMI 27~30 -- 輕度肥胖\n",
    "BMI 30~35 -- 中度肥胖\n",
    "BMI >= 35 -- 重度肥胖'''\n",
    "import pyinputplus as pyip\n",
    "height = pyip.inputFloat(\"請輸入身高，單位為公分:\",min = 0)\n",
    "print(height)\n",
    "weight = pyip.inputFloat(\"請輸入體重，單位為公斤:\",min = 0)\n",
    "print(weight)\n",
    "BMI = weight / (height*0.01)**2\n",
    "if BMI < 18.5:\n",
    "    print(f\"\\n您的BMI是{BMI:.5f}\\n「您的體重過輕」\")\n",
    "elif BMI < 24:\n",
    "    print(f\"\\n您的BMI是{BMI:.5f}\\n「您的體重正常」\")\n",
    "elif BMI < 27:\n",
    "    print(f\"\\n您的BMI是{BMI:.5f}\\n「您的體重過重」\")\n",
    "elif BMI < 30:\n",
    "    print(f\"\\n您的BMI是{BMI:.5f}\\n「您的體重輕度肥胖」\")\n",
    "elif BMI < 35:\n",
    "    print(f\"\\n您的BMI是{BMI:.5f}\\n「您的體重中度肥胖」\")\n",
    "else:\n",
    "    print(f\"\\n您的BMI是{BMI:.5f}\\n「您的體重重度肥胖」\")\n"
   ]
  },
  {
   "cell_type": "code",
   "execution_count": 2,
   "metadata": {},
   "outputs": [
    {
     "name": "stdout",
     "output_type": "stream",
     "text": [
      "請輸入起始值:4\n",
      "請輸入結束值:Number must be at minimum 4.\n",
      "請輸入結束值:4\n",
      "從4到4的加總是4\n"
     ]
    }
   ],
   "source": [
    "##應用：加總\n",
    "import pyinputplus as pyip\n",
    "start = pyip.inputInt(\"請輸入起始值:\")\n",
    "print(start)\n",
    "end = pyip.inputInt(\"請輸入結束值:\",min=start)\n",
    "print(end)\n",
    "total = 0\n",
    "for i in range(start,end + 1):\n",
    "    total += i\n",
    "print(f\"從{start}到{end}的加總是{total}\")"
   ]
  },
  {
   "cell_type": "code",
   "execution_count": 15,
   "metadata": {},
   "outputs": [
    {
     "name": "stdout",
     "output_type": "stream",
     "text": [
      "1*1=1   1*2=2   1*3=3   1*4=4   1*5=5   1*6=6   1*7=7   1*8=8   1*9=9   \n",
      "2*1=2   2*2=4   2*3=6   2*4=8   2*5=10  2*6=12  2*7=14  2*8=16  2*9=18  \n",
      "3*1=3   3*2=6   3*3=9   3*4=12  3*5=15  3*6=18  3*7=21  3*8=24  3*9=27  \n",
      "4*1=4   4*2=8   4*3=12  4*4=16  4*5=20  4*6=24  4*7=28  4*8=32  4*9=36  \n",
      "5*1=5   5*2=10  5*3=15  5*4=20  5*5=25  5*6=30  5*7=35  5*8=40  5*9=45  \n",
      "6*1=6   6*2=12  6*3=18  6*4=24  6*5=30  6*6=36  6*7=42  6*8=48  6*9=54  \n",
      "7*1=7   7*2=14  7*3=21  7*4=28  7*5=35  7*6=42  7*7=49  7*8=56  7*9=63  \n",
      "8*1=8   8*2=16  8*3=24  8*4=32  8*5=40  8*6=48  8*7=56  8*8=64  8*9=72  \n",
      "9*1=9   9*2=18  9*3=27  9*4=36  9*5=45  9*6=54  9*7=63  9*8=72  9*9=81  \n"
     ]
    }
   ],
   "source": [
    "##巢狀迴圈：九九乘法表\n",
    "for i in range(1,10):\n",
    "    for j in range(1,10):\n",
    "        print(f\"{i}*{j}={i*j:2}\",end='  ')  #系統預設靠右對齊，若要靠左對齊就在:後加上<，例:i*j:<2\n",
    "    print()"
   ]
  },
  {
   "cell_type": "code",
   "execution_count": 28,
   "metadata": {},
   "outputs": [
    {
     "name": "stdout",
     "output_type": "stream",
     "text": [
      "請輸入整數，求所有因數:10\n",
      "10的因數有:[1, 2, 5, 10]\n"
     ]
    }
   ],
   "source": [
    "##作業：求因數\n",
    "import pyinputplus as pyip\n",
    "num = pyip.inputInt(\"請輸入整數，求所有因數:\")\n",
    "print(num)\n",
    "list1 = []\n",
    "print(f\"{num}的因數有:\",end = '')\n",
    "for i in range(1,num+1):\n",
    "    if num % i == 0:\n",
    "        list1.append(i)\n",
    "print(list1)"
   ]
  }
 ],
 "metadata": {
  "kernelspec": {
   "display_name": "Python 3",
   "language": "python",
   "name": "python3"
  },
  "language_info": {
   "codemirror_mode": {
    "name": "ipython",
    "version": 3
   },
   "file_extension": ".py",
   "mimetype": "text/x-python",
   "name": "python",
   "nbconvert_exporter": "python",
   "pygments_lexer": "ipython3",
   "version": "3.10.13"
  }
 },
 "nbformat": 4,
 "nbformat_minor": 2
}
