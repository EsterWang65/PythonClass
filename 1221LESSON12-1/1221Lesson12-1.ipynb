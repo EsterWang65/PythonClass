{
 "cells": [
  {
   "cell_type": "code",
   "execution_count": 5,
   "metadata": {},
   "outputs": [
    {
     "data": {
      "text/plain": [
       "[{'姓名': '小明', '中文': 65, '英文': 78, '數學': 88, '地理': 76, '歷史': 92},\n",
       " {'姓名': '小華', '中文': 89, '英文': 66, '數學': 70, '地理': 91, '歷史': 82}]"
      ]
     },
     "execution_count": 5,
     "metadata": {},
     "output_type": "execute_result"
    }
   ],
   "source": [
    "def getStudents() -> list[dict]:\n",
    "    stu1 = {\n",
    "        \"姓名\":\"小明\",\n",
    "        \"中文\":65,\n",
    "        \"英文\":78,\n",
    "        \"數學\":88,\n",
    "        \"地理\":76,\n",
    "        \"歷史\":92\n",
    "    }\n",
    "    stu2 = {\n",
    "        \"姓名\":\"小華\",\n",
    "        \"中文\":89,\n",
    "        \"英文\":66,\n",
    "        \"數學\":70,\n",
    "        \"地理\":91,\n",
    "        \"歷史\":82\n",
    "    }\n",
    "    students = [stu1,stu2]\n",
    "    # print(students)\n",
    "    return students\n",
    "\n",
    "\n",
    "getStudents()"
   ]
  },
  {
   "cell_type": "code",
   "execution_count": 32,
   "metadata": {},
   "outputs": [
    {
     "name": "stdout",
     "output_type": "stream",
     "text": [
      "請輸入學生的人數(1~50)：3\n"
     ]
    },
    {
     "data": {
      "text/plain": [
       "[{'姓名': '簡佳樺', '中文': 73, '英文': 46, '數學': 61, '地理': 73, '歷史': 73},\n",
       " {'姓名': '陳姵彬', '中文': 72, '英文': 56, '數學': 69, '地理': 84, '歷史': 72},\n",
       " {'姓名': '楊綺芬', '中文': 57, '英文': 77, '數學': 95, '地理': 57, '歷史': 56}]"
      ]
     },
     "metadata": {},
     "output_type": "display_data"
    }
   ],
   "source": [
    "from random import randint,choices\n",
    "import pyinputplus as pyip\n",
    "\n",
    "def getStudents(nameNum:int) -> list[dict]:\n",
    "    students:list[dict] = []\n",
    "    with open(\"names.txt\",\"r\",encoding = \"utf-8\") as f:\n",
    "        name:str = f.read()\n",
    "    nameList:list[str] = name.split('\\n')\n",
    "    names:list[str] = choices(nameList, k = nameNum)\n",
    "    for i in range(len(names)):\n",
    "        stu = {\n",
    "        \"姓名\":names[i],\n",
    "        \"中文\":randint(45,100),\n",
    "        \"英文\":randint(45,100),\n",
    "        \"數學\":randint(45,100),\n",
    "        \"地理\":randint(45,100),\n",
    "        \"歷史\":randint(45,100)\n",
    "        }\n",
    "        students.append(stu)\n",
    "\n",
    "    return students\n",
    "\n",
    "stuNum:int = pyip.inputInt(\"請輸入學生的人數(1~50)：\",min = 1,max = 50)\n",
    "print(stuNum)\n",
    "students = getStudents(stuNum)\n",
    "display(students)"
   ]
  },
  {
   "cell_type": "code",
   "execution_count": 37,
   "metadata": {},
   "outputs": [
    {
     "name": "stdout",
     "output_type": "stream",
     "text": [
      "請輸入檔案名稱(不用輸入副檔名稱)：class1\n",
      "寫入成功\n"
     ]
    }
   ],
   "source": [
    "import pyinputplus as pyip\n",
    "import csv\n",
    "def save_to_csv(students:list[dict],fileName:str) -> None:\n",
    "    fileNameWithExtension:str = fileName + \".csv\"\n",
    "    with open(fileNameWithExtension,mode = 'w',encoding = \"utf-8\",newline = '') as f:\n",
    "        fieldnames = [\"姓名\",\"中文\",\"英文\",\"數學\",\"地理\",\"歷史\"]\n",
    "        writer = csv.DictWriter(f,fieldnames = fieldnames)\n",
    "        writer.writeheader()\n",
    "        writer.writerows(students)\n",
    "    print(\"寫入成功\")\n",
    "\n",
    "\n",
    "fileName = pyip.inputFilename(\"請輸入檔案名稱(不用輸入副檔名稱)：\")\n",
    "print(fileName)\n",
    "save_to_csv(students,fileName)"
   ]
  },
  {
   "cell_type": "code",
   "execution_count": 38,
   "metadata": {},
   "outputs": [
    {
     "name": "stdout",
     "output_type": "stream",
     "text": [
      "請輸入學生的人數(1~50)：3\n",
      "請輸入檔案名稱(不用輸入副檔名稱)：3\n",
      "寫入成功\n"
     ]
    }
   ],
   "source": [
    "#整合\n",
    "from random import randint,choices\n",
    "import pyinputplus as pyip\n",
    "import csv\n",
    "\n",
    "def getStudents(nameNum:int) -> list[dict]:\n",
    "    students:list[dict] = []\n",
    "    with open(\"names.txt\",\"r\",encoding = \"utf-8\") as f:\n",
    "        name:str = f.read()\n",
    "    nameList:list[str] = name.split('\\n')\n",
    "    names:list[str] = choices(nameList, k = nameNum)\n",
    "    for i in range(len(names)):\n",
    "        stu = {\n",
    "        \"姓名\":names[i],\n",
    "        \"中文\":randint(45,100),\n",
    "        \"英文\":randint(45,100),\n",
    "        \"數學\":randint(45,100),\n",
    "        \"地理\":randint(45,100),\n",
    "        \"歷史\":randint(45,100)\n",
    "        }\n",
    "        students.append(stu)\n",
    "\n",
    "    return students\n",
    "\n",
    "def save_to_csv(students:list[dict],fileName:str) -> None:\n",
    "    fileNameWithExtension:str = fileName + \".csv\"\n",
    "    with open(fileNameWithExtension,mode = 'w',encoding = \"utf-8\",newline = '') as f:\n",
    "        fieldnames = [\"姓名\",\"中文\",\"英文\",\"數學\",\"地理\",\"歷史\"]\n",
    "        writer = csv.DictWriter(f,fieldnames = fieldnames)\n",
    "        writer.writeheader()\n",
    "        writer.writerows(students)\n",
    "    print(\"寫入成功\")\n",
    "\n",
    "\n",
    "if __name__ == \"__main__\":\n",
    "    stuNum:int = pyip.inputInt(\"請輸入學生的人數(1~50)：\",min = 1,max = 50)\n",
    "    print(stuNum)\n",
    "    students = getStudents(stuNum)\n",
    "    fileName = pyip.inputFilename(\"請輸入檔案名稱(不用輸入副檔名稱)：\")\n",
    "    print(fileName)\n",
    "    save_to_csv(students,fileName)\n"
   ]
  },
  {
   "cell_type": "code",
   "execution_count": 39,
   "metadata": {},
   "outputs": [],
   "source": [
    "from openpyxl import Workbook\n",
    "\n",
    "wb = Workbook()\n",
    "ws = wb.active\n",
    "treeData = [[\"Type\",\"Leaf Color\",\"Height\"],[\"Maple\",\"Red\",549],[\"Oak\",\"Green\",783],[\"Pine\", \"Green\", 1204]]\n",
    "for row in treeData:\n",
    "    ws.append(row)\n",
    "wb.save(\"TreeData.xlsx\")"
   ]
  },
  {
   "cell_type": "code",
   "execution_count": null,
   "metadata": {},
   "outputs": [],
   "source": [
    "from openpyxl import Workbook\n",
    "\n",
    "wb = Workbook()\n",
    "ws = wb.create_sheet(\"三年5班\")\n",
    "wb.save(\"三年5班.xlsx\")"
   ]
  },
  {
   "cell_type": "code",
   "execution_count": null,
   "metadata": {},
   "outputs": [],
   "source": [
    "from openpyxl import Workbook\n",
    "\n",
    "wb = Workbook()\n",
    "ws = wb.active\n",
    "ws.title = \"三年6班\"\n",
    "wb.save(\"三年6班.xlsx\")"
   ]
  }
 ],
 "metadata": {
  "kernelspec": {
   "display_name": "Python 3",
   "language": "python",
   "name": "python3"
  },
  "language_info": {
   "codemirror_mode": {
    "name": "ipython",
    "version": 3
   },
   "file_extension": ".py",
   "mimetype": "text/x-python",
   "name": "python",
   "nbconvert_exporter": "python",
   "pygments_lexer": "ipython3",
   "version": "3.10.13"
  }
 },
 "nbformat": 4,
 "nbformat_minor": 2
}
