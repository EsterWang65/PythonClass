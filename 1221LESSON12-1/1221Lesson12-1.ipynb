{
 "cells": [
  {
   "cell_type": "code",
   "execution_count": 1,
   "metadata": {},
   "outputs": [
    {
     "data": {
      "text/plain": [
       "[{'姓名': '小明', '國文': 65, '英文': 78, '數學': 88, '地理': 76, '歷史': 92},\n",
       " {'姓名': '小華', '國文': 89, '英文': 66, '數學': 70, '地理': 91, '歷史': 82}]"
      ]
     },
     "execution_count": 1,
     "metadata": {},
     "output_type": "execute_result"
    }
   ],
   "source": [
    "#二維資料\n",
    "def getStudents() -> list[dict]:  #二維資料：list裡面有dict\n",
    "    stu1 = {\n",
    "        \"姓名\":\"小明\",\n",
    "        \"國文\":65,\n",
    "        \"英文\":78,\n",
    "        \"數學\":88,\n",
    "        \"地理\":76,\n",
    "        \"歷史\":92\n",
    "    }\n",
    "    stu2 = {\n",
    "        \"姓名\":\"小華\",\n",
    "        \"國文\":89,\n",
    "        \"英文\":66,\n",
    "        \"數學\":70,\n",
    "        \"地理\":91,\n",
    "        \"歷史\":82\n",
    "    }\n",
    "    students = [stu1,stu2]  #二維資料：list裡面有dict\n",
    "    # print(students)\n",
    "    return students\n",
    "\n",
    "\n",
    "getStudents()"
   ]
  },
  {
   "cell_type": "code",
   "execution_count": 32,
   "metadata": {},
   "outputs": [
    {
     "name": "stdout",
     "output_type": "stream",
     "text": [
      "請輸入學生的人數(1~50)：3\n"
     ]
    },
    {
     "data": {
      "text/plain": [
       "[{'姓名': '簡佳樺', '中文': 73, '英文': 46, '數學': 61, '地理': 73, '歷史': 73},\n",
       " {'姓名': '陳姵彬', '中文': 72, '英文': 56, '數學': 69, '地理': 84, '歷史': 72},\n",
       " {'姓名': '楊綺芬', '中文': 57, '英文': 77, '數學': 95, '地理': 57, '歷史': 56}]"
      ]
     },
     "metadata": {},
     "output_type": "display_data"
    }
   ],
   "source": [
    "#優化上面的應用：學生成績資料\n",
    "from random import randint,choices\n",
    "import pyinputplus as pyip\n",
    "\n",
    "def getStudents(nameNum:int) -> list[dict]:\n",
    "    students:list[dict] = []\n",
    "    with open(\"names.txt\",\"r\",encoding = \"utf-8\") as f:\n",
    "        name:str = f.read()\n",
    "    nameList:list[str] = name.split('\\n')\n",
    "    names:list[str] = choices(nameList, k = nameNum)\n",
    "    for i in range(len(names)):\n",
    "        stu = {\n",
    "        \"姓名\":names[i],\n",
    "        \"國文\":randint(45,100),\n",
    "        \"英文\":randint(45,100),\n",
    "        \"數學\":randint(45,100),\n",
    "        \"地理\":randint(45,100),\n",
    "        \"歷史\":randint(45,100)\n",
    "        }\n",
    "        students.append(stu)\n",
    "\n",
    "    return students\n",
    "\n",
    "stuNum:int = pyip.inputInt(\"請輸入學生的人數(1~50)：\",min = 1,max = 50)\n",
    "print(stuNum)\n",
    "students = getStudents(stuNum)\n",
    "display(students)"
   ]
  },
  {
   "cell_type": "code",
   "execution_count": 37,
   "metadata": {},
   "outputs": [
    {
     "name": "stdout",
     "output_type": "stream",
     "text": [
      "請輸入檔案名稱(不用輸入副檔名稱)：class1\n",
      "寫入成功\n"
     ]
    }
   ],
   "source": [
    "#應用：將python二維資料(list[dict])存為csv檔\n",
    "'''內建csv模組專門在做檔案讀取及寫入，裡面有兩個物件實體reader及writer可讀取及寫入序列。\n",
    "也可透過DictReader及DictWriter class使用dict讀取及寫入資料：\n",
    "csv.DictReader()此函數為建立一物件，其運作就如一般讀取器，但可將每一列資訊map(對映)到dict中，可透過選填的參數fieldnames設定key；\n",
    "csv.DictWriter()此函數為建立一物件，其運作就如一般寫入器，但可將dictionary map到輸出列上，\n",
    "參數fieldnames是一個鍵值的sequencce且可辨識dict中傳遞至writerow() method寫入至檔案中的值。\n",
    "注意：csv.DictWriter()此函數的參數fieldnames並非是選填的，若傳遞至fieldnames的引述是個疊代器，則會被迫成為一list。\n",
    "注意：csv.reader/csv.writer為函數，而DictReader及DictWriter為class，是可以建立物件的。'''\n",
    "import pyinputplus as pyip\n",
    "import csv\n",
    "\n",
    "def save_to_csv(students:list[dict],fileName:str) -> None:\n",
    "    fileNameWithExtension:str = fileName + \".csv\"\n",
    "    with open(fileNameWithExtension,mode = 'w',encoding = \"utf-8\",newline = '') as f:\n",
    "        fieldnames = [\"姓名\",\"國文\",\"英文\",\"數學\",\"地理\",\"歷史\"]  #欄位(header)\n",
    "        writer = csv.DictWriter(f,fieldnames = fieldnames)  \n",
    "        writer.writeheader()  #此函數會把定義好的欄位(dieldnames = ...)寫進去檔案\n",
    "        writer.writerows(students)  #此函數可一次寫入多列(二維list或dict)，故可不用.writerow(可寫入一維list或dict)搭配迴圈一列一列寫入\n",
    "    print(\"寫入成功\")\n",
    "\n",
    "\n",
    "fileName = pyip.inputFilename(\"請輸入檔案名稱(不用輸入副檔名稱)：\")\n",
    "print(fileName)\n",
    "save_to_csv(students,fileName)"
   ]
  },
  {
   "cell_type": "code",
   "execution_count": 38,
   "metadata": {},
   "outputs": [
    {
     "name": "stdout",
     "output_type": "stream",
     "text": [
      "請輸入學生的人數(1~50)：3\n",
      "請輸入檔案名稱(不用輸入副檔名稱)：3\n",
      "寫入成功\n"
     ]
    }
   ],
   "source": [
    "#整合以上兩段程式\n",
    "from random import randint,choices\n",
    "import pyinputplus as pyip\n",
    "import csv\n",
    "\n",
    "def getStudents(nameNum:int) -> list[dict]:\n",
    "    students:list[dict] = []\n",
    "    with open(\"names.txt\",\"r\",encoding = \"utf-8\") as f:\n",
    "        name:str = f.read()\n",
    "    nameList:list[str] = name.split('\\n')\n",
    "    names:list[str] = choices(nameList, k = nameNum)\n",
    "    for i in range(len(names)):\n",
    "        stu = {\n",
    "        \"姓名\":names[i],\n",
    "        \"國文\":randint(45,100),\n",
    "        \"英文\":randint(45,100),\n",
    "        \"數學\":randint(45,100),\n",
    "        \"地理\":randint(45,100),\n",
    "        \"歷史\":randint(45,100)\n",
    "        }\n",
    "        students.append(stu)\n",
    "\n",
    "    return students\n",
    "\n",
    "def save_to_csv(students:list[dict],fileName:str) -> None:\n",
    "    fileNameWithExtension:str = fileName + \".csv\"\n",
    "    with open(fileNameWithExtension,mode = 'w',encoding = \"utf-8\",newline = '') as f:\n",
    "        fieldnames = [\"姓名\",\"國文\",\"英文\",\"數學\",\"地理\",\"歷史\"]\n",
    "        writer = csv.DictWriter(f,fieldnames = fieldnames)\n",
    "        writer.writeheader()\n",
    "        writer.writerows(students)\n",
    "    print(\"寫入成功\")\n",
    "\n",
    "\n",
    "if __name__ == \"__main__\":\n",
    "    stuNum:int = pyip.inputInt(\"請輸入學生的人數(1~50)：\",min = 1,max = 50)\n",
    "    print(stuNum)\n",
    "    students = getStudents(stuNum)\n",
    "    fileName = pyip.inputFilename(\"請輸入檔案名稱(不用輸入副檔名稱)：\")\n",
    "    print(fileName)\n",
    "    save_to_csv(students,fileName)\n"
   ]
  },
  {
   "cell_type": "code",
   "execution_count": 39,
   "metadata": {},
   "outputs": [],
   "source": [
    "#openpyxl模組\n",
    "'''以上的程式最終會將資料存為csv檔，當要將資料傳給他人時，即便csv檔也可用excel打開，\n",
    "但若能直接存成xlsx檔會更好。不過目前python內建程式沒辦法做到存成xlsx檔，故下載外部模組openpyxl來幫助資料存為xlsx檔案。\n",
    "注意：因此模組為外部模組，故要記得先行下載安裝，並在requirements.txt打上此模組名稱以提醒其他程式使用者要記得下載。'''\n",
    "\n",
    "##建立workbook\n",
    "'''To start, let's ;load in openpyxl and create a new workbook, and get the active sheet.\n",
    "We'ii also enter our tree data. Finally we can add it to the sheet.'''\n",
    "\n",
    "from openpyxl import Workbook  #load in openpyxl\n",
    "\n",
    "wb = Workbook()  #create a new workbook(excel檔)\n",
    "ws = wb.active  #get the active sheet(一個活頁簿)\n",
    "treeData = [[\"Type\",\"Leaf Color\",\"Height\"],[\"Maple\",\"Red\",549],[\"Oak\",\"Green\",783],[\"Pine\", \"Green\", 1204]]\n",
    "for row in treeData:\n",
    "    ws.append(row)  #enter our tree data\n",
    "wb.save(\"TreeData.xlsx\")  #add it to the sheet"
   ]
  },
  {
   "cell_type": "code",
   "execution_count": 41,
   "metadata": {},
   "outputs": [],
   "source": [
    "from openpyxl import Workbook\n",
    "\n",
    "wb = Workbook()\n",
    "ws = wb.create_sheet(\"三年5班\")\n",
    "wb.save(\"三年5班.xlsx\")"
   ]
  },
  {
   "cell_type": "code",
   "execution_count": 40,
   "metadata": {},
   "outputs": [],
   "source": [
    "from openpyxl import Workbook\n",
    "\n",
    "wb = Workbook()\n",
    "ws = wb.active\n",
    "ws.title = \"三年6班\"\n",
    "ws['A1'] = \"姓名\"\n",
    "ws['B1'] = \"國文\"\n",
    "ws['C1'] = \"英文\"\n",
    "ws['D1'] = \"數學\"\n",
    "ws['E1'] = \"地理\"\n",
    "ws['F1'] = \"歷史\"\n",
    "wb.save(\"三年6班.xlsx\")"
   ]
  }
 ],
 "metadata": {
  "kernelspec": {
   "display_name": "Python 3",
   "language": "python",
   "name": "python3"
  },
  "language_info": {
   "codemirror_mode": {
    "name": "ipython",
    "version": 3
   },
   "file_extension": ".py",
   "mimetype": "text/x-python",
   "name": "python",
   "nbconvert_exporter": "python",
   "pygments_lexer": "ipython3",
   "version": "3.10.13"
  }
 },
 "nbformat": 4,
 "nbformat_minor": 2
}
