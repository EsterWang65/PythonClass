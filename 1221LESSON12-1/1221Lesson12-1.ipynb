{
 "cells": [
  {
   "cell_type": "code",
   "execution_count": 5,
   "metadata": {},
   "outputs": [
    {
     "data": {
      "text/plain": [
       "[{'姓名': '小明', '中文': 65, '英文': 78, '數學': 88, '地理': 76, '歷史': 92},\n",
       " {'姓名': '小華', '中文': 89, '英文': 66, '數學': 70, '地理': 91, '歷史': 82}]"
      ]
     },
     "execution_count": 5,
     "metadata": {},
     "output_type": "execute_result"
    }
   ],
   "source": [
    "def getStudents() -> list[dict]:\n",
    "    stu1 = {\n",
    "        \"姓名\":\"小明\",\n",
    "        \"中文\":65,\n",
    "        \"英文\":78,\n",
    "        \"數學\":88,\n",
    "        \"地理\":76,\n",
    "        \"歷史\":92\n",
    "    }\n",
    "    stu2 = {\n",
    "        \"姓名\":\"小華\",\n",
    "        \"中文\":89,\n",
    "        \"英文\":66,\n",
    "        \"數學\":70,\n",
    "        \"地理\":91,\n",
    "        \"歷史\":82\n",
    "    }\n",
    "    students = [stu1,stu2]\n",
    "    # print(students)\n",
    "    return students\n",
    "\n",
    "\n",
    "getStudents()"
   ]
  },
  {
   "cell_type": "code",
   "execution_count": 27,
   "metadata": {},
   "outputs": [
    {
     "data": {
      "text/plain": [
       "[{'姓名': '林詠斌', '中文': 83, '英文': 67, '數學': 68, '地理': 49, '歷史': 91},\n",
       " {'姓名': '盧必妍', '中文': 50, '英文': 51, '數學': 57, '地理': 100, '歷史': 52},\n",
       " {'姓名': '許淑婷', '中文': 74, '英文': 82, '數學': 97, '地理': 69, '歷史': 81}]"
      ]
     },
     "execution_count": 27,
     "metadata": {},
     "output_type": "execute_result"
    }
   ],
   "source": [
    "from random import randint,choices\n",
    "\n",
    "def getStudents(nameNum:int) -> list[dict]:\n",
    "    students:list[dict] = []\n",
    "    with open(\"names.txt\",\"r\",encoding = \"utf-8\") as f:\n",
    "        name:str = f.read()\n",
    "    nameList:list[str] = name.split('\\n')\n",
    "    names:list[str] = choices(nameList, k = nameNum)\n",
    "    for i in range(len(names)):\n",
    "        stu = {\n",
    "        \"姓名\":names[i],\n",
    "        \"中文\":randint(45,100),\n",
    "        \"英文\":randint(45,100),\n",
    "        \"數學\":randint(45,100),\n",
    "        \"地理\":randint(45,100),\n",
    "        \"歷史\":randint(45,100)\n",
    "        }\n",
    "        students.append(stu)\n",
    "\n",
    "    return students\n",
    "\n",
    "\n",
    "getStudents(3)"
   ]
  }
 ],
 "metadata": {
  "kernelspec": {
   "display_name": "Python 3",
   "language": "python",
   "name": "python3"
  },
  "language_info": {
   "codemirror_mode": {
    "name": "ipython",
    "version": 3
   },
   "file_extension": ".py",
   "mimetype": "text/x-python",
   "name": "python",
   "nbconvert_exporter": "python",
   "pygments_lexer": "ipython3",
   "version": "3.10.13"
  }
 },
 "nbformat": 4,
 "nbformat_minor": 2
}
