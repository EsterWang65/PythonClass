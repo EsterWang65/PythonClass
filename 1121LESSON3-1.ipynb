{
 "cells": [
  {
   "cell_type": "code",
   "execution_count": 5,
   "metadata": {},
   "outputs": [
    {
     "name": "stdout",
     "output_type": "stream",
     "text": [
      "2\n",
      "3\n",
      "4\n",
      "7\n"
     ]
    }
   ],
   "source": [
    "#內建輸入函數\n",
    "##基本架構:input()，()內可輸入參數(注意:只能為字串)作為提示文字(input(prompt))，會顯示於螢幕上。系統預設使用者輸入之值皆為字串型態。\n",
    "a = input(\"請輸入a的值:\")  ##a的值為字串型態\n",
    "print(a)\n",
    "n = int(input(\"請輸入n的值:\"))  ##將輸入之字串轉型別成整數型態\n",
    "print(n)\n",
    "m = int(input(\"請輸入m的值:\"))\n",
    "print(m)\n",
    "total = n + m\n",
    "print(total)"
   ]
  },
  {
   "cell_type": "code",
   "execution_count": 10,
   "metadata": {},
   "outputs": [
    {
     "name": "stdout",
     "output_type": "stream",
     "text": [
      "5\n"
     ]
    }
   ],
   "source": [
    "#內建轉型別函數\n",
    "'''若欲使用函數將值轉型別為整數(int())，但使用者輸入之值為浮點數時，就會顯示錯誤。\n",
    "此時就須先將輸入之值從字串轉為浮點數，再轉為整數 --> int(float(input()))。\n",
    "或是可以用函數eval()，此函數可將值轉換為整數或浮點數。系統會自動偵測輸入之字串值為整數或浮點數型態，並將其轉換為相對應之型態。'''\n",
    "n = eval(input(\"請輸入n的值:\"))\n",
    "print(n)"
   ]
  },
  {
   "cell_type": "code",
   "execution_count": 14,
   "metadata": {},
   "outputs": [
    {
     "name": "stdout",
     "output_type": "stream",
     "text": [
      "3\n",
      "5 22 ab 3.1415\n",
      "3.15 + 4.567 = 7.7170000000000005\n"
     ]
    }
   ],
   "source": [
    "#輸出函數print()\n",
    "##可以有多個引數值，且可為不同型態。若有多個引數時，系統預設會用空格將引數值做區隔。\n",
    "print(3)  #一個引數值\n",
    "print(5, \"22\", \"ab\", 3.1415)  #多個引數值\n",
    "##變數輸出應用\n",
    "n = eval(input(\"請輸入n的值:\"))\n",
    "m = eval(input(\"請輸入m的值:\"))\n",
    "total = n + m\n",
    "print(n, \"+\", m, \"=\", total)\n",
    "##上行的輸出中有字串又有變數情況下，執行結果會預設用空格隔開兩引數。若是不想有空白則可用字串插捕將字串及變數做整合。"
   ]
  },
  {
   "cell_type": "code",
   "execution_count": 6,
   "metadata": {},
   "outputs": [
    {
     "name": "stdout",
     "output_type": "stream",
     "text": [
      "3.15+4.567=7.7170000000000005\n",
      "3.15+4.567=7.72\n"
     ]
    }
   ],
   "source": [
    "#字串插補\n",
    "'''基本架構：f\"{變數}字串\"(f為format格式的意思)，可想為是字串的格式化。\n",
    "透過字串差補可將字串和變數整合成為一全新的字串，用法為將內容中的變數用{}包裹使其轉為字串型態，\n",
    "再用單或雙引號將所有內容包起來使其成為全新的字串，此時原變數與原字串間不會再有空格。'''\n",
    "n = eval(input(\"請輸入n的值:\"))\n",
    "m = eval(input(\"請輸入m的值:\"))\n",
    "total = n + m\n",
    "print(f\"{n}+{m}={total}\")\n",
    "print(f\"{n}+{m}={total:.2f}\") #輸出至小數點第二位(字串格式化)"
   ]
  },
  {
   "cell_type": "code",
   "execution_count": 20,
   "metadata": {},
   "outputs": [
    {
     "name": "stdout",
     "output_type": "stream",
     "text": [
      "3數相加總合=6\n"
     ]
    }
   ],
   "source": [
    "total = 0\n",
    "value = eval(input(\"請輸入第1個數值:\"))\n",
    "total += value\n",
    "value = eval(input(\"請輸入第1個數值:\"))\n",
    "total += value\n",
    "value = eval(input(\"請輸入第1個數值:\"))\n",
    "total += value\n",
    "print(f\"3數相加總合={total}\")\n",
    "\n",
    "\n"
   ]
  },
  {
   "cell_type": "code",
   "execution_count": 30,
   "metadata": {},
   "outputs": [
    {
     "name": "stdout",
     "output_type": "stream",
     "text": [
      "3數相加總合=6\n"
     ]
    }
   ],
   "source": [
    "total = 0\n",
    "for i in range(3):\n",
    "    value = eval(input(\"請輸入一個數值:\"))\n",
    "    total += value\n",
    "print(f\"3數相加總合={total}\")\n"
   ]
  },
  {
   "cell_type": "code",
   "execution_count": 35,
   "metadata": {},
   "outputs": [
    {
     "name": "stdout",
     "output_type": "stream",
     "text": [
      "對邊:25，斜邊:50\n",
      "徑度為:0.5235987755982989\n",
      "角度為:30.00\n"
     ]
    }
   ],
   "source": [
    "import math #匯入math數學函數工具箱\n",
    "#應用：計算直角三角形角度\n",
    "##sinθ = 對邊/斜邊(θ為徑度)\n",
    "side = eval(input(\"請輸入對邊:\"))\n",
    "another_side = eval(input(\"請輸入斜邊:\"))\n",
    "print(f\"對邊:{side}，斜邊:{another_side}\")\n",
    "radian = math.asin(side/another_side)\n",
    "print(f\"徑度為:{radian}\")\n",
    "##角度轉換\n",
    "degree = math.degrees(radian)\n",
    "print(f\"角度為:{degree:.2f}\")\n"
   ]
  }
 ],
 "metadata": {
  "kernelspec": {
   "display_name": "Python 3",
   "language": "python",
   "name": "python3"
  },
  "language_info": {
   "codemirror_mode": {
    "name": "ipython",
    "version": 3
   },
   "file_extension": ".py",
   "mimetype": "text/x-python",
   "name": "python",
   "nbconvert_exporter": "python",
   "pygments_lexer": "ipython3",
   "version": "3.10.13"
  }
 },
 "nbformat": 4,
 "nbformat_minor": 2
}
