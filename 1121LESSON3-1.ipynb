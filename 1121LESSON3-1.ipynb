{
 "cells": [
  {
   "cell_type": "code",
   "execution_count": 1,
   "metadata": {},
   "outputs": [
    {
     "name": "stdout",
     "output_type": "stream",
     "text": [
      "2\n",
      "5\n",
      "6\n",
      "11\n"
     ]
    }
   ],
   "source": [
    "#內建輸入函數\n",
    "'''基本架構:input()為一function，()內可輸入參數(注意:只能為字串)作為提示文字(input(prompt))，會顯示於螢幕上。系統預設使用者輸入之值皆為字串型態。\n",
    "input(prompt: object = \"\", /) -> str '''\n",
    "a = input(\"請輸入a的值:\")   #a的值為字串型態\n",
    "print(a)\n",
    "n = int(input(\"請輸入n的值:\"))   #將輸入之字串轉型別成整數型態\n",
    "print(n)\n",
    "m = int(input(\"請輸入m的值:\"))\n",
    "print(m)\n",
    "total = n + m\n",
    "print(total)"
   ]
  },
  {
   "cell_type": "code",
   "execution_count": 7,
   "metadata": {},
   "outputs": [
    {
     "name": "stdout",
     "output_type": "stream",
     "text": [
      "5555555555555\n"
     ]
    }
   ],
   "source": [
    "#內建轉型別函數\n",
    "'''若欲使用函數將(輸入)值轉型別為整數(int())，但若使用者輸入之值為浮點數(如6.5)時，就會顯示錯誤。\n",
    "錯誤訊息為ValueError: invalid literal for int() with base 10: '6.5'。\n",
    "此時就須先將輸入之值從字串轉為浮點數，再轉為整數 --> int(float(input()))。\n",
    "或是可以用函數eval()，此函數可將值轉換為整數或浮點數。系統會自動偵測輸入之字串值為整數或浮點數型態，並將其轉換為相對應之型態。\n",
    "注意：僅能偵測int以及float該類的數值，若是輸入str(如c)便會顯示錯誤。\n",
    "錯誤訊息為NameError: name 'c' is not defined。'''\n",
    "n = eval(input(\"請輸入n的值:\"))\n",
    "print(n)"
   ]
  },
  {
   "cell_type": "code",
   "execution_count": 1,
   "metadata": {
    "metadata": {}
   },
   "outputs": [
    {
     "name": "stdout",
     "output_type": "stream",
     "text": [
      "3\n",
      "5 22 ab 3.1415\n",
      "5 + 6 = 11\n"
     ]
    }
   ],
   "source": [
    "#輸出函數print()\n",
    "'''print(*objects, sep=' ', end='\\n', file=None, flush=False)，\n",
    "其中參數*objects代表可以有多個引數值(*表沒有限定數量)，且可為不同型態。若有多個引數時，系統預設會用空格將引數值做區隔(sep = ' ')；\n",
    "參數sep表以()內的值分隔不同引數，預設為空白，只能為str；參數end表如何結尾，預設為換行，只能為str。'''\n",
    "print(3)  #一個引數值\n",
    "print(5, \"22\", \"ab\", 3.1415)  #多個引數值\n",
    "\n",
    "##變數輸出應用\n",
    "n = eval(input(\"請輸入n的值：\"))\n",
    "m = eval(input(\"請輸入m的值：\"))\n",
    "total = n + m\n",
    "print(n, \"+\", m, \"=\", total)\n",
    "##上行的輸出中有字串又有變數情況下，執行結果會預設用空格隔開兩引數。若是不想有空白則可用字串插捕將字串及變數做整合。"
   ]
  },
  {
   "cell_type": "code",
   "execution_count": 4,
   "metadata": {
    "metadata": {}
   },
   "outputs": [
    {
     "name": "stdout",
     "output_type": "stream",
     "text": [
      "3 + 3.7788888 = 6.7788888\n",
      "3+3.7788888=6.7788888\n",
      "3+3.7788888=6.78\n"
     ]
    }
   ],
   "source": [
    "#格式化的字串文本(字串插補)\n",
    "'''基本架構：f\"{變數/運算式}字串\"(f為format格式的意思)，可想為是字串的格式化。\n",
    "透過字串差補可將字串和變數/運算式整合成為一全新的字串，用法為將內容中的變數/運算式用{}包裹使其轉為字串型態，\n",
    "再用單或雙引號將所有內容包起來使其成為全新的字串並在前方加上前綴字f。注意：此時原變數/原運算式與原字串間不會再有空格。'''\n",
    "n = eval(input(\"請輸入n的值：\"))\n",
    "m = eval(input(\"請輸入m的值：\"))\n",
    "total = n + m\n",
    "print(n, \"+\", m, \"=\", total)  #未用字串插補\n",
    "print(f\"{n}+{m}={total}\")  #字串插補為將\"\"內的內容整合視為一字串，故不會有空格隔開\n",
    "print(f\"{n}+{m}={total:.2f}\")  #輸出至小數點第二位(四捨五入)(字串格式化輸入/輸出)"
   ]
  },
  {
   "cell_type": "code",
   "execution_count": 5,
   "metadata": {
    "metadata": {}
   },
   "outputs": [
    {
     "name": "stdout",
     "output_type": "stream",
     "text": [
      "3數相加總合=13\n"
     ]
    }
   ],
   "source": [
    "#複合指定運算子\n",
    "##加減乘法、整數除法、浮點數除法、餘數及次方都可使用。注意:用複合指定運算子將某值指定給某變數前，該變數原先一定要有值。\n",
    "total = 0\n",
    "value = eval(input(\"請輸入第1個數值:\"))\n",
    "total += value\n",
    "value = eval(input(\"請輸入第2個數值:\"))\n",
    "total += value\n",
    "value = eval(input(\"請輸入第3個數值:\"))\n",
    "total += value\n",
    "print(f\"3數相加總合={total}\")\n",
    "\n",
    "\n"
   ]
  },
  {
   "cell_type": "code",
   "execution_count": 30,
   "metadata": {},
   "outputs": [
    {
     "name": "stdout",
     "output_type": "stream",
     "text": [
      "3數相加總合=6\n"
     ]
    }
   ],
   "source": [
    "##上個例子(3數相加)的迴圈寫法\n",
    "total = 0\n",
    "for i in range(3):\n",
    "    value = eval(input(\"請輸入一個數值:\"))\n",
    "    total += value\n",
    "print(f\"3數相加總合={total}\")\n"
   ]
  },
  {
   "cell_type": "code",
   "execution_count": 11,
   "metadata": {},
   "outputs": [
    {
     "name": "stdout",
     "output_type": "stream",
     "text": [
      "對邊:1，斜邊:1\n",
      "徑度為:1.5707963267948966\n",
      "角度為:90.00\n",
      "3.141592653589793\n",
      "2.718281828459045\n"
     ]
    }
   ],
   "source": [
    "#內建數學函數\n",
    "'''簡單的數學運算(加減乘除...)可直接輸入數學運算子做運算；而較複雜的運算則可套用內建的數學函數，\n",
    "這些函數定義在數值與數學模組中的各式不同模塊(如數學函式math、分數fraction、生成偽隨機數random等)底下。\n",
    "注意:在使用這些函數之前一定要記得先匯入模塊(import 模塊名稱)。'''\n",
    "\n",
    "import math  #匯入math數學函式模塊\n",
    "\n",
    "##應用：計算直角三角形斜邊及底邊夾角的角度。公式: sinθ = 對邊/斜邊 (θ:徑度/弧度) --> θ = asin(對邊/斜邊) --> 角度\n",
    "side = eval(input(\"請輸入對邊:\"))\n",
    "another_side = eval(input(\"請輸入斜邊:\"))\n",
    "print(f\"對邊：{side}，斜邊：{another_side}\")\n",
    "radian = math.asin(side/another_side)  #side/another_side為此asin()函數的引數值(參數)\n",
    "print(f\"徑度為:{radian}\")\n",
    "\n",
    "##將徑度轉換為角度\n",
    "degree = math.degrees(radian)  #radian為此degrees()函數的引數值(參數)\n",
    "print(f\"角度為:{degree:.2f}\")\n",
    "\n",
    "##常數\n",
    "###數學函式(math)中除了有函數外，也提供了一些特定變數，統稱為常數。注意:函數有()，而變數沒有。\n",
    "print(math.pi)\n",
    "print(math.e)\n"
   ]
  }
 ],
 "metadata": {
  "kernelspec": {
   "display_name": "Python 3",
   "language": "python",
   "name": "python3"
  },
  "language_info": {
   "codemirror_mode": {
    "name": "ipython",
    "version": 3
   },
   "file_extension": ".py",
   "mimetype": "text/x-python",
   "name": "python",
   "nbconvert_exporter": "python",
   "pygments_lexer": "ipython3",
   "version": "3.10.14"
  }
 },
 "nbformat": 4,
 "nbformat_minor": 2
}
